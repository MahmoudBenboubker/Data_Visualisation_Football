{
 "cells": [
  {
   "cell_type": "code",
   "execution_count": 47,
   "metadata": {
    "colab": {
     "base_uri": "https://localhost:8080/"
    },
    "id": "5w8jgxeHxG8N",
    "outputId": "2207cb38-6eca-42de-c7a6-eabc3e74be19"
   },
   "outputs": [
    {
     "ename": "ModuleNotFoundError",
     "evalue": "No module named 'google.colab'",
     "output_type": "error",
     "traceback": [
      "\u001b[1;31m---------------------------------------------------------------------------\u001b[0m",
      "\u001b[1;31mModuleNotFoundError\u001b[0m                       Traceback (most recent call last)",
      "\u001b[1;32m<ipython-input-47-4996ee3d8d09>\u001b[0m in \u001b[0;36m<module>\u001b[1;34m\u001b[0m\n\u001b[1;32m----> 1\u001b[1;33m \u001b[1;32mfrom\u001b[0m \u001b[0mgoogle\u001b[0m\u001b[1;33m.\u001b[0m\u001b[0mcolab\u001b[0m \u001b[1;32mimport\u001b[0m \u001b[0mdrive\u001b[0m\u001b[1;33m\u001b[0m\u001b[1;33m\u001b[0m\u001b[0m\n\u001b[0m\u001b[0;32m      2\u001b[0m \u001b[0mdrive\u001b[0m\u001b[1;33m.\u001b[0m\u001b[0mmount\u001b[0m\u001b[1;33m(\u001b[0m\u001b[1;34m'/content/gdrive'\u001b[0m\u001b[1;33m)\u001b[0m\u001b[1;33m\u001b[0m\u001b[1;33m\u001b[0m\u001b[0m\n",
      "\u001b[1;31mModuleNotFoundError\u001b[0m: No module named 'google.colab'"
     ]
    }
   ],
   "source": [
    "from google.colab import drive\n",
    "drive.mount('/content/gdrive')"
   ]
  },
  {
   "cell_type": "code",
   "execution_count": 69,
   "metadata": {
    "id": "jmcZgiBuC4yo"
   },
   "outputs": [],
   "source": [
    "import sys\n",
    "from zipfile import ZipFile\n",
    "import os.path as op"
   ]
  },
  {
   "cell_type": "code",
   "execution_count": 70,
   "metadata": {
    "id": "4RLMKY0jI8YP"
   },
   "outputs": [
    {
     "name": "stderr",
     "output_type": "stream",
     "text": [
      "unzip:  cannot find either datasets.zip or datasets.zip.zip.\n"
     ]
    }
   ],
   "source": [
    "!unzip datasets.zip"
   ]
  },
  {
   "cell_type": "code",
   "execution_count": 71,
   "metadata": {
    "id": "kwRM5WkKzZ4W"
   },
   "outputs": [],
   "source": [
    "import glob, os, re\n",
    "import sys\n",
    "from zipfile import ZipFile\n",
    "import os.path as op\n",
    "import pandas as pd\n",
    "from collections import defaultdict\n",
    "import csv\n",
    "import numpy as np\n",
    "import pandas as pd\n",
    "import seaborn as sns\n",
    "import matplotlib.pyplot as plt\n",
    "import datetime\n",
    "import json\n",
    "import plotly.express as px\n",
    "import plotly.graph_objects as go\n",
    "from sklearn.preprocessing import OneHotEncoder\n",
    "from sklearn.cluster import KMeans\n",
    "from sklearn.decomposition import PCA\n",
    "from sklearn.cluster import SpectralClustering\n",
    "from sklearn.mixture import GaussianMixture\n",
    "from sklearn.neighbors import NearestNeighbors"
   ]
  },
  {
   "cell_type": "markdown",
   "metadata": {
    "id": "Ggu7JEia4jtb"
   },
   "source": [
    "# **read data to pandas Data frame**"
   ]
  },
  {
   "cell_type": "code",
   "execution_count": 72,
   "metadata": {
    "id": "btU_xVHLsYrM"
   },
   "outputs": [],
   "source": [
    "df = pd.read_csv('players.csv')"
   ]
  },
  {
   "cell_type": "code",
   "execution_count": 73,
   "metadata": {
    "colab": {
     "base_uri": "https://localhost:8080/",
     "height": 299
    },
    "id": "rBtI_xwmtVCj",
    "outputId": "0b6e0fd0-3bf2-4865-c0a7-13e12c0fbf94"
   },
   "outputs": [
    {
     "data": {
      "text/html": [
       "<div>\n",
       "<style scoped>\n",
       "    .dataframe tbody tr th:only-of-type {\n",
       "        vertical-align: middle;\n",
       "    }\n",
       "\n",
       "    .dataframe tbody tr th {\n",
       "        vertical-align: top;\n",
       "    }\n",
       "\n",
       "    .dataframe thead th {\n",
       "        text-align: right;\n",
       "    }\n",
       "</style>\n",
       "<table border=\"1\" class=\"dataframe\">\n",
       "  <thead>\n",
       "    <tr style=\"text-align: right;\">\n",
       "      <th></th>\n",
       "      <th>id</th>\n",
       "      <th>player_name</th>\n",
       "      <th>games</th>\n",
       "      <th>time</th>\n",
       "      <th>goals</th>\n",
       "      <th>xG</th>\n",
       "      <th>assists</th>\n",
       "      <th>xA</th>\n",
       "      <th>shots</th>\n",
       "      <th>key_passes</th>\n",
       "      <th>...</th>\n",
       "      <th>npg</th>\n",
       "      <th>npxG</th>\n",
       "      <th>xGChain</th>\n",
       "      <th>xGBuildup</th>\n",
       "      <th>id_player</th>\n",
       "      <th>GK</th>\n",
       "      <th>S</th>\n",
       "      <th>M</th>\n",
       "      <th>D</th>\n",
       "      <th>F</th>\n",
       "    </tr>\n",
       "  </thead>\n",
       "  <tbody>\n",
       "    <tr>\n",
       "      <th>0</th>\n",
       "      <td>356_14-15_bundesliga</td>\n",
       "      <td>Alexander Meier</td>\n",
       "      <td>26</td>\n",
       "      <td>2209</td>\n",
       "      <td>19</td>\n",
       "      <td>15.395941</td>\n",
       "      <td>2</td>\n",
       "      <td>1.268694</td>\n",
       "      <td>80</td>\n",
       "      <td>22</td>\n",
       "      <td>...</td>\n",
       "      <td>16</td>\n",
       "      <td>12.364834</td>\n",
       "      <td>12.408789</td>\n",
       "      <td>1.915658</td>\n",
       "      <td>356</td>\n",
       "      <td>0</td>\n",
       "      <td>1</td>\n",
       "      <td>1</td>\n",
       "      <td>0</td>\n",
       "      <td>1</td>\n",
       "    </tr>\n",
       "    <tr>\n",
       "      <th>1</th>\n",
       "      <td>227_14-15_bundesliga</td>\n",
       "      <td>Robert Lewandowski</td>\n",
       "      <td>31</td>\n",
       "      <td>2493</td>\n",
       "      <td>17</td>\n",
       "      <td>17.722183</td>\n",
       "      <td>5</td>\n",
       "      <td>4.644013</td>\n",
       "      <td>104</td>\n",
       "      <td>32</td>\n",
       "      <td>...</td>\n",
       "      <td>16</td>\n",
       "      <td>16.964407</td>\n",
       "      <td>23.315430</td>\n",
       "      <td>4.924822</td>\n",
       "      <td>227</td>\n",
       "      <td>0</td>\n",
       "      <td>1</td>\n",
       "      <td>1</td>\n",
       "      <td>0</td>\n",
       "      <td>1</td>\n",
       "    </tr>\n",
       "    <tr>\n",
       "      <th>2</th>\n",
       "      <td>392_14-15_bundesliga</td>\n",
       "      <td>Arjen Robben</td>\n",
       "      <td>21</td>\n",
       "      <td>1681</td>\n",
       "      <td>17</td>\n",
       "      <td>10.364112</td>\n",
       "      <td>7</td>\n",
       "      <td>7.505970</td>\n",
       "      <td>88</td>\n",
       "      <td>50</td>\n",
       "      <td>...</td>\n",
       "      <td>15</td>\n",
       "      <td>8.848720</td>\n",
       "      <td>20.820983</td>\n",
       "      <td>8.605793</td>\n",
       "      <td>392</td>\n",
       "      <td>0</td>\n",
       "      <td>1</td>\n",
       "      <td>1</td>\n",
       "      <td>1</td>\n",
       "      <td>1</td>\n",
       "    </tr>\n",
       "    <tr>\n",
       "      <th>3</th>\n",
       "      <td>158_14-15_bundesliga</td>\n",
       "      <td>Bas Dost</td>\n",
       "      <td>21</td>\n",
       "      <td>1532</td>\n",
       "      <td>16</td>\n",
       "      <td>11.341977</td>\n",
       "      <td>4</td>\n",
       "      <td>2.659186</td>\n",
       "      <td>43</td>\n",
       "      <td>15</td>\n",
       "      <td>...</td>\n",
       "      <td>16</td>\n",
       "      <td>11.341977</td>\n",
       "      <td>15.911891</td>\n",
       "      <td>2.538306</td>\n",
       "      <td>158</td>\n",
       "      <td>0</td>\n",
       "      <td>1</td>\n",
       "      <td>0</td>\n",
       "      <td>0</td>\n",
       "      <td>1</td>\n",
       "    </tr>\n",
       "    <tr>\n",
       "      <th>4</th>\n",
       "      <td>318_14-15_bundesliga</td>\n",
       "      <td>Pierre-Emerick Aubameyang</td>\n",
       "      <td>33</td>\n",
       "      <td>2724</td>\n",
       "      <td>16</td>\n",
       "      <td>15.396760</td>\n",
       "      <td>6</td>\n",
       "      <td>6.378020</td>\n",
       "      <td>102</td>\n",
       "      <td>46</td>\n",
       "      <td>...</td>\n",
       "      <td>14</td>\n",
       "      <td>13.881207</td>\n",
       "      <td>20.852728</td>\n",
       "      <td>2.512650</td>\n",
       "      <td>318</td>\n",
       "      <td>0</td>\n",
       "      <td>1</td>\n",
       "      <td>1</td>\n",
       "      <td>0</td>\n",
       "      <td>1</td>\n",
       "    </tr>\n",
       "  </tbody>\n",
       "</table>\n",
       "<p>5 rows × 24 columns</p>\n",
       "</div>"
      ],
      "text/plain": [
       "                     id                player_name  games  time  goals  \\\n",
       "0  356_14-15_bundesliga            Alexander Meier     26  2209     19   \n",
       "1  227_14-15_bundesliga         Robert Lewandowski     31  2493     17   \n",
       "2  392_14-15_bundesliga               Arjen Robben     21  1681     17   \n",
       "3  158_14-15_bundesliga                   Bas Dost     21  1532     16   \n",
       "4  318_14-15_bundesliga  Pierre-Emerick Aubameyang     33  2724     16   \n",
       "\n",
       "          xG  assists        xA  shots  key_passes  ...  npg       npxG  \\\n",
       "0  15.395941        2  1.268694     80          22  ...   16  12.364834   \n",
       "1  17.722183        5  4.644013    104          32  ...   16  16.964407   \n",
       "2  10.364112        7  7.505970     88          50  ...   15   8.848720   \n",
       "3  11.341977        4  2.659186     43          15  ...   16  11.341977   \n",
       "4  15.396760        6  6.378020    102          46  ...   14  13.881207   \n",
       "\n",
       "     xGChain xGBuildup  id_player  GK  S  M  D  F  \n",
       "0  12.408789  1.915658        356   0  1  1  0  1  \n",
       "1  23.315430  4.924822        227   0  1  1  0  1  \n",
       "2  20.820983  8.605793        392   0  1  1  1  1  \n",
       "3  15.911891  2.538306        158   0  1  0  0  1  \n",
       "4  20.852728  2.512650        318   0  1  1  0  1  \n",
       "\n",
       "[5 rows x 24 columns]"
      ]
     },
     "execution_count": 73,
     "metadata": {},
     "output_type": "execute_result"
    }
   ],
   "source": [
    "df.head()"
   ]
  },
  {
   "cell_type": "code",
   "execution_count": 74,
   "metadata": {
    "id": "3-CK_slZmU9J"
   },
   "outputs": [],
   "source": [
    "data = df[df['id'].str.contains(\"_19-20\") & df['id'].str.contains(\"_ligue1\")]"
   ]
  },
  {
   "cell_type": "code",
   "execution_count": 75,
   "metadata": {
    "id": "-AYyqIf9ZESB"
   },
   "outputs": [],
   "source": [
    "data = df"
   ]
  },
  {
   "cell_type": "code",
   "execution_count": 76,
   "metadata": {
    "colab": {
     "base_uri": "https://localhost:8080/"
    },
    "id": "TZXxi4ZKtZ8e",
    "outputId": "73bff0ed-0de0-4f16-ae7b-c88aa726ab23"
   },
   "outputs": [
    {
     "name": "stdout",
     "output_type": "stream",
     "text": [
      "<class 'pandas.core.frame.DataFrame'>\n",
      "RangeIndex: 21725 entries, 0 to 21724\n",
      "Data columns (total 24 columns):\n",
      " #   Column        Non-Null Count  Dtype  \n",
      "---  ------        --------------  -----  \n",
      " 0   id            21725 non-null  object \n",
      " 1   player_name   21725 non-null  object \n",
      " 2   games         21725 non-null  int64  \n",
      " 3   time          21725 non-null  int64  \n",
      " 4   goals         21725 non-null  int64  \n",
      " 5   xG            21725 non-null  float64\n",
      " 6   assists       21725 non-null  int64  \n",
      " 7   xA            21725 non-null  float64\n",
      " 8   shots         21725 non-null  int64  \n",
      " 9   key_passes    21725 non-null  int64  \n",
      " 10  yellow_cards  21725 non-null  int64  \n",
      " 11  red_cards     21725 non-null  int64  \n",
      " 12  position      21725 non-null  object \n",
      " 13  team_title    21725 non-null  object \n",
      " 14  npg           21725 non-null  int64  \n",
      " 15  npxG          21725 non-null  float64\n",
      " 16  xGChain       21725 non-null  float64\n",
      " 17  xGBuildup     21725 non-null  float64\n",
      " 18  id_player     21725 non-null  int64  \n",
      " 19  GK            21725 non-null  int64  \n",
      " 20  S             21725 non-null  int64  \n",
      " 21  M             21725 non-null  int64  \n",
      " 22  D             21725 non-null  int64  \n",
      " 23  F             21725 non-null  int64  \n",
      "dtypes: float64(5), int64(15), object(4)\n",
      "memory usage: 4.0+ MB\n"
     ]
    }
   ],
   "source": [
    "# Look the data information\n",
    "data.info()"
   ]
  },
  {
   "cell_type": "markdown",
   "metadata": {
    "id": "h66f33n8zyrU"
   },
   "source": [
    "#*Correlation between gools and others metrics*"
   ]
  },
  {
   "cell_type": "code",
   "execution_count": 77,
   "metadata": {
    "colab": {
     "base_uri": "https://localhost:8080/",
     "height": 884
    },
    "id": "u8wVDFjMtaAG",
    "outputId": "124878c3-9f1c-4f69-bd85-acd62bed5ceb"
   },
   "outputs": [
    {
     "data": {
      "image/png": "[encoded data removed]",
      "text/plain": [
       "<Figure size 1152x1008 with 2 Axes>"
      ]
     },
     "metadata": {
      "needs_background": "light"
     },
     "output_type": "display_data"
    }
   ],
   "source": [
    "player_characteristics =['games', 'time', 'goals', 'xG','assists', 'xA','shots', 'key_passes',\n",
    "                         'yellow_cards', 'red_cards', 'position', 'npg', 'npxG', 'xGChain', 'xGBuildup','GK','S','M','D','F']\n",
    "\n",
    "plt.figure(figsize= (16, 14))\n",
    "hm=sns.heatmap(data.loc[:, player_characteristics].corr(), annot = True, linewidths=.5, cmap='Reds')\n",
    "hm.set_title(label='Heatmap of dataset', fontsize=20)\n",
    "hm;"
   ]
  },
  {
   "cell_type": "code",
   "execution_count": 78,
   "metadata": {
    "colab": {
     "base_uri": "https://localhost:8080/",
     "height": 402
    },
    "id": "sh3JCByItaGM",
    "outputId": "77b43979-6df6-42ab-f165-3f781bf9f211"
   },
   "outputs": [
    {
     "name": "stderr",
     "output_type": "stream",
     "text": [
      "<ipython-input-78-450fda91a4cd>:6: MatplotlibDeprecationWarning: Passing non-integers as three-element position specification is deprecated since 3.3 and will be removed two minor releases later.\n",
      "  plt.subplot(len(feats)/4+1, 4, index+1)\n",
      "<ipython-input-78-450fda91a4cd>:6: MatplotlibDeprecationWarning: Passing non-integers as three-element position specification is deprecated since 3.3 and will be removed two minor releases later.\n",
      "  plt.subplot(len(feats)/4+1, 4, index+1)\n",
      "<ipython-input-78-450fda91a4cd>:6: MatplotlibDeprecationWarning: Passing non-integers as three-element position specification is deprecated since 3.3 and will be removed two minor releases later.\n",
      "  plt.subplot(len(feats)/4+1, 4, index+1)\n",
      "<ipython-input-78-450fda91a4cd>:6: MatplotlibDeprecationWarning: Passing non-integers as three-element position specification is deprecated since 3.3 and will be removed two minor releases later.\n",
      "  plt.subplot(len(feats)/4+1, 4, index+1)\n"
     ]
    },
    {
     "data": {
      "image/png": "[encoded data removed]",
      "text/plain": [
       "<Figure size 1152x1080 with 4 Axes>"
      ]
     },
     "metadata": {
      "needs_background": "light"
     },
     "output_type": "display_data"
    }
   ],
   "source": [
    "# Correlation between goals and other\n",
    "def make_scatter(df):\n",
    "    feats = ('xG', 'shots', 'npg', 'npxG')\n",
    "    \n",
    "    for index, feat in enumerate(feats):\n",
    "        plt.subplot(len(feats)/4+1, 4, index+1)\n",
    "        ax = sns.regplot(x='goals', y=feat, data=df)\n",
    "\n",
    "plt.figure(figsize=(16,15))\n",
    "plt.subplots_adjust(hspace=0.4)\n",
    "\n",
    "make_scatter(data)"
   ]
  },
  {
   "cell_type": "code",
   "execution_count": 79,
   "metadata": {
    "colab": {
     "base_uri": "https://localhost:8080/",
     "height": 403
    },
    "id": "ySXUvLOQtaJR",
    "outputId": "e9a1416e-879a-4b95-a695-b41dfd4daa78"
   },
   "outputs": [
    {
     "name": "stderr",
     "output_type": "stream",
     "text": [
      "<ipython-input-79-be8c19d9439f>:6: MatplotlibDeprecationWarning: Passing non-integers as three-element position specification is deprecated since 3.3 and will be removed two minor releases later.\n",
      "  plt.subplot(len(feats)/2+1, 2, index+1)\n",
      "<ipython-input-79-be8c19d9439f>:6: MatplotlibDeprecationWarning: Passing non-integers as three-element position specification is deprecated since 3.3 and will be removed two minor releases later.\n",
      "  plt.subplot(len(feats)/2+1, 2, index+1)\n"
     ]
    },
    {
     "data": {
      "image/png": "[encoded data removed]",
      "text/plain": [
       "<Figure size 1152x1080 with 2 Axes>"
      ]
     },
     "metadata": {
      "needs_background": "light"
     },
     "output_type": "display_data"
    }
   ],
   "source": [
    "# Correlation between key_passes and other\n",
    "def make_scatter(df):\n",
    "    feats = ('assists', 'xA')\n",
    "    \n",
    "    for index, feat in enumerate(feats):\n",
    "        plt.subplot(len(feats)/2+1, 2, index+1)\n",
    "        ax = sns.regplot(x='key_passes', y=feat, data=df)\n",
    "\n",
    "plt.figure(figsize=(16,15))\n",
    "plt.subplots_adjust(hspace=0.4)\n",
    "\n",
    "make_scatter(data)"
   ]
  },
  {
   "cell_type": "markdown",
   "metadata": {
    "id": "K855D8z0gxg5"
   },
   "source": [
    "#*Goalkeeper clustering*"
   ]
  },
  {
   "cell_type": "code",
   "execution_count": 80,
   "metadata": {
    "colab": {
     "base_uri": "https://localhost:8080/"
    },
    "id": "n3xXiA6cgw4Z",
    "outputId": "107df6b1-13ff-4c41-bfe3-aedb62012910"
   },
   "outputs": [
    {
     "data": {
      "text/plain": [
       "array(['F M S', 'D F M S', 'F S', 'F', 'M S', 'F M', 'D', 'M', 'D M S',\n",
       "       'D S', 'D M', 'GK', 'S', 'GK S', 'D F M', 'D F S', 'D F'],\n",
       "      dtype=object)"
      ]
     },
     "execution_count": 80,
     "metadata": {},
     "output_type": "execute_result"
    }
   ],
   "source": [
    "pd.unique(data[\"position\"])"
   ]
  },
  {
   "cell_type": "code",
   "execution_count": 81,
   "metadata": {
    "colab": {
     "base_uri": "https://localhost:8080/",
     "height": 590
    },
    "id": "XUQnH8nTRTnt",
    "outputId": "640f2055-612e-4dbb-e7e5-95692821bd25"
   },
   "outputs": [
    {
     "data": {
      "text/html": [
       "<div>\n",
       "<style scoped>\n",
       "    .dataframe tbody tr th:only-of-type {\n",
       "        vertical-align: middle;\n",
       "    }\n",
       "\n",
       "    .dataframe tbody tr th {\n",
       "        vertical-align: top;\n",
       "    }\n",
       "\n",
       "    .dataframe thead th {\n",
       "        text-align: right;\n",
       "    }\n",
       "</style>\n",
       "<table border=\"1\" class=\"dataframe\">\n",
       "  <thead>\n",
       "    <tr style=\"text-align: right;\">\n",
       "      <th></th>\n",
       "      <th>id</th>\n",
       "      <th>player_name</th>\n",
       "      <th>games</th>\n",
       "      <th>time</th>\n",
       "      <th>goals</th>\n",
       "      <th>xG</th>\n",
       "      <th>assists</th>\n",
       "      <th>xA</th>\n",
       "      <th>shots</th>\n",
       "      <th>key_passes</th>\n",
       "      <th>...</th>\n",
       "      <th>npg</th>\n",
       "      <th>npxG</th>\n",
       "      <th>xGChain</th>\n",
       "      <th>xGBuildup</th>\n",
       "      <th>id_player</th>\n",
       "      <th>GK</th>\n",
       "      <th>S</th>\n",
       "      <th>M</th>\n",
       "      <th>D</th>\n",
       "      <th>F</th>\n",
       "    </tr>\n",
       "  </thead>\n",
       "  <tbody>\n",
       "    <tr>\n",
       "      <th>6</th>\n",
       "      <td>341_14-15_bundesliga</td>\n",
       "      <td>Franco Di Santo</td>\n",
       "      <td>26</td>\n",
       "      <td>2301</td>\n",
       "      <td>13</td>\n",
       "      <td>9.417812</td>\n",
       "      <td>2</td>\n",
       "      <td>1.789214</td>\n",
       "      <td>54</td>\n",
       "      <td>24</td>\n",
       "      <td>...</td>\n",
       "      <td>10</td>\n",
       "      <td>6.386785</td>\n",
       "      <td>9.532525</td>\n",
       "      <td>2.385641</td>\n",
       "      <td>341</td>\n",
       "      <td>0</td>\n",
       "      <td>0</td>\n",
       "      <td>0</td>\n",
       "      <td>0</td>\n",
       "      <td>1</td>\n",
       "    </tr>\n",
       "    <tr>\n",
       "      <th>427</th>\n",
       "      <td>4339_14-15_bundesliga</td>\n",
       "      <td>Mats Møller Dæhli</td>\n",
       "      <td>2</td>\n",
       "      <td>180</td>\n",
       "      <td>0</td>\n",
       "      <td>0.048242</td>\n",
       "      <td>0</td>\n",
       "      <td>0.500316</td>\n",
       "      <td>1</td>\n",
       "      <td>3</td>\n",
       "      <td>...</td>\n",
       "      <td>0</td>\n",
       "      <td>0.048242</td>\n",
       "      <td>0.693326</td>\n",
       "      <td>0.576779</td>\n",
       "      <td>4339</td>\n",
       "      <td>0</td>\n",
       "      <td>0</td>\n",
       "      <td>0</td>\n",
       "      <td>0</td>\n",
       "      <td>1</td>\n",
       "    </tr>\n",
       "    <tr>\n",
       "      <th>549</th>\n",
       "      <td>426_15-16_bundesliga</td>\n",
       "      <td>Daniel Ginczek</td>\n",
       "      <td>7</td>\n",
       "      <td>630</td>\n",
       "      <td>3</td>\n",
       "      <td>3.731655</td>\n",
       "      <td>1</td>\n",
       "      <td>1.005792</td>\n",
       "      <td>18</td>\n",
       "      <td>12</td>\n",
       "      <td>...</td>\n",
       "      <td>2</td>\n",
       "      <td>2.973958</td>\n",
       "      <td>4.486752</td>\n",
       "      <td>0.889057</td>\n",
       "      <td>426</td>\n",
       "      <td>0</td>\n",
       "      <td>0</td>\n",
       "      <td>0</td>\n",
       "      <td>0</td>\n",
       "      <td>1</td>\n",
       "    </tr>\n",
       "    <tr>\n",
       "      <th>931</th>\n",
       "      <td>137_16-17_bundesliga</td>\n",
       "      <td>Anthony Modeste</td>\n",
       "      <td>34</td>\n",
       "      <td>2983</td>\n",
       "      <td>25</td>\n",
       "      <td>20.458601</td>\n",
       "      <td>2</td>\n",
       "      <td>1.852798</td>\n",
       "      <td>101</td>\n",
       "      <td>19</td>\n",
       "      <td>...</td>\n",
       "      <td>22</td>\n",
       "      <td>17.427737</td>\n",
       "      <td>18.945138</td>\n",
       "      <td>4.138791</td>\n",
       "      <td>137</td>\n",
       "      <td>0</td>\n",
       "      <td>0</td>\n",
       "      <td>0</td>\n",
       "      <td>0</td>\n",
       "      <td>1</td>\n",
       "    </tr>\n",
       "    <tr>\n",
       "      <th>937</th>\n",
       "      <td>29_16-17_bundesliga</td>\n",
       "      <td>Vedad Ibisevic</td>\n",
       "      <td>32</td>\n",
       "      <td>2732</td>\n",
       "      <td>12</td>\n",
       "      <td>13.618102</td>\n",
       "      <td>4</td>\n",
       "      <td>1.848171</td>\n",
       "      <td>72</td>\n",
       "      <td>19</td>\n",
       "      <td>...</td>\n",
       "      <td>9</td>\n",
       "      <td>11.344852</td>\n",
       "      <td>14.972123</td>\n",
       "      <td>3.986802</td>\n",
       "      <td>29</td>\n",
       "      <td>0</td>\n",
       "      <td>0</td>\n",
       "      <td>0</td>\n",
       "      <td>0</td>\n",
       "      <td>1</td>\n",
       "    </tr>\n",
       "    <tr>\n",
       "      <th>...</th>\n",
       "      <td>...</td>\n",
       "      <td>...</td>\n",
       "      <td>...</td>\n",
       "      <td>...</td>\n",
       "      <td>...</td>\n",
       "      <td>...</td>\n",
       "      <td>...</td>\n",
       "      <td>...</td>\n",
       "      <td>...</td>\n",
       "      <td>...</td>\n",
       "      <td>...</td>\n",
       "      <td>...</td>\n",
       "      <td>...</td>\n",
       "      <td>...</td>\n",
       "      <td>...</td>\n",
       "      <td>...</td>\n",
       "      <td>...</td>\n",
       "      <td>...</td>\n",
       "      <td>...</td>\n",
       "      <td>...</td>\n",
       "      <td>...</td>\n",
       "    </tr>\n",
       "    <tr>\n",
       "      <th>20025</th>\n",
       "      <td>1186_18-19_seriea</td>\n",
       "      <td>Andrea Belotti</td>\n",
       "      <td>37</td>\n",
       "      <td>3304</td>\n",
       "      <td>15</td>\n",
       "      <td>17.005231</td>\n",
       "      <td>3</td>\n",
       "      <td>4.310058</td>\n",
       "      <td>125</td>\n",
       "      <td>35</td>\n",
       "      <td>...</td>\n",
       "      <td>10</td>\n",
       "      <td>12.437680</td>\n",
       "      <td>16.587279</td>\n",
       "      <td>3.120273</td>\n",
       "      <td>1186</td>\n",
       "      <td>0</td>\n",
       "      <td>0</td>\n",
       "      <td>0</td>\n",
       "      <td>0</td>\n",
       "      <td>1</td>\n",
       "    </tr>\n",
       "    <tr>\n",
       "      <th>20057</th>\n",
       "      <td>1293_18-19_seriea</td>\n",
       "      <td>Gonzalo Higuaín</td>\n",
       "      <td>15</td>\n",
       "      <td>1282</td>\n",
       "      <td>6</td>\n",
       "      <td>7.021015</td>\n",
       "      <td>1</td>\n",
       "      <td>1.610850</td>\n",
       "      <td>55</td>\n",
       "      <td>19</td>\n",
       "      <td>...</td>\n",
       "      <td>6</td>\n",
       "      <td>6.259716</td>\n",
       "      <td>10.889037</td>\n",
       "      <td>3.325404</td>\n",
       "      <td>1293</td>\n",
       "      <td>0</td>\n",
       "      <td>0</td>\n",
       "      <td>0</td>\n",
       "      <td>0</td>\n",
       "      <td>1</td>\n",
       "    </tr>\n",
       "    <tr>\n",
       "      <th>20537</th>\n",
       "      <td>7285_18-19_seriea</td>\n",
       "      <td>Riccardo Doratiotto</td>\n",
       "      <td>1</td>\n",
       "      <td>81</td>\n",
       "      <td>0</td>\n",
       "      <td>0.000000</td>\n",
       "      <td>0</td>\n",
       "      <td>0.000000</td>\n",
       "      <td>0</td>\n",
       "      <td>0</td>\n",
       "      <td>...</td>\n",
       "      <td>0</td>\n",
       "      <td>0.000000</td>\n",
       "      <td>0.000000</td>\n",
       "      <td>0.000000</td>\n",
       "      <td>7285</td>\n",
       "      <td>0</td>\n",
       "      <td>0</td>\n",
       "      <td>0</td>\n",
       "      <td>0</td>\n",
       "      <td>1</td>\n",
       "    </tr>\n",
       "    <tr>\n",
       "      <th>20560</th>\n",
       "      <td>2371_19-20_seriea</td>\n",
       "      <td>Cristiano Ronaldo</td>\n",
       "      <td>33</td>\n",
       "      <td>2920</td>\n",
       "      <td>31</td>\n",
       "      <td>29.431679</td>\n",
       "      <td>5</td>\n",
       "      <td>6.067226</td>\n",
       "      <td>208</td>\n",
       "      <td>51</td>\n",
       "      <td>...</td>\n",
       "      <td>19</td>\n",
       "      <td>19.534956</td>\n",
       "      <td>26.553609</td>\n",
       "      <td>7.224642</td>\n",
       "      <td>2371</td>\n",
       "      <td>0</td>\n",
       "      <td>0</td>\n",
       "      <td>0</td>\n",
       "      <td>0</td>\n",
       "      <td>1</td>\n",
       "    </tr>\n",
       "    <tr>\n",
       "      <th>21002</th>\n",
       "      <td>6170_19-20_seriea</td>\n",
       "      <td>André Silva</td>\n",
       "      <td>1</td>\n",
       "      <td>62</td>\n",
       "      <td>0</td>\n",
       "      <td>0.161061</td>\n",
       "      <td>0</td>\n",
       "      <td>0.000000</td>\n",
       "      <td>2</td>\n",
       "      <td>0</td>\n",
       "      <td>...</td>\n",
       "      <td>0</td>\n",
       "      <td>0.161061</td>\n",
       "      <td>0.126941</td>\n",
       "      <td>0.037158</td>\n",
       "      <td>6170</td>\n",
       "      <td>0</td>\n",
       "      <td>0</td>\n",
       "      <td>0</td>\n",
       "      <td>0</td>\n",
       "      <td>1</td>\n",
       "    </tr>\n",
       "  </tbody>\n",
       "</table>\n",
       "<p>124 rows × 24 columns</p>\n",
       "</div>"
      ],
      "text/plain": [
       "                          id          player_name  games  time  goals  \\\n",
       "6       341_14-15_bundesliga      Franco Di Santo     26  2301     13   \n",
       "427    4339_14-15_bundesliga    Mats Møller Dæhli      2   180      0   \n",
       "549     426_15-16_bundesliga       Daniel Ginczek      7   630      3   \n",
       "931     137_16-17_bundesliga      Anthony Modeste     34  2983     25   \n",
       "937      29_16-17_bundesliga       Vedad Ibisevic     32  2732     12   \n",
       "...                      ...                  ...    ...   ...    ...   \n",
       "20025      1186_18-19_seriea       Andrea Belotti     37  3304     15   \n",
       "20057      1293_18-19_seriea      Gonzalo Higuaín     15  1282      6   \n",
       "20537      7285_18-19_seriea  Riccardo Doratiotto      1    81      0   \n",
       "20560      2371_19-20_seriea    Cristiano Ronaldo     33  2920     31   \n",
       "21002      6170_19-20_seriea          André Silva      1    62      0   \n",
       "\n",
       "              xG  assists        xA  shots  key_passes  ...  npg       npxG  \\\n",
       "6       9.417812        2  1.789214     54          24  ...   10   6.386785   \n",
       "427     0.048242        0  0.500316      1           3  ...    0   0.048242   \n",
       "549     3.731655        1  1.005792     18          12  ...    2   2.973958   \n",
       "931    20.458601        2  1.852798    101          19  ...   22  17.427737   \n",
       "937    13.618102        4  1.848171     72          19  ...    9  11.344852   \n",
       "...          ...      ...       ...    ...         ...  ...  ...        ...   \n",
       "20025  17.005231        3  4.310058    125          35  ...   10  12.437680   \n",
       "20057   7.021015        1  1.610850     55          19  ...    6   6.259716   \n",
       "20537   0.000000        0  0.000000      0           0  ...    0   0.000000   \n",
       "20560  29.431679        5  6.067226    208          51  ...   19  19.534956   \n",
       "21002   0.161061        0  0.000000      2           0  ...    0   0.161061   \n",
       "\n",
       "         xGChain xGBuildup  id_player  GK  S  M  D  F  \n",
       "6       9.532525  2.385641        341   0  0  0  0  1  \n",
       "427     0.693326  0.576779       4339   0  0  0  0  1  \n",
       "549     4.486752  0.889057        426   0  0  0  0  1  \n",
       "931    18.945138  4.138791        137   0  0  0  0  1  \n",
       "937    14.972123  3.986802         29   0  0  0  0  1  \n",
       "...          ...       ...        ...  .. .. .. .. ..  \n",
       "20025  16.587279  3.120273       1186   0  0  0  0  1  \n",
       "20057  10.889037  3.325404       1293   0  0  0  0  1  \n",
       "20537   0.000000  0.000000       7285   0  0  0  0  1  \n",
       "20560  26.553609  7.224642       2371   0  0  0  0  1  \n",
       "21002   0.126941  0.037158       6170   0  0  0  0  1  \n",
       "\n",
       "[124 rows x 24 columns]"
      ]
     },
     "execution_count": 81,
     "metadata": {},
     "output_type": "execute_result"
    }
   ],
   "source": [
    "data.loc[data['position']=='F']"
   ]
  },
  {
   "cell_type": "markdown",
   "metadata": {
    "id": "B0AHN7s5y-3H"
   },
   "source": [
    "**OneHot Encoding**"
   ]
  },
  {
   "cell_type": "code",
   "execution_count": 82,
   "metadata": {
    "id": "xlVsIVx4RtFE"
   },
   "outputs": [],
   "source": [
    "data_f = data.loc[data['position']=='F']"
   ]
  },
  {
   "cell_type": "code",
   "execution_count": 83,
   "metadata": {
    "colab": {
     "base_uri": "https://localhost:8080/"
    },
    "id": "L1hWtJp2RV3O",
    "outputId": "a72123ab-e70c-4895-a2c1-b457be2a7160"
   },
   "outputs": [
    {
     "data": {
      "text/plain": [
       "OneHotEncoder()"
      ]
     },
     "execution_count": 83,
     "metadata": {},
     "output_type": "execute_result"
    }
   ],
   "source": [
    "X=pd.DataFrame(data_f[\"position\"])\n",
    "enc = OneHotEncoder()\n",
    "enc.fit(X)"
   ]
  },
  {
   "cell_type": "code",
   "execution_count": 84,
   "metadata": {
    "colab": {
     "base_uri": "https://localhost:8080/"
    },
    "id": "jf8gtJi5RV9Z",
    "outputId": "57cb6937-1421-4fcd-d506-c4fc07e4b306"
   },
   "outputs": [
    {
     "data": {
      "text/plain": [
       "array([[1.],\n",
       "       [1.],\n",
       "       [1.],\n",
       "       [1.],\n",
       "       [1.],\n",
       "       [1.],\n",
       "       [1.],\n",
       "       [1.],\n",
       "       [1.],\n",
       "       [1.],\n",
       "       [1.],\n",
       "       [1.],\n",
       "       [1.],\n",
       "       [1.],\n",
       "       [1.],\n",
       "       [1.],\n",
       "       [1.],\n",
       "       [1.],\n",
       "       [1.],\n",
       "       [1.],\n",
       "       [1.],\n",
       "       [1.],\n",
       "       [1.],\n",
       "       [1.],\n",
       "       [1.],\n",
       "       [1.],\n",
       "       [1.],\n",
       "       [1.],\n",
       "       [1.],\n",
       "       [1.],\n",
       "       [1.],\n",
       "       [1.],\n",
       "       [1.],\n",
       "       [1.],\n",
       "       [1.],\n",
       "       [1.],\n",
       "       [1.],\n",
       "       [1.],\n",
       "       [1.],\n",
       "       [1.],\n",
       "       [1.],\n",
       "       [1.],\n",
       "       [1.],\n",
       "       [1.],\n",
       "       [1.],\n",
       "       [1.],\n",
       "       [1.],\n",
       "       [1.],\n",
       "       [1.],\n",
       "       [1.],\n",
       "       [1.],\n",
       "       [1.],\n",
       "       [1.],\n",
       "       [1.],\n",
       "       [1.],\n",
       "       [1.],\n",
       "       [1.],\n",
       "       [1.],\n",
       "       [1.],\n",
       "       [1.],\n",
       "       [1.],\n",
       "       [1.],\n",
       "       [1.],\n",
       "       [1.],\n",
       "       [1.],\n",
       "       [1.],\n",
       "       [1.],\n",
       "       [1.],\n",
       "       [1.],\n",
       "       [1.],\n",
       "       [1.],\n",
       "       [1.],\n",
       "       [1.],\n",
       "       [1.],\n",
       "       [1.],\n",
       "       [1.],\n",
       "       [1.],\n",
       "       [1.],\n",
       "       [1.],\n",
       "       [1.],\n",
       "       [1.],\n",
       "       [1.],\n",
       "       [1.],\n",
       "       [1.],\n",
       "       [1.],\n",
       "       [1.],\n",
       "       [1.],\n",
       "       [1.],\n",
       "       [1.],\n",
       "       [1.],\n",
       "       [1.],\n",
       "       [1.],\n",
       "       [1.],\n",
       "       [1.],\n",
       "       [1.],\n",
       "       [1.],\n",
       "       [1.],\n",
       "       [1.],\n",
       "       [1.],\n",
       "       [1.],\n",
       "       [1.],\n",
       "       [1.],\n",
       "       [1.],\n",
       "       [1.],\n",
       "       [1.],\n",
       "       [1.],\n",
       "       [1.],\n",
       "       [1.],\n",
       "       [1.],\n",
       "       [1.],\n",
       "       [1.],\n",
       "       [1.],\n",
       "       [1.],\n",
       "       [1.],\n",
       "       [1.],\n",
       "       [1.],\n",
       "       [1.],\n",
       "       [1.],\n",
       "       [1.],\n",
       "       [1.],\n",
       "       [1.],\n",
       "       [1.],\n",
       "       [1.],\n",
       "       [1.]])"
      ]
     },
     "execution_count": 84,
     "metadata": {},
     "output_type": "execute_result"
    }
   ],
   "source": [
    "enc.transform(X).toarray()"
   ]
  },
  {
   "cell_type": "code",
   "execution_count": 86,
   "metadata": {
    "colab": {
     "base_uri": "https://localhost:8080/"
    },
    "id": "0GQaPQObRWAr",
    "outputId": "e173d462-b9ae-4588-c5c1-7ee0a771225f"
   },
   "outputs": [
    {
     "data": {
      "text/plain": [
       "[array(['F'], dtype=object)]"
      ]
     },
     "execution_count": 86,
     "metadata": {},
     "output_type": "execute_result"
    }
   ],
   "source": [
    "enc.categories_"
   ]
  },
  {
   "cell_type": "code",
   "execution_count": 87,
   "metadata": {
    "colab": {
     "base_uri": "https://localhost:8080/"
    },
    "id": "Psawd8lJYSNS",
    "outputId": "fe998fdb-4b14-4c1d-835f-ac45c75439c6"
   },
   "outputs": [
    {
     "name": "stderr",
     "output_type": "stream",
     "text": [
      "<ipython-input-87-1ec87d876fd9>:1: SettingWithCopyWarning: \n",
      "A value is trying to be set on a copy of a slice from a DataFrame.\n",
      "Try using .loc[row_indexer,col_indexer] = value instead\n",
      "\n",
      "See the caveats in the documentation: https://pandas.pydata.org/pandas-docs/stable/user_guide/indexing.html#returning-a-view-versus-a-copy\n",
      "  data_f[enc.categories_[0]]=enc.transform(X).toarray()\n",
      "C:\\Users\\Mahmoud\\anaconda3\\lib\\site-packages\\pandas\\core\\indexing.py:1736: SettingWithCopyWarning: \n",
      "A value is trying to be set on a copy of a slice from a DataFrame.\n",
      "Try using .loc[row_indexer,col_indexer] = value instead\n",
      "\n",
      "See the caveats in the documentation: https://pandas.pydata.org/pandas-docs/stable/user_guide/indexing.html#returning-a-view-versus-a-copy\n",
      "  isetter(loc, value[:, i].tolist())\n"
     ]
    }
   ],
   "source": [
    "data_f[enc.categories_[0]]=enc.transform(X).toarray()"
   ]
  },
  {
   "cell_type": "code",
   "execution_count": 88,
   "metadata": {
    "id": "v28701gKk8Hg"
   },
   "outputs": [],
   "source": [
    "names=data_f[\"player_name\"]\n",
    "data_f=data_f.set_index(\"player_name\")"
   ]
  },
  {
   "cell_type": "code",
   "execution_count": 89,
   "metadata": {
    "id": "_7A4K2Z4k8OG"
   },
   "outputs": [],
   "source": [
    "data1 = data_f.drop([\"position\",\"games\",'S','M','D','F','id'],axis=1)"
   ]
  },
  {
   "cell_type": "code",
   "execution_count": 90,
   "metadata": {
    "id": "ScP11ITzk8Sw"
   },
   "outputs": [],
   "source": [
    "for i in [\"goals\",\"xG\",\"assists\",\"xA\",\"shots\",\"key_passes\",\"yellow_cards\",\"red_cards\",\"npg\",\"npxG\",\"xGChain\",\"xGBuildup\"]:\n",
    "  data1[i]=data1[i]/data1[\"time\"]"
   ]
  },
  {
   "cell_type": "code",
   "execution_count": 91,
   "metadata": {
    "id": "n27dpELAoXgp"
   },
   "outputs": [],
   "source": [
    "data1.drop([\"time\"],axis=1,inplace=True)"
   ]
  },
  {
   "cell_type": "code",
   "execution_count": 92,
   "metadata": {
    "id": "_fMAULbYRWFy"
   },
   "outputs": [],
   "source": [
    "x=data1.drop([\"team_title\"],axis=1)"
   ]
  },
  {
   "cell_type": "code",
   "execution_count": 93,
   "metadata": {
    "id": "esj7cGn_ax50"
   },
   "outputs": [],
   "source": [
    "x.dropna(inplace=True,axis=1)"
   ]
  },
  {
   "cell_type": "code",
   "execution_count": 94,
   "metadata": {
    "id": "rTiisB4LRWIZ"
   },
   "outputs": [],
   "source": [
    "max=np.array(x.describe().loc[\"max\"])\n",
    "j=0\n",
    "for i in x.columns:\n",
    "  x[i]=x[i]/max[j]\n",
    "  j=j+1"
   ]
  },
  {
   "cell_type": "code",
   "execution_count": 95,
   "metadata": {
    "id": "Xk8j_RWso4Ro"
   },
   "outputs": [],
   "source": [
    "x1=x.transpose()"
   ]
  },
  {
   "cell_type": "code",
   "execution_count": 96,
   "metadata": {
    "id": "R1gZix2mqs1p"
   },
   "outputs": [],
   "source": [
    "corr_matrix=x1.corr(method=\"pearson\")"
   ]
  },
  {
   "cell_type": "code",
   "execution_count": 97,
   "metadata": {
    "colab": {
     "base_uri": "https://localhost:8080/",
     "height": 636
    },
    "id": "4lu7fxBWqs5z",
    "outputId": "9d699905-bc98-4a41-8abf-c5d2bd1c84c3"
   },
   "outputs": [
    {
     "data": {
      "text/html": [
       "<div>\n",
       "<style scoped>\n",
       "    .dataframe tbody tr th:only-of-type {\n",
       "        vertical-align: middle;\n",
       "    }\n",
       "\n",
       "    .dataframe tbody tr th {\n",
       "        vertical-align: top;\n",
       "    }\n",
       "\n",
       "    .dataframe thead th {\n",
       "        text-align: right;\n",
       "    }\n",
       "</style>\n",
       "<table border=\"1\" class=\"dataframe\">\n",
       "  <thead>\n",
       "    <tr style=\"text-align: right;\">\n",
       "      <th>player_name</th>\n",
       "      <th>Franco Di Santo</th>\n",
       "      <th>Mats Møller Dæhli</th>\n",
       "      <th>Daniel Ginczek</th>\n",
       "      <th>Anthony Modeste</th>\n",
       "      <th>Vedad Ibisevic</th>\n",
       "      <th>Alfred Finnbogason</th>\n",
       "      <th>Ousman Manneh</th>\n",
       "      <th>Bas Dost</th>\n",
       "      <th>Pierre-Emerick Aubameyang</th>\n",
       "      <th>Alfred Finnbogason</th>\n",
       "      <th>...</th>\n",
       "      <th>Umar Sadiq</th>\n",
       "      <th>Simone Palombi</th>\n",
       "      <th>Fabio Ceravolo</th>\n",
       "      <th>Fabio Quagliarella</th>\n",
       "      <th>Francesco Caputo</th>\n",
       "      <th>Andrea Belotti</th>\n",
       "      <th>Gonzalo Higuaín</th>\n",
       "      <th>Riccardo Doratiotto</th>\n",
       "      <th>Cristiano Ronaldo</th>\n",
       "      <th>André Silva</th>\n",
       "    </tr>\n",
       "    <tr>\n",
       "      <th>player_name</th>\n",
       "      <th></th>\n",
       "      <th></th>\n",
       "      <th></th>\n",
       "      <th></th>\n",
       "      <th></th>\n",
       "      <th></th>\n",
       "      <th></th>\n",
       "      <th></th>\n",
       "      <th></th>\n",
       "      <th></th>\n",
       "      <th></th>\n",
       "      <th></th>\n",
       "      <th></th>\n",
       "      <th></th>\n",
       "      <th></th>\n",
       "      <th></th>\n",
       "      <th></th>\n",
       "      <th></th>\n",
       "      <th></th>\n",
       "      <th></th>\n",
       "      <th></th>\n",
       "    </tr>\n",
       "  </thead>\n",
       "  <tbody>\n",
       "    <tr>\n",
       "      <th>Franco Di Santo</th>\n",
       "      <td>1.000000</td>\n",
       "      <td>-0.368094</td>\n",
       "      <td>0.789103</td>\n",
       "      <td>0.891699</td>\n",
       "      <td>0.498386</td>\n",
       "      <td>-0.266760</td>\n",
       "      <td>0.263764</td>\n",
       "      <td>-0.344421</td>\n",
       "      <td>0.481134</td>\n",
       "      <td>0.757843</td>\n",
       "      <td>...</td>\n",
       "      <td>0.371652</td>\n",
       "      <td>-0.364754</td>\n",
       "      <td>-0.261589</td>\n",
       "      <td>0.839818</td>\n",
       "      <td>0.241908</td>\n",
       "      <td>0.816210</td>\n",
       "      <td>0.112284</td>\n",
       "      <td>-0.412165</td>\n",
       "      <td>0.825509</td>\n",
       "      <td>-0.008426</td>\n",
       "    </tr>\n",
       "    <tr>\n",
       "      <th>Mats Møller Dæhli</th>\n",
       "      <td>-0.368094</td>\n",
       "      <td>1.000000</td>\n",
       "      <td>-0.033037</td>\n",
       "      <td>-0.415475</td>\n",
       "      <td>-0.573815</td>\n",
       "      <td>-0.174898</td>\n",
       "      <td>0.138311</td>\n",
       "      <td>-0.036986</td>\n",
       "      <td>-0.427547</td>\n",
       "      <td>0.089960</td>\n",
       "      <td>...</td>\n",
       "      <td>-0.176074</td>\n",
       "      <td>0.659589</td>\n",
       "      <td>0.414976</td>\n",
       "      <td>-0.276157</td>\n",
       "      <td>0.455133</td>\n",
       "      <td>-0.124577</td>\n",
       "      <td>-0.272063</td>\n",
       "      <td>0.487762</td>\n",
       "      <td>-0.149812</td>\n",
       "      <td>-0.024697</td>\n",
       "    </tr>\n",
       "    <tr>\n",
       "      <th>Daniel Ginczek</th>\n",
       "      <td>0.789103</td>\n",
       "      <td>-0.033037</td>\n",
       "      <td>1.000000</td>\n",
       "      <td>0.773345</td>\n",
       "      <td>0.539067</td>\n",
       "      <td>-0.080615</td>\n",
       "      <td>0.387535</td>\n",
       "      <td>-0.143012</td>\n",
       "      <td>0.616932</td>\n",
       "      <td>0.903752</td>\n",
       "      <td>...</td>\n",
       "      <td>0.579999</td>\n",
       "      <td>-0.239452</td>\n",
       "      <td>-0.206091</td>\n",
       "      <td>0.845456</td>\n",
       "      <td>0.384910</td>\n",
       "      <td>0.882195</td>\n",
       "      <td>0.244399</td>\n",
       "      <td>-0.380409</td>\n",
       "      <td>0.838993</td>\n",
       "      <td>-0.218141</td>\n",
       "    </tr>\n",
       "    <tr>\n",
       "      <th>Anthony Modeste</th>\n",
       "      <td>0.891699</td>\n",
       "      <td>-0.415475</td>\n",
       "      <td>0.773345</td>\n",
       "      <td>1.000000</td>\n",
       "      <td>0.658972</td>\n",
       "      <td>-0.044887</td>\n",
       "      <td>0.370806</td>\n",
       "      <td>-0.363115</td>\n",
       "      <td>0.720046</td>\n",
       "      <td>0.807495</td>\n",
       "      <td>...</td>\n",
       "      <td>0.579710</td>\n",
       "      <td>-0.264600</td>\n",
       "      <td>-0.167033</td>\n",
       "      <td>0.921579</td>\n",
       "      <td>0.346767</td>\n",
       "      <td>0.831564</td>\n",
       "      <td>0.287960</td>\n",
       "      <td>-0.336092</td>\n",
       "      <td>0.880158</td>\n",
       "      <td>-0.187124</td>\n",
       "    </tr>\n",
       "    <tr>\n",
       "      <th>Vedad Ibisevic</th>\n",
       "      <td>0.498386</td>\n",
       "      <td>-0.573815</td>\n",
       "      <td>0.539067</td>\n",
       "      <td>0.658972</td>\n",
       "      <td>1.000000</td>\n",
       "      <td>0.601600</td>\n",
       "      <td>0.160781</td>\n",
       "      <td>-0.360057</td>\n",
       "      <td>0.937344</td>\n",
       "      <td>0.383861</td>\n",
       "      <td>...</td>\n",
       "      <td>0.522444</td>\n",
       "      <td>-0.378653</td>\n",
       "      <td>-0.347587</td>\n",
       "      <td>0.568179</td>\n",
       "      <td>-0.063886</td>\n",
       "      <td>0.542070</td>\n",
       "      <td>0.837828</td>\n",
       "      <td>-0.521978</td>\n",
       "      <td>0.545996</td>\n",
       "      <td>-0.210807</td>\n",
       "    </tr>\n",
       "    <tr>\n",
       "      <th>...</th>\n",
       "      <td>...</td>\n",
       "      <td>...</td>\n",
       "      <td>...</td>\n",
       "      <td>...</td>\n",
       "      <td>...</td>\n",
       "      <td>...</td>\n",
       "      <td>...</td>\n",
       "      <td>...</td>\n",
       "      <td>...</td>\n",
       "      <td>...</td>\n",
       "      <td>...</td>\n",
       "      <td>...</td>\n",
       "      <td>...</td>\n",
       "      <td>...</td>\n",
       "      <td>...</td>\n",
       "      <td>...</td>\n",
       "      <td>...</td>\n",
       "      <td>...</td>\n",
       "      <td>...</td>\n",
       "      <td>...</td>\n",
       "      <td>...</td>\n",
       "    </tr>\n",
       "    <tr>\n",
       "      <th>Andrea Belotti</th>\n",
       "      <td>0.816210</td>\n",
       "      <td>-0.124577</td>\n",
       "      <td>0.882195</td>\n",
       "      <td>0.831564</td>\n",
       "      <td>0.542070</td>\n",
       "      <td>-0.096653</td>\n",
       "      <td>0.578575</td>\n",
       "      <td>-0.307416</td>\n",
       "      <td>0.587185</td>\n",
       "      <td>0.869325</td>\n",
       "      <td>...</td>\n",
       "      <td>0.653707</td>\n",
       "      <td>-0.216270</td>\n",
       "      <td>0.055292</td>\n",
       "      <td>0.937056</td>\n",
       "      <td>0.514641</td>\n",
       "      <td>1.000000</td>\n",
       "      <td>0.264781</td>\n",
       "      <td>-0.204732</td>\n",
       "      <td>0.976285</td>\n",
       "      <td>-0.008328</td>\n",
       "    </tr>\n",
       "    <tr>\n",
       "      <th>Gonzalo Higuaín</th>\n",
       "      <td>0.112284</td>\n",
       "      <td>-0.272063</td>\n",
       "      <td>0.244399</td>\n",
       "      <td>0.287960</td>\n",
       "      <td>0.837828</td>\n",
       "      <td>0.871082</td>\n",
       "      <td>0.024603</td>\n",
       "      <td>-0.436911</td>\n",
       "      <td>0.768327</td>\n",
       "      <td>0.121561</td>\n",
       "      <td>...</td>\n",
       "      <td>0.264915</td>\n",
       "      <td>-0.162861</td>\n",
       "      <td>-0.165161</td>\n",
       "      <td>0.218699</td>\n",
       "      <td>-0.076931</td>\n",
       "      <td>0.264781</td>\n",
       "      <td>1.000000</td>\n",
       "      <td>-0.304231</td>\n",
       "      <td>0.266441</td>\n",
       "      <td>-0.253059</td>\n",
       "    </tr>\n",
       "    <tr>\n",
       "      <th>Riccardo Doratiotto</th>\n",
       "      <td>-0.412165</td>\n",
       "      <td>0.487762</td>\n",
       "      <td>-0.380409</td>\n",
       "      <td>-0.336092</td>\n",
       "      <td>-0.521978</td>\n",
       "      <td>0.001832</td>\n",
       "      <td>0.454283</td>\n",
       "      <td>-0.116713</td>\n",
       "      <td>-0.382489</td>\n",
       "      <td>-0.039214</td>\n",
       "      <td>...</td>\n",
       "      <td>0.108229</td>\n",
       "      <td>0.653118</td>\n",
       "      <td>0.945366</td>\n",
       "      <td>-0.246148</td>\n",
       "      <td>0.682847</td>\n",
       "      <td>-0.204732</td>\n",
       "      <td>-0.304231</td>\n",
       "      <td>1.000000</td>\n",
       "      <td>-0.182332</td>\n",
       "      <td>0.430858</td>\n",
       "    </tr>\n",
       "    <tr>\n",
       "      <th>Cristiano Ronaldo</th>\n",
       "      <td>0.825509</td>\n",
       "      <td>-0.149812</td>\n",
       "      <td>0.838993</td>\n",
       "      <td>0.880158</td>\n",
       "      <td>0.545996</td>\n",
       "      <td>-0.093747</td>\n",
       "      <td>0.536882</td>\n",
       "      <td>-0.319793</td>\n",
       "      <td>0.607624</td>\n",
       "      <td>0.869160</td>\n",
       "      <td>...</td>\n",
       "      <td>0.610057</td>\n",
       "      <td>-0.155793</td>\n",
       "      <td>0.060849</td>\n",
       "      <td>0.969782</td>\n",
       "      <td>0.532517</td>\n",
       "      <td>0.976285</td>\n",
       "      <td>0.266441</td>\n",
       "      <td>-0.182332</td>\n",
       "      <td>1.000000</td>\n",
       "      <td>-0.106918</td>\n",
       "    </tr>\n",
       "    <tr>\n",
       "      <th>André Silva</th>\n",
       "      <td>-0.008426</td>\n",
       "      <td>-0.024697</td>\n",
       "      <td>-0.218141</td>\n",
       "      <td>-0.187124</td>\n",
       "      <td>-0.210807</td>\n",
       "      <td>-0.206865</td>\n",
       "      <td>0.525689</td>\n",
       "      <td>-0.303315</td>\n",
       "      <td>-0.361320</td>\n",
       "      <td>-0.180298</td>\n",
       "      <td>...</td>\n",
       "      <td>0.199469</td>\n",
       "      <td>0.198482</td>\n",
       "      <td>0.491346</td>\n",
       "      <td>-0.210003</td>\n",
       "      <td>0.217315</td>\n",
       "      <td>-0.008328</td>\n",
       "      <td>-0.253059</td>\n",
       "      <td>0.430858</td>\n",
       "      <td>-0.106918</td>\n",
       "      <td>1.000000</td>\n",
       "    </tr>\n",
       "  </tbody>\n",
       "</table>\n",
       "<p>124 rows × 124 columns</p>\n",
       "</div>"
      ],
      "text/plain": [
       "player_name          Franco Di Santo  Mats Møller Dæhli  Daniel Ginczek  \\\n",
       "player_name                                                               \n",
       "Franco Di Santo             1.000000          -0.368094        0.789103   \n",
       "Mats Møller Dæhli          -0.368094           1.000000       -0.033037   \n",
       "Daniel Ginczek              0.789103          -0.033037        1.000000   \n",
       "Anthony Modeste             0.891699          -0.415475        0.773345   \n",
       "Vedad Ibisevic              0.498386          -0.573815        0.539067   \n",
       "...                              ...                ...             ...   \n",
       "Andrea Belotti              0.816210          -0.124577        0.882195   \n",
       "Gonzalo Higuaín             0.112284          -0.272063        0.244399   \n",
       "Riccardo Doratiotto        -0.412165           0.487762       -0.380409   \n",
       "Cristiano Ronaldo           0.825509          -0.149812        0.838993   \n",
       "André Silva                -0.008426          -0.024697       -0.218141   \n",
       "\n",
       "player_name          Anthony Modeste  Vedad Ibisevic  Alfred Finnbogason  \\\n",
       "player_name                                                                \n",
       "Franco Di Santo             0.891699        0.498386           -0.266760   \n",
       "Mats Møller Dæhli          -0.415475       -0.573815           -0.174898   \n",
       "Daniel Ginczek              0.773345        0.539067           -0.080615   \n",
       "Anthony Modeste             1.000000        0.658972           -0.044887   \n",
       "Vedad Ibisevic              0.658972        1.000000            0.601600   \n",
       "...                              ...             ...                 ...   \n",
       "Andrea Belotti              0.831564        0.542070           -0.096653   \n",
       "Gonzalo Higuaín             0.287960        0.837828            0.871082   \n",
       "Riccardo Doratiotto        -0.336092       -0.521978            0.001832   \n",
       "Cristiano Ronaldo           0.880158        0.545996           -0.093747   \n",
       "André Silva                -0.187124       -0.210807           -0.206865   \n",
       "\n",
       "player_name          Ousman Manneh  Bas Dost  Pierre-Emerick Aubameyang  \\\n",
       "player_name                                                               \n",
       "Franco Di Santo           0.263764 -0.344421                   0.481134   \n",
       "Mats Møller Dæhli         0.138311 -0.036986                  -0.427547   \n",
       "Daniel Ginczek            0.387535 -0.143012                   0.616932   \n",
       "Anthony Modeste           0.370806 -0.363115                   0.720046   \n",
       "Vedad Ibisevic            0.160781 -0.360057                   0.937344   \n",
       "...                            ...       ...                        ...   \n",
       "Andrea Belotti            0.578575 -0.307416                   0.587185   \n",
       "Gonzalo Higuaín           0.024603 -0.436911                   0.768327   \n",
       "Riccardo Doratiotto       0.454283 -0.116713                  -0.382489   \n",
       "Cristiano Ronaldo         0.536882 -0.319793                   0.607624   \n",
       "André Silva               0.525689 -0.303315                  -0.361320   \n",
       "\n",
       "player_name          Alfred Finnbogason  ...  Umar Sadiq  Simone Palombi  \\\n",
       "player_name                              ...                               \n",
       "Franco Di Santo                0.757843  ...    0.371652       -0.364754   \n",
       "Mats Møller Dæhli              0.089960  ...   -0.176074        0.659589   \n",
       "Daniel Ginczek                 0.903752  ...    0.579999       -0.239452   \n",
       "Anthony Modeste                0.807495  ...    0.579710       -0.264600   \n",
       "Vedad Ibisevic                 0.383861  ...    0.522444       -0.378653   \n",
       "...                                 ...  ...         ...             ...   \n",
       "Andrea Belotti                 0.869325  ...    0.653707       -0.216270   \n",
       "Gonzalo Higuaín                0.121561  ...    0.264915       -0.162861   \n",
       "Riccardo Doratiotto           -0.039214  ...    0.108229        0.653118   \n",
       "Cristiano Ronaldo              0.869160  ...    0.610057       -0.155793   \n",
       "André Silva                   -0.180298  ...    0.199469        0.198482   \n",
       "\n",
       "player_name          Fabio Ceravolo  Fabio Quagliarella  Francesco Caputo  \\\n",
       "player_name                                                                 \n",
       "Franco Di Santo           -0.261589            0.839818          0.241908   \n",
       "Mats Møller Dæhli          0.414976           -0.276157          0.455133   \n",
       "Daniel Ginczek            -0.206091            0.845456          0.384910   \n",
       "Anthony Modeste           -0.167033            0.921579          0.346767   \n",
       "Vedad Ibisevic            -0.347587            0.568179         -0.063886   \n",
       "...                             ...                 ...               ...   \n",
       "Andrea Belotti             0.055292            0.937056          0.514641   \n",
       "Gonzalo Higuaín           -0.165161            0.218699         -0.076931   \n",
       "Riccardo Doratiotto        0.945366           -0.246148          0.682847   \n",
       "Cristiano Ronaldo          0.060849            0.969782          0.532517   \n",
       "André Silva                0.491346           -0.210003          0.217315   \n",
       "\n",
       "player_name          Andrea Belotti  Gonzalo Higuaín  Riccardo Doratiotto  \\\n",
       "player_name                                                                 \n",
       "Franco Di Santo            0.816210         0.112284            -0.412165   \n",
       "Mats Møller Dæhli         -0.124577        -0.272063             0.487762   \n",
       "Daniel Ginczek             0.882195         0.244399            -0.380409   \n",
       "Anthony Modeste            0.831564         0.287960            -0.336092   \n",
       "Vedad Ibisevic             0.542070         0.837828            -0.521978   \n",
       "...                             ...              ...                  ...   \n",
       "Andrea Belotti             1.000000         0.264781            -0.204732   \n",
       "Gonzalo Higuaín            0.264781         1.000000            -0.304231   \n",
       "Riccardo Doratiotto       -0.204732        -0.304231             1.000000   \n",
       "Cristiano Ronaldo          0.976285         0.266441            -0.182332   \n",
       "André Silva               -0.008328        -0.253059             0.430858   \n",
       "\n",
       "player_name          Cristiano Ronaldo  André Silva  \n",
       "player_name                                          \n",
       "Franco Di Santo               0.825509    -0.008426  \n",
       "Mats Møller Dæhli            -0.149812    -0.024697  \n",
       "Daniel Ginczek                0.838993    -0.218141  \n",
       "Anthony Modeste               0.880158    -0.187124  \n",
       "Vedad Ibisevic                0.545996    -0.210807  \n",
       "...                                ...          ...  \n",
       "Andrea Belotti                0.976285    -0.008328  \n",
       "Gonzalo Higuaín               0.266441    -0.253059  \n",
       "Riccardo Doratiotto          -0.182332     0.430858  \n",
       "Cristiano Ronaldo             1.000000    -0.106918  \n",
       "André Silva                  -0.106918     1.000000  \n",
       "\n",
       "[124 rows x 124 columns]"
      ]
     },
     "execution_count": 97,
     "metadata": {},
     "output_type": "execute_result"
    }
   ],
   "source": [
    "corr_matrix"
   ]
  },
  {
   "cell_type": "markdown",
   "metadata": {
    "id": "kA0T6iOLyUTz"
   },
   "source": [
    "**Kmeans**"
   ]
  },
  {
   "cell_type": "code",
   "execution_count": 98,
   "metadata": {
    "id": "gn2BnW0Xqs9N"
   },
   "outputs": [],
   "source": [
    "kmeans = KMeans(random_state=0).fit(corr_matrix)"
   ]
  },
  {
   "cell_type": "code",
   "execution_count": 99,
   "metadata": {
    "id": "fLyDx0cRqtAg"
   },
   "outputs": [],
   "source": [
    "for i in range(len(kmeans.labels_)):\n",
    "  if kmeans.labels_[i]==0:\n",
    "    #print(x.iloc[i])\n",
    "    pass"
   ]
  },
  {
   "cell_type": "code",
   "execution_count": 100,
   "metadata": {
    "colab": {
     "base_uri": "https://localhost:8080/"
    },
    "id": "pXEO-TuMqtD6",
    "outputId": "07d2f8bf-af48-4182-a9e8-99d8e73b9feb"
   },
   "outputs": [
    {
     "data": {
      "text/plain": [
       "124"
      ]
     },
     "execution_count": 100,
     "metadata": {},
     "output_type": "execute_result"
    }
   ],
   "source": [
    "len(kmeans.labels_)"
   ]
  },
  {
   "cell_type": "code",
   "execution_count": 101,
   "metadata": {
    "colab": {
     "base_uri": "https://localhost:8080/"
    },
    "id": "9HGjwp1qo4U-",
    "outputId": "aeae8a64-4372-4c7c-ba65-281645351752"
   },
   "outputs": [
    {
     "data": {
      "text/plain": [
       "8"
      ]
     },
     "execution_count": 101,
     "metadata": {},
     "output_type": "execute_result"
    }
   ],
   "source": [
    "len(kmeans.cluster_centers_)"
   ]
  },
  {
   "cell_type": "code",
   "execution_count": 102,
   "metadata": {
    "id": "PTLSACsHo4X0"
   },
   "outputs": [
    {
     "ename": "ValueError",
     "evalue": "Input contains NaN, infinity or a value too large for dtype('float64').",
     "output_type": "error",
     "traceback": [
      "\u001b[1;31m---------------------------------------------------------------------------\u001b[0m",
      "\u001b[1;31mValueError\u001b[0m                                Traceback (most recent call last)",
      "\u001b[1;32m<ipython-input-102-d065e55083d0>\u001b[0m in \u001b[0;36m<module>\u001b[1;34m\u001b[0m\n\u001b[1;32m----> 1\u001b[1;33m \u001b[0mX\u001b[0m\u001b[1;33m=\u001b[0m\u001b[0mPCA\u001b[0m\u001b[1;33m(\u001b[0m\u001b[0mn_components\u001b[0m\u001b[1;33m=\u001b[0m\u001b[1;36m2\u001b[0m\u001b[1;33m)\u001b[0m\u001b[1;33m.\u001b[0m\u001b[0mfit_transform\u001b[0m\u001b[1;33m(\u001b[0m\u001b[0mx\u001b[0m\u001b[1;33m)\u001b[0m\u001b[1;33m\u001b[0m\u001b[1;33m\u001b[0m\u001b[0m\n\u001b[0m",
      "\u001b[1;32m~\\anaconda3\\lib\\site-packages\\sklearn\\decomposition\\_pca.py\u001b[0m in \u001b[0;36mfit_transform\u001b[1;34m(self, X, y)\u001b[0m\n\u001b[0;32m    374\u001b[0m         \u001b[0mC\u001b[0m\u001b[1;33m-\u001b[0m\u001b[0mordered\u001b[0m \u001b[0marray\u001b[0m\u001b[1;33m,\u001b[0m \u001b[0muse\u001b[0m \u001b[1;34m'np.ascontiguousarray'\u001b[0m\u001b[1;33m.\u001b[0m\u001b[1;33m\u001b[0m\u001b[1;33m\u001b[0m\u001b[0m\n\u001b[0;32m    375\u001b[0m         \"\"\"\n\u001b[1;32m--> 376\u001b[1;33m         \u001b[0mU\u001b[0m\u001b[1;33m,\u001b[0m \u001b[0mS\u001b[0m\u001b[1;33m,\u001b[0m \u001b[0mVt\u001b[0m \u001b[1;33m=\u001b[0m \u001b[0mself\u001b[0m\u001b[1;33m.\u001b[0m\u001b[0m_fit\u001b[0m\u001b[1;33m(\u001b[0m\u001b[0mX\u001b[0m\u001b[1;33m)\u001b[0m\u001b[1;33m\u001b[0m\u001b[1;33m\u001b[0m\u001b[0m\n\u001b[0m\u001b[0;32m    377\u001b[0m         \u001b[0mU\u001b[0m \u001b[1;33m=\u001b[0m \u001b[0mU\u001b[0m\u001b[1;33m[\u001b[0m\u001b[1;33m:\u001b[0m\u001b[1;33m,\u001b[0m \u001b[1;33m:\u001b[0m\u001b[0mself\u001b[0m\u001b[1;33m.\u001b[0m\u001b[0mn_components_\u001b[0m\u001b[1;33m]\u001b[0m\u001b[1;33m\u001b[0m\u001b[1;33m\u001b[0m\u001b[0m\n\u001b[0;32m    378\u001b[0m \u001b[1;33m\u001b[0m\u001b[0m\n",
      "\u001b[1;32m~\\anaconda3\\lib\\site-packages\\sklearn\\decomposition\\_pca.py\u001b[0m in \u001b[0;36m_fit\u001b[1;34m(self, X)\u001b[0m\n\u001b[0;32m    395\u001b[0m                             'TruncatedSVD for a possible alternative.')\n\u001b[0;32m    396\u001b[0m \u001b[1;33m\u001b[0m\u001b[0m\n\u001b[1;32m--> 397\u001b[1;33m         X = self._validate_data(X, dtype=[np.float64, np.float32],\n\u001b[0m\u001b[0;32m    398\u001b[0m                                 ensure_2d=True, copy=self.copy)\n\u001b[0;32m    399\u001b[0m \u001b[1;33m\u001b[0m\u001b[0m\n",
      "\u001b[1;32m~\\anaconda3\\lib\\site-packages\\sklearn\\base.py\u001b[0m in \u001b[0;36m_validate_data\u001b[1;34m(self, X, y, reset, validate_separately, **check_params)\u001b[0m\n\u001b[0;32m    419\u001b[0m             \u001b[0mout\u001b[0m \u001b[1;33m=\u001b[0m \u001b[0mX\u001b[0m\u001b[1;33m\u001b[0m\u001b[1;33m\u001b[0m\u001b[0m\n\u001b[0;32m    420\u001b[0m         \u001b[1;32melif\u001b[0m \u001b[0misinstance\u001b[0m\u001b[1;33m(\u001b[0m\u001b[0my\u001b[0m\u001b[1;33m,\u001b[0m \u001b[0mstr\u001b[0m\u001b[1;33m)\u001b[0m \u001b[1;32mand\u001b[0m \u001b[0my\u001b[0m \u001b[1;33m==\u001b[0m \u001b[1;34m'no_validation'\u001b[0m\u001b[1;33m:\u001b[0m\u001b[1;33m\u001b[0m\u001b[1;33m\u001b[0m\u001b[0m\n\u001b[1;32m--> 421\u001b[1;33m             \u001b[0mX\u001b[0m \u001b[1;33m=\u001b[0m \u001b[0mcheck_array\u001b[0m\u001b[1;33m(\u001b[0m\u001b[0mX\u001b[0m\u001b[1;33m,\u001b[0m \u001b[1;33m**\u001b[0m\u001b[0mcheck_params\u001b[0m\u001b[1;33m)\u001b[0m\u001b[1;33m\u001b[0m\u001b[1;33m\u001b[0m\u001b[0m\n\u001b[0m\u001b[0;32m    422\u001b[0m             \u001b[0mout\u001b[0m \u001b[1;33m=\u001b[0m \u001b[0mX\u001b[0m\u001b[1;33m\u001b[0m\u001b[1;33m\u001b[0m\u001b[0m\n\u001b[0;32m    423\u001b[0m         \u001b[1;32melse\u001b[0m\u001b[1;33m:\u001b[0m\u001b[1;33m\u001b[0m\u001b[1;33m\u001b[0m\u001b[0m\n",
      "\u001b[1;32m~\\anaconda3\\lib\\site-packages\\sklearn\\utils\\validation.py\u001b[0m in \u001b[0;36minner_f\u001b[1;34m(*args, **kwargs)\u001b[0m\n\u001b[0;32m     61\u001b[0m             \u001b[0mextra_args\u001b[0m \u001b[1;33m=\u001b[0m \u001b[0mlen\u001b[0m\u001b[1;33m(\u001b[0m\u001b[0margs\u001b[0m\u001b[1;33m)\u001b[0m \u001b[1;33m-\u001b[0m \u001b[0mlen\u001b[0m\u001b[1;33m(\u001b[0m\u001b[0mall_args\u001b[0m\u001b[1;33m)\u001b[0m\u001b[1;33m\u001b[0m\u001b[1;33m\u001b[0m\u001b[0m\n\u001b[0;32m     62\u001b[0m             \u001b[1;32mif\u001b[0m \u001b[0mextra_args\u001b[0m \u001b[1;33m<=\u001b[0m \u001b[1;36m0\u001b[0m\u001b[1;33m:\u001b[0m\u001b[1;33m\u001b[0m\u001b[1;33m\u001b[0m\u001b[0m\n\u001b[1;32m---> 63\u001b[1;33m                 \u001b[1;32mreturn\u001b[0m \u001b[0mf\u001b[0m\u001b[1;33m(\u001b[0m\u001b[1;33m*\u001b[0m\u001b[0margs\u001b[0m\u001b[1;33m,\u001b[0m \u001b[1;33m**\u001b[0m\u001b[0mkwargs\u001b[0m\u001b[1;33m)\u001b[0m\u001b[1;33m\u001b[0m\u001b[1;33m\u001b[0m\u001b[0m\n\u001b[0m\u001b[0;32m     64\u001b[0m \u001b[1;33m\u001b[0m\u001b[0m\n\u001b[0;32m     65\u001b[0m             \u001b[1;31m# extra_args > 0\u001b[0m\u001b[1;33m\u001b[0m\u001b[1;33m\u001b[0m\u001b[1;33m\u001b[0m\u001b[0m\n",
      "\u001b[1;32m~\\anaconda3\\lib\\site-packages\\sklearn\\utils\\validation.py\u001b[0m in \u001b[0;36mcheck_array\u001b[1;34m(array, accept_sparse, accept_large_sparse, dtype, order, copy, force_all_finite, ensure_2d, allow_nd, ensure_min_samples, ensure_min_features, estimator)\u001b[0m\n\u001b[0;32m    661\u001b[0m \u001b[1;33m\u001b[0m\u001b[0m\n\u001b[0;32m    662\u001b[0m         \u001b[1;32mif\u001b[0m \u001b[0mforce_all_finite\u001b[0m\u001b[1;33m:\u001b[0m\u001b[1;33m\u001b[0m\u001b[1;33m\u001b[0m\u001b[0m\n\u001b[1;32m--> 663\u001b[1;33m             _assert_all_finite(array,\n\u001b[0m\u001b[0;32m    664\u001b[0m                                allow_nan=force_all_finite == 'allow-nan')\n\u001b[0;32m    665\u001b[0m \u001b[1;33m\u001b[0m\u001b[0m\n",
      "\u001b[1;32m~\\anaconda3\\lib\\site-packages\\sklearn\\utils\\validation.py\u001b[0m in \u001b[0;36m_assert_all_finite\u001b[1;34m(X, allow_nan, msg_dtype)\u001b[0m\n\u001b[0;32m    101\u001b[0m                 not allow_nan and not np.isfinite(X).all()):\n\u001b[0;32m    102\u001b[0m             \u001b[0mtype_err\u001b[0m \u001b[1;33m=\u001b[0m \u001b[1;34m'infinity'\u001b[0m \u001b[1;32mif\u001b[0m \u001b[0mallow_nan\u001b[0m \u001b[1;32melse\u001b[0m \u001b[1;34m'NaN, infinity'\u001b[0m\u001b[1;33m\u001b[0m\u001b[1;33m\u001b[0m\u001b[0m\n\u001b[1;32m--> 103\u001b[1;33m             raise ValueError(\n\u001b[0m\u001b[0;32m    104\u001b[0m                     \u001b[0mmsg_err\u001b[0m\u001b[1;33m.\u001b[0m\u001b[0mformat\u001b[0m\u001b[1;33m\u001b[0m\u001b[1;33m\u001b[0m\u001b[0m\n\u001b[0;32m    105\u001b[0m                     (type_err,\n",
      "\u001b[1;31mValueError\u001b[0m: Input contains NaN, infinity or a value too large for dtype('float64')."
     ]
    }
   ],
   "source": [
    "X=PCA(n_components=2).fit_transform(x)"
   ]
  },
  {
   "cell_type": "code",
   "execution_count": 103,
   "metadata": {
    "colab": {
     "base_uri": "https://localhost:8080/",
     "height": 1000
    },
    "id": "4lzZZbbiuOCD",
    "outputId": "7b89d5ca-af63-4c12-afb8-bf6754e111fd"
   },
   "outputs": [
    {
     "name": "stderr",
     "output_type": "stream",
     "text": [
      "<ipython-input-103-e9db1dc32312>:4: MatplotlibDeprecationWarning: Adding an axes using the same arguments as a previous axes currently reuses the earlier instance.  In a future version, a new instance will always be created and returned.  Meanwhile, this warning can be suppressed, and the future behavior ensured, by passing a unique label to each axes instance.\n",
      "  ax = fig.add_subplot()\n"
     ]
    },
    {
     "ename": "TypeError",
     "evalue": "'(slice(None, None, None), 0)' is an invalid key",
     "output_type": "error",
     "traceback": [
      "\u001b[1;31m---------------------------------------------------------------------------\u001b[0m",
      "\u001b[1;31mTypeError\u001b[0m                                 Traceback (most recent call last)",
      "\u001b[1;32m<ipython-input-103-e9db1dc32312>\u001b[0m in \u001b[0;36m<module>\u001b[1;34m\u001b[0m\n\u001b[0;32m      3\u001b[0m \u001b[0mnames\u001b[0m\u001b[1;33m=\u001b[0m\u001b[0mnp\u001b[0m\u001b[1;33m.\u001b[0m\u001b[0marray\u001b[0m\u001b[1;33m(\u001b[0m\u001b[0mnames\u001b[0m\u001b[1;33m)\u001b[0m\u001b[1;33m\u001b[0m\u001b[1;33m\u001b[0m\u001b[0m\n\u001b[0;32m      4\u001b[0m \u001b[0max\u001b[0m \u001b[1;33m=\u001b[0m \u001b[0mfig\u001b[0m\u001b[1;33m.\u001b[0m\u001b[0madd_subplot\u001b[0m\u001b[1;33m(\u001b[0m\u001b[1;33m)\u001b[0m\u001b[1;33m\u001b[0m\u001b[1;33m\u001b[0m\u001b[0m\n\u001b[1;32m----> 5\u001b[1;33m \u001b[0mplt\u001b[0m\u001b[1;33m.\u001b[0m\u001b[0mscatter\u001b[0m\u001b[1;33m(\u001b[0m\u001b[0mX\u001b[0m\u001b[1;33m[\u001b[0m\u001b[1;33m:\u001b[0m\u001b[1;33m,\u001b[0m\u001b[1;36m0\u001b[0m\u001b[1;33m]\u001b[0m\u001b[1;33m,\u001b[0m\u001b[0mX\u001b[0m\u001b[1;33m[\u001b[0m\u001b[1;33m:\u001b[0m\u001b[1;33m,\u001b[0m\u001b[1;36m1\u001b[0m\u001b[1;33m]\u001b[0m\u001b[1;33m,\u001b[0m\u001b[0mc\u001b[0m\u001b[1;33m=\u001b[0m\u001b[0mkmeans\u001b[0m\u001b[1;33m.\u001b[0m\u001b[0mlabels_\u001b[0m\u001b[1;33m)\u001b[0m\u001b[1;33m\u001b[0m\u001b[1;33m\u001b[0m\u001b[0m\n\u001b[0m\u001b[0;32m      6\u001b[0m \u001b[1;32mfor\u001b[0m \u001b[0mi\u001b[0m \u001b[1;32min\u001b[0m \u001b[0mrange\u001b[0m\u001b[1;33m(\u001b[0m\u001b[0mlen\u001b[0m\u001b[1;33m(\u001b[0m\u001b[0mX\u001b[0m\u001b[1;33m)\u001b[0m\u001b[1;33m)\u001b[0m\u001b[1;33m:\u001b[0m\u001b[1;33m\u001b[0m\u001b[1;33m\u001b[0m\u001b[0m\n\u001b[0;32m      7\u001b[0m   \u001b[0max\u001b[0m\u001b[1;33m.\u001b[0m\u001b[0mtext\u001b[0m\u001b[1;33m(\u001b[0m\u001b[0mX\u001b[0m\u001b[1;33m[\u001b[0m\u001b[0mi\u001b[0m\u001b[1;33m]\u001b[0m\u001b[1;33m[\u001b[0m\u001b[1;36m0\u001b[0m\u001b[1;33m]\u001b[0m\u001b[1;33m,\u001b[0m\u001b[0mX\u001b[0m\u001b[1;33m[\u001b[0m\u001b[0mi\u001b[0m\u001b[1;33m]\u001b[0m\u001b[1;33m[\u001b[0m\u001b[1;36m1\u001b[0m\u001b[1;33m]\u001b[0m\u001b[1;33m,\u001b[0m\u001b[0mnames\u001b[0m\u001b[1;33m[\u001b[0m\u001b[0mi\u001b[0m\u001b[1;33m]\u001b[0m\u001b[1;33m)\u001b[0m\u001b[1;33m\u001b[0m\u001b[1;33m\u001b[0m\u001b[0m\n",
      "\u001b[1;32m~\\anaconda3\\lib\\site-packages\\pandas\\core\\frame.py\u001b[0m in \u001b[0;36m__getitem__\u001b[1;34m(self, key)\u001b[0m\n\u001b[0;32m   2900\u001b[0m             \u001b[1;32mif\u001b[0m \u001b[0mself\u001b[0m\u001b[1;33m.\u001b[0m\u001b[0mcolumns\u001b[0m\u001b[1;33m.\u001b[0m\u001b[0mnlevels\u001b[0m \u001b[1;33m>\u001b[0m \u001b[1;36m1\u001b[0m\u001b[1;33m:\u001b[0m\u001b[1;33m\u001b[0m\u001b[1;33m\u001b[0m\u001b[0m\n\u001b[0;32m   2901\u001b[0m                 \u001b[1;32mreturn\u001b[0m \u001b[0mself\u001b[0m\u001b[1;33m.\u001b[0m\u001b[0m_getitem_multilevel\u001b[0m\u001b[1;33m(\u001b[0m\u001b[0mkey\u001b[0m\u001b[1;33m)\u001b[0m\u001b[1;33m\u001b[0m\u001b[1;33m\u001b[0m\u001b[0m\n\u001b[1;32m-> 2902\u001b[1;33m             \u001b[0mindexer\u001b[0m \u001b[1;33m=\u001b[0m \u001b[0mself\u001b[0m\u001b[1;33m.\u001b[0m\u001b[0mcolumns\u001b[0m\u001b[1;33m.\u001b[0m\u001b[0mget_loc\u001b[0m\u001b[1;33m(\u001b[0m\u001b[0mkey\u001b[0m\u001b[1;33m)\u001b[0m\u001b[1;33m\u001b[0m\u001b[1;33m\u001b[0m\u001b[0m\n\u001b[0m\u001b[0;32m   2903\u001b[0m             \u001b[1;32mif\u001b[0m \u001b[0mis_integer\u001b[0m\u001b[1;33m(\u001b[0m\u001b[0mindexer\u001b[0m\u001b[1;33m)\u001b[0m\u001b[1;33m:\u001b[0m\u001b[1;33m\u001b[0m\u001b[1;33m\u001b[0m\u001b[0m\n\u001b[0;32m   2904\u001b[0m                 \u001b[0mindexer\u001b[0m \u001b[1;33m=\u001b[0m \u001b[1;33m[\u001b[0m\u001b[0mindexer\u001b[0m\u001b[1;33m]\u001b[0m\u001b[1;33m\u001b[0m\u001b[1;33m\u001b[0m\u001b[0m\n",
      "\u001b[1;32m~\\anaconda3\\lib\\site-packages\\pandas\\core\\indexes\\base.py\u001b[0m in \u001b[0;36mget_loc\u001b[1;34m(self, key, method, tolerance)\u001b[0m\n\u001b[0;32m   2893\u001b[0m             \u001b[0mcasted_key\u001b[0m \u001b[1;33m=\u001b[0m \u001b[0mself\u001b[0m\u001b[1;33m.\u001b[0m\u001b[0m_maybe_cast_indexer\u001b[0m\u001b[1;33m(\u001b[0m\u001b[0mkey\u001b[0m\u001b[1;33m)\u001b[0m\u001b[1;33m\u001b[0m\u001b[1;33m\u001b[0m\u001b[0m\n\u001b[0;32m   2894\u001b[0m             \u001b[1;32mtry\u001b[0m\u001b[1;33m:\u001b[0m\u001b[1;33m\u001b[0m\u001b[1;33m\u001b[0m\u001b[0m\n\u001b[1;32m-> 2895\u001b[1;33m                 \u001b[1;32mreturn\u001b[0m \u001b[0mself\u001b[0m\u001b[1;33m.\u001b[0m\u001b[0m_engine\u001b[0m\u001b[1;33m.\u001b[0m\u001b[0mget_loc\u001b[0m\u001b[1;33m(\u001b[0m\u001b[0mcasted_key\u001b[0m\u001b[1;33m)\u001b[0m\u001b[1;33m\u001b[0m\u001b[1;33m\u001b[0m\u001b[0m\n\u001b[0m\u001b[0;32m   2896\u001b[0m             \u001b[1;32mexcept\u001b[0m \u001b[0mKeyError\u001b[0m \u001b[1;32mas\u001b[0m \u001b[0merr\u001b[0m\u001b[1;33m:\u001b[0m\u001b[1;33m\u001b[0m\u001b[1;33m\u001b[0m\u001b[0m\n\u001b[0;32m   2897\u001b[0m                 \u001b[1;32mraise\u001b[0m \u001b[0mKeyError\u001b[0m\u001b[1;33m(\u001b[0m\u001b[0mkey\u001b[0m\u001b[1;33m)\u001b[0m \u001b[1;32mfrom\u001b[0m \u001b[0merr\u001b[0m\u001b[1;33m\u001b[0m\u001b[1;33m\u001b[0m\u001b[0m\n",
      "\u001b[1;32mpandas\\_libs\\index.pyx\u001b[0m in \u001b[0;36mpandas._libs.index.IndexEngine.get_loc\u001b[1;34m()\u001b[0m\n",
      "\u001b[1;32mpandas\\_libs\\index.pyx\u001b[0m in \u001b[0;36mpandas._libs.index.IndexEngine.get_loc\u001b[1;34m()\u001b[0m\n",
      "\u001b[1;31mTypeError\u001b[0m: '(slice(None, None, None), 0)' is an invalid key"
     ]
    },
    {
     "data": {
      "image/png": "[encoded data removed]",
      "text/plain": [
       "<Figure size 1152x1152 with 1 Axes>"
      ]
     },
     "metadata": {
      "needs_background": "light"
     },
     "output_type": "display_data"
    }
   ],
   "source": [
    "fig=plt.figure(figsize=(16,16))\n",
    "plt.title(\"Player clustering using k-means clustering\")\n",
    "names=np.array(names)\n",
    "ax = fig.add_subplot()\n",
    "plt.scatter(X[:,0],X[:,1],c=kmeans.labels_)\n",
    "for i in range(len(X)):\n",
    "  ax.text(X[i][0],X[i][1],names[i])"
   ]
  },
  {
   "cell_type": "markdown",
   "metadata": {
    "id": "7rRjiwDOuYTw"
   },
   "source": [
    "#*Players analysis*\n",
    "\n",
    "Pour analyser les joueurs, je vais utiliser un graphique en radar. Cela devrait être familier à ceux qui jouent à la FIFA. De plus, les graphiques sont normalisés par la valeur la plus élevée du cadre de données pour les placer dans le même cadre. Cela place toutes les valeurs sur une échelle de 0 à 1, 1 étant la plus élevée dans chaque catégorie. Pour illustrer cela, regardons les 2 meilleurs joueurs de l'EPL et comparons leurs performances."
   ]
  },
  {
   "cell_type": "code",
   "execution_count": 106,
   "metadata": {
    "id": "ompTVdAMuOFl"
   },
   "outputs": [],
   "source": [
    "player_season_stats = df.groupby(['team_title','player_name'],as_index = False)[['goals','assists','shots','key_passes','xG','xA','xGBuildup', 'xGChain']].sum()\n",
    "player_season_stats = player_season_stats.sort_values(['team_title','xG'],ascending = False)\n",
    "p_s_s_top5_scaled = player_season_stats.copy()\n",
    "attrs =  ['goals', 'assists', 'shots', 'key_passes', 'xA', 'xGBuildup', 'xGChain','assists']\n",
    "p_s_s_top5_scaled[attrs] = p_s_s_top5_scaled[attrs] / p_s_s_top5_scaled[attrs].max() \n",
    "p_s_s_top5_scaled_stats = p_s_s_top5_scaled[['team_title','player_name', 'goals', 'assists','shots', 'key_passes']]\n",
    "p_s_s_top5_scaled_stats_melted = p_s_s_top5_scaled_stats.melt(id_vars = ['team_title','player_name'],value_vars = [ 'goals', 'assists','shots', 'key_passes'])\n",
    "p_s_s_top5_scaled_stats_melted = p_s_s_top5_scaled_stats_melted.merge(player_season_stats[['team_title','xG','player_name']], how = 'left', on = 'team_title')\n",
    "p_s_s_top5_scaled_stats_melted = p_s_s_top5_scaled_stats_melted.sort_values(['xG','variable'], ascending = False)"
   ]
  },
  {
   "cell_type": "code",
   "execution_count": 107,
   "metadata": {
    "colab": {
     "base_uri": "https://localhost:8080/",
     "height": 542
    },
    "id": "SgtaxCVzsCjC",
    "outputId": "1af594ea-12e6-4765-b599-4d9302a69de3"
   },
   "outputs": [
    {
     "data": {
      "application/vnd.plotly.v1+json": {
       "config": {
        "plotlyServerURL": "https://plot.ly"
       },
       "data": [
        {
         "fill": "toself",
         "name": "Robert Lewandowski",
         "r": [
          0.8787878787878788,
          0.32989690721649484,
          0.7580385852090032,
          0.37080536912751677
         ],
         "theta": [
          "goals",
          "assists",
          "shots",
          "key_passes"
         ],
         "type": "scatterpolar"
        },
        {
         "fill": "toself",
         "name": "Lionel Messi",
         "r": [
          1,
          1,
          1,
          1
         ],
         "theta": [
          "goals",
          "assists",
          "shots",
          "key_passes"
         ],
         "type": "scatterpolar"
        }
       ],
       "layout": {
        "polar": {
         "radialaxis": {
          "range": [
           0,
           1
          ],
          "visible": true
         }
        },
        "showlegend": true,
        "template": {
         "data": {
          "bar": [
           {
            "error_x": {
             "color": "#2a3f5f"
            },
            "error_y": {
             "color": "#2a3f5f"
            },
            "marker": {
             "line": {
              "color": "#E5ECF6",
              "width": 0.5
             }
            },
            "type": "bar"
           }
          ],
          "barpolar": [
           {
            "marker": {
             "line": {
              "color": "#E5ECF6",
              "width": 0.5
             }
            },
            "type": "barpolar"
           }
          ],
          "carpet": [
           {
            "aaxis": {
             "endlinecolor": "#2a3f5f",
             "gridcolor": "white",
             "linecolor": "white",
             "minorgridcolor": "white",
             "startlinecolor": "#2a3f5f"
            },
            "baxis": {
             "endlinecolor": "#2a3f5f",
             "gridcolor": "white",
             "linecolor": "white",
             "minorgridcolor": "white",
             "startlinecolor": "#2a3f5f"
            },
            "type": "carpet"
           }
          ],
          "choropleth": [
           {
            "colorbar": {
             "outlinewidth": 0,
             "ticks": ""
            },
            "type": "choropleth"
           }
          ],
          "contour": [
           {
            "colorbar": {
             "outlinewidth": 0,
             "ticks": ""
            },
            "colorscale": [
             [
              0,
              "#0d0887"
             ],
             [
              0.1111111111111111,
              "#46039f"
             ],
             [
              0.2222222222222222,
              "#7201a8"
             ],
             [
              0.3333333333333333,
              "#9c179e"
             ],
             [
              0.4444444444444444,
              "#bd3786"
             ],
             [
              0.5555555555555556,
              "#d8576b"
             ],
             [
              0.6666666666666666,
              "#ed7953"
             ],
             [
              0.7777777777777778,
              "#fb9f3a"
             ],
             [
              0.8888888888888888,
              "#fdca26"
             ],
             [
              1,
              "#f0f921"
             ]
            ],
            "type": "contour"
           }
          ],
          "contourcarpet": [
           {
            "colorbar": {
             "outlinewidth": 0,
             "ticks": ""
            },
            "type": "contourcarpet"
           }
          ],
          "heatmap": [
           {
            "colorbar": {
             "outlinewidth": 0,
             "ticks": ""
            },
            "colorscale": [
             [
              0,
              "#0d0887"
             ],
             [
              0.1111111111111111,
              "#46039f"
             ],
             [
              0.2222222222222222,
              "#7201a8"
             ],
             [
              0.3333333333333333,
              "#9c179e"
             ],
             [
              0.4444444444444444,
              "#bd3786"
             ],
             [
              0.5555555555555556,
              "#d8576b"
             ],
             [
              0.6666666666666666,
              "#ed7953"
             ],
             [
              0.7777777777777778,
              "#fb9f3a"
             ],
             [
              0.8888888888888888,
              "#fdca26"
             ],
             [
              1,
              "#f0f921"
             ]
            ],
            "type": "heatmap"
           }
          ],
          "heatmapgl": [
           {
            "colorbar": {
             "outlinewidth": 0,
             "ticks": ""
            },
            "colorscale": [
             [
              0,
              "#0d0887"
             ],
             [
              0.1111111111111111,
              "#46039f"
             ],
             [
              0.2222222222222222,
              "#7201a8"
             ],
             [
              0.3333333333333333,
              "#9c179e"
             ],
             [
              0.4444444444444444,
              "#bd3786"
             ],
             [
              0.5555555555555556,
              "#d8576b"
             ],
             [
              0.6666666666666666,
              "#ed7953"
             ],
             [
              0.7777777777777778,
              "#fb9f3a"
             ],
             [
              0.8888888888888888,
              "#fdca26"
             ],
             [
              1,
              "#f0f921"
             ]
            ],
            "type": "heatmapgl"
           }
          ],
          "histogram": [
           {
            "marker": {
             "colorbar": {
              "outlinewidth": 0,
              "ticks": ""
             }
            },
            "type": "histogram"
           }
          ],
          "histogram2d": [
           {
            "colorbar": {
             "outlinewidth": 0,
             "ticks": ""
            },
            "colorscale": [
             [
              0,
              "#0d0887"
             ],
             [
              0.1111111111111111,
              "#46039f"
             ],
             [
              0.2222222222222222,
              "#7201a8"
             ],
             [
              0.3333333333333333,
              "#9c179e"
             ],
             [
              0.4444444444444444,
              "#bd3786"
             ],
             [
              0.5555555555555556,
              "#d8576b"
             ],
             [
              0.6666666666666666,
              "#ed7953"
             ],
             [
              0.7777777777777778,
              "#fb9f3a"
             ],
             [
              0.8888888888888888,
              "#fdca26"
             ],
             [
              1,
              "#f0f921"
             ]
            ],
            "type": "histogram2d"
           }
          ],
          "histogram2dcontour": [
           {
            "colorbar": {
             "outlinewidth": 0,
             "ticks": ""
            },
            "colorscale": [
             [
              0,
              "#0d0887"
             ],
             [
              0.1111111111111111,
              "#46039f"
             ],
             [
              0.2222222222222222,
              "#7201a8"
             ],
             [
              0.3333333333333333,
              "#9c179e"
             ],
             [
              0.4444444444444444,
              "#bd3786"
             ],
             [
              0.5555555555555556,
              "#d8576b"
             ],
             [
              0.6666666666666666,
              "#ed7953"
             ],
             [
              0.7777777777777778,
              "#fb9f3a"
             ],
             [
              0.8888888888888888,
              "#fdca26"
             ],
             [
              1,
              "#f0f921"
             ]
            ],
            "type": "histogram2dcontour"
           }
          ],
          "mesh3d": [
           {
            "colorbar": {
             "outlinewidth": 0,
             "ticks": ""
            },
            "type": "mesh3d"
           }
          ],
          "parcoords": [
           {
            "line": {
             "colorbar": {
              "outlinewidth": 0,
              "ticks": ""
             }
            },
            "type": "parcoords"
           }
          ],
          "pie": [
           {
            "automargin": true,
            "type": "pie"
           }
          ],
          "scatter": [
           {
            "marker": {
             "colorbar": {
              "outlinewidth": 0,
              "ticks": ""
             }
            },
            "type": "scatter"
           }
          ],
          "scatter3d": [
           {
            "line": {
             "colorbar": {
              "outlinewidth": 0,
              "ticks": ""
             }
            },
            "marker": {
             "colorbar": {
              "outlinewidth": 0,
              "ticks": ""
             }
            },
            "type": "scatter3d"
           }
          ],
          "scattercarpet": [
           {
            "marker": {
             "colorbar": {
              "outlinewidth": 0,
              "ticks": ""
             }
            },
            "type": "scattercarpet"
           }
          ],
          "scattergeo": [
           {
            "marker": {
             "colorbar": {
              "outlinewidth": 0,
              "ticks": ""
             }
            },
            "type": "scattergeo"
           }
          ],
          "scattergl": [
           {
            "marker": {
             "colorbar": {
              "outlinewidth": 0,
              "ticks": ""
             }
            },
            "type": "scattergl"
           }
          ],
          "scattermapbox": [
           {
            "marker": {
             "colorbar": {
              "outlinewidth": 0,
              "ticks": ""
             }
            },
            "type": "scattermapbox"
           }
          ],
          "scatterpolar": [
           {
            "marker": {
             "colorbar": {
              "outlinewidth": 0,
              "ticks": ""
             }
            },
            "type": "scatterpolar"
           }
          ],
          "scatterpolargl": [
           {
            "marker": {
             "colorbar": {
              "outlinewidth": 0,
              "ticks": ""
             }
            },
            "type": "scatterpolargl"
           }
          ],
          "scatterternary": [
           {
            "marker": {
             "colorbar": {
              "outlinewidth": 0,
              "ticks": ""
             }
            },
            "type": "scatterternary"
           }
          ],
          "surface": [
           {
            "colorbar": {
             "outlinewidth": 0,
             "ticks": ""
            },
            "colorscale": [
             [
              0,
              "#0d0887"
             ],
             [
              0.1111111111111111,
              "#46039f"
             ],
             [
              0.2222222222222222,
              "#7201a8"
             ],
             [
              0.3333333333333333,
              "#9c179e"
             ],
             [
              0.4444444444444444,
              "#bd3786"
             ],
             [
              0.5555555555555556,
              "#d8576b"
             ],
             [
              0.6666666666666666,
              "#ed7953"
             ],
             [
              0.7777777777777778,
              "#fb9f3a"
             ],
             [
              0.8888888888888888,
              "#fdca26"
             ],
             [
              1,
              "#f0f921"
             ]
            ],
            "type": "surface"
           }
          ],
          "table": [
           {
            "cells": {
             "fill": {
              "color": "#EBF0F8"
             },
             "line": {
              "color": "white"
             }
            },
            "header": {
             "fill": {
              "color": "#C8D4E3"
             },
             "line": {
              "color": "white"
             }
            },
            "type": "table"
           }
          ]
         },
         "layout": {
          "annotationdefaults": {
           "arrowcolor": "#2a3f5f",
           "arrowhead": 0,
           "arrowwidth": 1
          },
          "autotypenumbers": "strict",
          "coloraxis": {
           "colorbar": {
            "outlinewidth": 0,
            "ticks": ""
           }
          },
          "colorscale": {
           "diverging": [
            [
             0,
             "#8e0152"
            ],
            [
             0.1,
             "#c51b7d"
            ],
            [
             0.2,
             "#de77ae"
            ],
            [
             0.3,
             "#f1b6da"
            ],
            [
             0.4,
             "#fde0ef"
            ],
            [
             0.5,
             "#f7f7f7"
            ],
            [
             0.6,
             "#e6f5d0"
            ],
            [
             0.7,
             "#b8e186"
            ],
            [
             0.8,
             "#7fbc41"
            ],
            [
             0.9,
             "#4d9221"
            ],
            [
             1,
             "#276419"
            ]
           ],
           "sequential": [
            [
             0,
             "#0d0887"
            ],
            [
             0.1111111111111111,
             "#46039f"
            ],
            [
             0.2222222222222222,
             "#7201a8"
            ],
            [
             0.3333333333333333,
             "#9c179e"
            ],
            [
             0.4444444444444444,
             "#bd3786"
            ],
            [
             0.5555555555555556,
             "#d8576b"
            ],
            [
             0.6666666666666666,
             "#ed7953"
            ],
            [
             0.7777777777777778,
             "#fb9f3a"
            ],
            [
             0.8888888888888888,
             "#fdca26"
            ],
            [
             1,
             "#f0f921"
            ]
           ],
           "sequentialminus": [
            [
             0,
             "#0d0887"
            ],
            [
             0.1111111111111111,
             "#46039f"
            ],
            [
             0.2222222222222222,
             "#7201a8"
            ],
            [
             0.3333333333333333,
             "#9c179e"
            ],
            [
             0.4444444444444444,
             "#bd3786"
            ],
            [
             0.5555555555555556,
             "#d8576b"
            ],
            [
             0.6666666666666666,
             "#ed7953"
            ],
            [
             0.7777777777777778,
             "#fb9f3a"
            ],
            [
             0.8888888888888888,
             "#fdca26"
            ],
            [
             1,
             "#f0f921"
            ]
           ]
          },
          "colorway": [
           "#636efa",
           "#EF553B",
           "#00cc96",
           "#ab63fa",
           "#FFA15A",
           "#19d3f3",
           "#FF6692",
           "#B6E880",
           "#FF97FF",
           "#FECB52"
          ],
          "font": {
           "color": "#2a3f5f"
          },
          "geo": {
           "bgcolor": "white",
           "lakecolor": "white",
           "landcolor": "#E5ECF6",
           "showlakes": true,
           "showland": true,
           "subunitcolor": "white"
          },
          "hoverlabel": {
           "align": "left"
          },
          "hovermode": "closest",
          "mapbox": {
           "style": "light"
          },
          "paper_bgcolor": "white",
          "plot_bgcolor": "#E5ECF6",
          "polar": {
           "angularaxis": {
            "gridcolor": "white",
            "linecolor": "white",
            "ticks": ""
           },
           "bgcolor": "#E5ECF6",
           "radialaxis": {
            "gridcolor": "white",
            "linecolor": "white",
            "ticks": ""
           }
          },
          "scene": {
           "xaxis": {
            "backgroundcolor": "#E5ECF6",
            "gridcolor": "white",
            "gridwidth": 2,
            "linecolor": "white",
            "showbackground": true,
            "ticks": "",
            "zerolinecolor": "white"
           },
           "yaxis": {
            "backgroundcolor": "#E5ECF6",
            "gridcolor": "white",
            "gridwidth": 2,
            "linecolor": "white",
            "showbackground": true,
            "ticks": "",
            "zerolinecolor": "white"
           },
           "zaxis": {
            "backgroundcolor": "#E5ECF6",
            "gridcolor": "white",
            "gridwidth": 2,
            "linecolor": "white",
            "showbackground": true,
            "ticks": "",
            "zerolinecolor": "white"
           }
          },
          "shapedefaults": {
           "line": {
            "color": "#2a3f5f"
           }
          },
          "ternary": {
           "aaxis": {
            "gridcolor": "white",
            "linecolor": "white",
            "ticks": ""
           },
           "baxis": {
            "gridcolor": "white",
            "linecolor": "white",
            "ticks": ""
           },
           "bgcolor": "#E5ECF6",
           "caxis": {
            "gridcolor": "white",
            "linecolor": "white",
            "ticks": ""
           }
          },
          "title": {
           "x": 0.05
          },
          "xaxis": {
           "automargin": true,
           "gridcolor": "white",
           "linecolor": "white",
           "ticks": "",
           "title": {
            "standoff": 15
           },
           "zerolinecolor": "white",
           "zerolinewidth": 2
          },
          "yaxis": {
           "automargin": true,
           "gridcolor": "white",
           "linecolor": "white",
           "ticks": "",
           "title": {
            "standoff": 15
           },
           "zerolinecolor": "white",
           "zerolinewidth": 2
          }
         }
        },
        "title": {
         "text": "Messi vs Lewandowski"
        }
       }
      },
      "text/html": [
       "<div>                            <div id=\"456bfe95-7f01-4586-af44-320381bd132e\" class=\"plotly-graph-div\" style=\"height:525px; width:100%;\"></div>            <script type=\"text/javascript\">                require([\"plotly\"], function(Plotly) {                    window.PLOTLYENV=window.PLOTLYENV || {};                                    if (document.getElementById(\"456bfe95-7f01-4586-af44-320381bd132e\")) {                    Plotly.newPlot(                        \"456bfe95-7f01-4586-af44-320381bd132e\",                        [{\"fill\": \"toself\", \"name\": \"Robert Lewandowski\", \"r\": [0.8787878787878788, 0.32989690721649484, 0.7580385852090032, 0.37080536912751677], \"theta\": [\"goals\", \"assists\", \"shots\", \"key_passes\"], \"type\": \"scatterpolar\"}, {\"fill\": \"toself\", \"name\": \"Lionel Messi\", \"r\": [1.0, 1.0, 1.0, 1.0], \"theta\": [\"goals\", \"assists\", \"shots\", \"key_passes\"], \"type\": \"scatterpolar\"}],                        {\"polar\": {\"radialaxis\": {\"range\": [0, 1], \"visible\": true}}, \"showlegend\": true, \"template\": {\"data\": {\"bar\": [{\"error_x\": {\"color\": \"#2a3f5f\"}, \"error_y\": {\"color\": \"#2a3f5f\"}, \"marker\": {\"line\": {\"color\": \"#E5ECF6\", \"width\": 0.5}}, \"type\": \"bar\"}], \"barpolar\": [{\"marker\": {\"line\": {\"color\": \"#E5ECF6\", \"width\": 0.5}}, \"type\": \"barpolar\"}], \"carpet\": [{\"aaxis\": {\"endlinecolor\": \"#2a3f5f\", \"gridcolor\": \"white\", \"linecolor\": \"white\", \"minorgridcolor\": \"white\", \"startlinecolor\": \"#2a3f5f\"}, \"baxis\": {\"endlinecolor\": \"#2a3f5f\", \"gridcolor\": \"white\", \"linecolor\": \"white\", \"minorgridcolor\": \"white\", \"startlinecolor\": \"#2a3f5f\"}, \"type\": \"carpet\"}], \"choropleth\": [{\"colorbar\": {\"outlinewidth\": 0, \"ticks\": \"\"}, \"type\": \"choropleth\"}], \"contour\": [{\"colorbar\": {\"outlinewidth\": 0, \"ticks\": \"\"}, \"colorscale\": [[0.0, \"#0d0887\"], [0.1111111111111111, \"#46039f\"], [0.2222222222222222, \"#7201a8\"], [0.3333333333333333, \"#9c179e\"], [0.4444444444444444, \"#bd3786\"], [0.5555555555555556, \"#d8576b\"], [0.6666666666666666, \"#ed7953\"], [0.7777777777777778, \"#fb9f3a\"], [0.8888888888888888, \"#fdca26\"], [1.0, \"#f0f921\"]], \"type\": \"contour\"}], \"contourcarpet\": [{\"colorbar\": {\"outlinewidth\": 0, \"ticks\": \"\"}, \"type\": \"contourcarpet\"}], \"heatmap\": [{\"colorbar\": {\"outlinewidth\": 0, \"ticks\": \"\"}, \"colorscale\": [[0.0, \"#0d0887\"], [0.1111111111111111, \"#46039f\"], [0.2222222222222222, \"#7201a8\"], [0.3333333333333333, \"#9c179e\"], [0.4444444444444444, \"#bd3786\"], [0.5555555555555556, \"#d8576b\"], [0.6666666666666666, \"#ed7953\"], [0.7777777777777778, \"#fb9f3a\"], [0.8888888888888888, \"#fdca26\"], [1.0, \"#f0f921\"]], \"type\": \"heatmap\"}], \"heatmapgl\": [{\"colorbar\": {\"outlinewidth\": 0, \"ticks\": \"\"}, \"colorscale\": [[0.0, \"#0d0887\"], [0.1111111111111111, \"#46039f\"], [0.2222222222222222, \"#7201a8\"], [0.3333333333333333, \"#9c179e\"], [0.4444444444444444, \"#bd3786\"], [0.5555555555555556, \"#d8576b\"], [0.6666666666666666, \"#ed7953\"], [0.7777777777777778, \"#fb9f3a\"], [0.8888888888888888, \"#fdca26\"], [1.0, \"#f0f921\"]], \"type\": \"heatmapgl\"}], \"histogram\": [{\"marker\": {\"colorbar\": {\"outlinewidth\": 0, \"ticks\": \"\"}}, \"type\": \"histogram\"}], \"histogram2d\": [{\"colorbar\": {\"outlinewidth\": 0, \"ticks\": \"\"}, \"colorscale\": [[0.0, \"#0d0887\"], [0.1111111111111111, \"#46039f\"], [0.2222222222222222, \"#7201a8\"], [0.3333333333333333, \"#9c179e\"], [0.4444444444444444, \"#bd3786\"], [0.5555555555555556, \"#d8576b\"], [0.6666666666666666, \"#ed7953\"], [0.7777777777777778, \"#fb9f3a\"], [0.8888888888888888, \"#fdca26\"], [1.0, \"#f0f921\"]], \"type\": \"histogram2d\"}], \"histogram2dcontour\": [{\"colorbar\": {\"outlinewidth\": 0, \"ticks\": \"\"}, \"colorscale\": [[0.0, \"#0d0887\"], [0.1111111111111111, \"#46039f\"], [0.2222222222222222, \"#7201a8\"], [0.3333333333333333, \"#9c179e\"], [0.4444444444444444, \"#bd3786\"], [0.5555555555555556, \"#d8576b\"], [0.6666666666666666, \"#ed7953\"], [0.7777777777777778, \"#fb9f3a\"], [0.8888888888888888, \"#fdca26\"], [1.0, \"#f0f921\"]], \"type\": \"histogram2dcontour\"}], \"mesh3d\": [{\"colorbar\": {\"outlinewidth\": 0, \"ticks\": \"\"}, \"type\": \"mesh3d\"}], \"parcoords\": [{\"line\": {\"colorbar\": {\"outlinewidth\": 0, \"ticks\": \"\"}}, \"type\": \"parcoords\"}], \"pie\": [{\"automargin\": true, \"type\": \"pie\"}], \"scatter\": [{\"marker\": {\"colorbar\": {\"outlinewidth\": 0, \"ticks\": \"\"}}, \"type\": \"scatter\"}], \"scatter3d\": [{\"line\": {\"colorbar\": {\"outlinewidth\": 0, \"ticks\": \"\"}}, \"marker\": {\"colorbar\": {\"outlinewidth\": 0, \"ticks\": \"\"}}, \"type\": \"scatter3d\"}], \"scattercarpet\": [{\"marker\": {\"colorbar\": {\"outlinewidth\": 0, \"ticks\": \"\"}}, \"type\": \"scattercarpet\"}], \"scattergeo\": [{\"marker\": {\"colorbar\": {\"outlinewidth\": 0, \"ticks\": \"\"}}, \"type\": \"scattergeo\"}], \"scattergl\": [{\"marker\": {\"colorbar\": {\"outlinewidth\": 0, \"ticks\": \"\"}}, \"type\": \"scattergl\"}], \"scattermapbox\": [{\"marker\": {\"colorbar\": {\"outlinewidth\": 0, \"ticks\": \"\"}}, \"type\": \"scattermapbox\"}], \"scatterpolar\": [{\"marker\": {\"colorbar\": {\"outlinewidth\": 0, \"ticks\": \"\"}}, \"type\": \"scatterpolar\"}], \"scatterpolargl\": [{\"marker\": {\"colorbar\": {\"outlinewidth\": 0, \"ticks\": \"\"}}, \"type\": \"scatterpolargl\"}], \"scatterternary\": [{\"marker\": {\"colorbar\": {\"outlinewidth\": 0, \"ticks\": \"\"}}, \"type\": \"scatterternary\"}], \"surface\": [{\"colorbar\": {\"outlinewidth\": 0, \"ticks\": \"\"}, \"colorscale\": [[0.0, \"#0d0887\"], [0.1111111111111111, \"#46039f\"], [0.2222222222222222, \"#7201a8\"], [0.3333333333333333, \"#9c179e\"], [0.4444444444444444, \"#bd3786\"], [0.5555555555555556, \"#d8576b\"], [0.6666666666666666, \"#ed7953\"], [0.7777777777777778, \"#fb9f3a\"], [0.8888888888888888, \"#fdca26\"], [1.0, \"#f0f921\"]], \"type\": \"surface\"}], \"table\": [{\"cells\": {\"fill\": {\"color\": \"#EBF0F8\"}, \"line\": {\"color\": \"white\"}}, \"header\": {\"fill\": {\"color\": \"#C8D4E3\"}, \"line\": {\"color\": \"white\"}}, \"type\": \"table\"}]}, \"layout\": {\"annotationdefaults\": {\"arrowcolor\": \"#2a3f5f\", \"arrowhead\": 0, \"arrowwidth\": 1}, \"autotypenumbers\": \"strict\", \"coloraxis\": {\"colorbar\": {\"outlinewidth\": 0, \"ticks\": \"\"}}, \"colorscale\": {\"diverging\": [[0, \"#8e0152\"], [0.1, \"#c51b7d\"], [0.2, \"#de77ae\"], [0.3, \"#f1b6da\"], [0.4, \"#fde0ef\"], [0.5, \"#f7f7f7\"], [0.6, \"#e6f5d0\"], [0.7, \"#b8e186\"], [0.8, \"#7fbc41\"], [0.9, \"#4d9221\"], [1, \"#276419\"]], \"sequential\": [[0.0, \"#0d0887\"], [0.1111111111111111, \"#46039f\"], [0.2222222222222222, \"#7201a8\"], [0.3333333333333333, \"#9c179e\"], [0.4444444444444444, \"#bd3786\"], [0.5555555555555556, \"#d8576b\"], [0.6666666666666666, \"#ed7953\"], [0.7777777777777778, \"#fb9f3a\"], [0.8888888888888888, \"#fdca26\"], [1.0, \"#f0f921\"]], \"sequentialminus\": [[0.0, \"#0d0887\"], [0.1111111111111111, \"#46039f\"], [0.2222222222222222, \"#7201a8\"], [0.3333333333333333, \"#9c179e\"], [0.4444444444444444, \"#bd3786\"], [0.5555555555555556, \"#d8576b\"], [0.6666666666666666, \"#ed7953\"], [0.7777777777777778, \"#fb9f3a\"], [0.8888888888888888, \"#fdca26\"], [1.0, \"#f0f921\"]]}, \"colorway\": [\"#636efa\", \"#EF553B\", \"#00cc96\", \"#ab63fa\", \"#FFA15A\", \"#19d3f3\", \"#FF6692\", \"#B6E880\", \"#FF97FF\", \"#FECB52\"], \"font\": {\"color\": \"#2a3f5f\"}, \"geo\": {\"bgcolor\": \"white\", \"lakecolor\": \"white\", \"landcolor\": \"#E5ECF6\", \"showlakes\": true, \"showland\": true, \"subunitcolor\": \"white\"}, \"hoverlabel\": {\"align\": \"left\"}, \"hovermode\": \"closest\", \"mapbox\": {\"style\": \"light\"}, \"paper_bgcolor\": \"white\", \"plot_bgcolor\": \"#E5ECF6\", \"polar\": {\"angularaxis\": {\"gridcolor\": \"white\", \"linecolor\": \"white\", \"ticks\": \"\"}, \"bgcolor\": \"#E5ECF6\", \"radialaxis\": {\"gridcolor\": \"white\", \"linecolor\": \"white\", \"ticks\": \"\"}}, \"scene\": {\"xaxis\": {\"backgroundcolor\": \"#E5ECF6\", \"gridcolor\": \"white\", \"gridwidth\": 2, \"linecolor\": \"white\", \"showbackground\": true, \"ticks\": \"\", \"zerolinecolor\": \"white\"}, \"yaxis\": {\"backgroundcolor\": \"#E5ECF6\", \"gridcolor\": \"white\", \"gridwidth\": 2, \"linecolor\": \"white\", \"showbackground\": true, \"ticks\": \"\", \"zerolinecolor\": \"white\"}, \"zaxis\": {\"backgroundcolor\": \"#E5ECF6\", \"gridcolor\": \"white\", \"gridwidth\": 2, \"linecolor\": \"white\", \"showbackground\": true, \"ticks\": \"\", \"zerolinecolor\": \"white\"}}, \"shapedefaults\": {\"line\": {\"color\": \"#2a3f5f\"}}, \"ternary\": {\"aaxis\": {\"gridcolor\": \"white\", \"linecolor\": \"white\", \"ticks\": \"\"}, \"baxis\": {\"gridcolor\": \"white\", \"linecolor\": \"white\", \"ticks\": \"\"}, \"bgcolor\": \"#E5ECF6\", \"caxis\": {\"gridcolor\": \"white\", \"linecolor\": \"white\", \"ticks\": \"\"}}, \"title\": {\"x\": 0.05}, \"xaxis\": {\"automargin\": true, \"gridcolor\": \"white\", \"linecolor\": \"white\", \"ticks\": \"\", \"title\": {\"standoff\": 15}, \"zerolinecolor\": \"white\", \"zerolinewidth\": 2}, \"yaxis\": {\"automargin\": true, \"gridcolor\": \"white\", \"linecolor\": \"white\", \"ticks\": \"\", \"title\": {\"standoff\": 15}, \"zerolinecolor\": \"white\", \"zerolinewidth\": 2}}}, \"title\": {\"text\": \"Messi vs Lewandowski\"}},                        {\"responsive\": true}                    ).then(function(){\n",
       "                            \n",
       "var gd = document.getElementById('456bfe95-7f01-4586-af44-320381bd132e');\n",
       "var x = new MutationObserver(function (mutations, observer) {{\n",
       "        var display = window.getComputedStyle(gd).display;\n",
       "        if (!display || display === 'none') {{\n",
       "            console.log([gd, 'removed!']);\n",
       "            Plotly.purge(gd);\n",
       "            observer.disconnect();\n",
       "        }}\n",
       "}});\n",
       "\n",
       "// Listen for the removal of the full notebook cells\n",
       "var notebookContainer = gd.closest('#notebook-container');\n",
       "if (notebookContainer) {{\n",
       "    x.observe(notebookContainer, {childList: true});\n",
       "}}\n",
       "\n",
       "// Listen for the clearing of the current output cell\n",
       "var outputEl = gd.closest('.output');\n",
       "if (outputEl) {{\n",
       "    x.observe(outputEl, {childList: true});\n",
       "}}\n",
       "\n",
       "                        })                };                });            </script>        </div>"
      ]
     },
     "metadata": {},
     "output_type": "display_data"
    }
   ],
   "source": [
    "p_s_s_top5_scaled = p_s_s_top5_scaled.sort_values('xG',ascending = False)\n",
    "\n",
    "radar_cols = ['goals', 'assists', 'shots', 'key_passes']\n",
    "fig = go.Figure()\n",
    "for i in range(2):\n",
    "    fig.add_trace(go.Scatterpolar(\n",
    "          r=p_s_s_top5_scaled[radar_cols].iloc[i],\n",
    "          theta=radar_cols,\n",
    "          fill='toself',\n",
    "          name=p_s_s_top5_scaled['player_name'].iloc[i]))\n",
    "\n",
    "\n",
    "fig.update_layout(polar=dict(radialaxis=dict(visible=True,range=[0, 1])),showlegend=True, title = 'Messi vs Lewandowski')\n",
    "\n",
    "fig.show()"
   ]
  },
  {
   "cell_type": "markdown",
   "metadata": {
    "id": "q87uSkhK62NH"
   },
   "source": [
    "Vous pouvez filtrer le graphique en cliquant ou en double-cliquant sur la légende dans le coin supérieur droit.\n",
    "\n",
    "De Bruyne était le leader de la ligue pour les passes décisives et les passes décisives. Cela a du sens étant donné qu'il est vraiment une force sur la nature en termes de créativité.\n",
    "\n",
    "Salah mène la ligue en termes de tirs mais la conversion semble être faible. Nous approfondirons ces deux facteurs à un stade ultérieur. Pour l'instant, mettons-nous à l'aise avec l'apparence et la convivialité de ces graphiques."
   ]
  },
  {
   "cell_type": "code",
   "execution_count": 108,
   "metadata": {
    "colab": {
     "base_uri": "https://localhost:8080/",
     "height": 542
    },
    "id": "pJUyEPxkwOlo",
    "outputId": "e05aa773-3348-41c5-b3df-2f975a3827e6"
   },
   "outputs": [
    {
     "data": {
      "application/vnd.plotly.v1+json": {
       "config": {
        "plotlyServerURL": "https://plot.ly"
       },
       "data": [
        {
         "fill": "toself",
         "name": "Robert Lewandowski",
         "r": [
          0.8787878787878788,
          0.32989690721649484,
          0.7580385852090032,
          0.37080536912751677
         ],
         "theta": [
          "goals",
          "assists",
          "shots",
          "key_passes"
         ],
         "type": "scatterpolar"
        },
        {
         "fill": "toself",
         "name": "Lionel Messi",
         "r": [
          1,
          1,
          1,
          1
         ],
         "theta": [
          "goals",
          "assists",
          "shots",
          "key_passes"
         ],
         "type": "scatterpolar"
        },
        {
         "fill": "toself",
         "name": "Harry Kane",
         "r": [
          0.7056277056277056,
          0.35051546391752575,
          0.7122186495176849,
          0.4228187919463087
         ],
         "theta": [
          "goals",
          "assists",
          "shots",
          "key_passes"
         ],
         "type": "scatterpolar"
        },
        {
         "fill": "toself",
         "name": "Luis Suárez",
         "r": [
          0.6363636363636364,
          0.711340206185567,
          0.5176848874598071,
          0.5151006711409396
         ],
         "theta": [
          "goals",
          "assists",
          "shots",
          "key_passes"
         ],
         "type": "scatterpolar"
        },
        {
         "fill": "toself",
         "name": "Edinson Cavani",
         "r": [
          0.5281385281385281,
          0.2268041237113402,
          0.4228295819935691,
          0.2080536912751678
         ],
         "theta": [
          "goals",
          "assists",
          "shots",
          "key_passes"
         ],
         "type": "scatterpolar"
        }
       ],
       "layout": {
        "polar": {
         "radialaxis": {
          "range": [
           0,
           1
          ],
          "visible": true
         }
        },
        "showlegend": true,
        "template": {
         "data": {
          "bar": [
           {
            "error_x": {
             "color": "#2a3f5f"
            },
            "error_y": {
             "color": "#2a3f5f"
            },
            "marker": {
             "line": {
              "color": "#E5ECF6",
              "width": 0.5
             }
            },
            "type": "bar"
           }
          ],
          "barpolar": [
           {
            "marker": {
             "line": {
              "color": "#E5ECF6",
              "width": 0.5
             }
            },
            "type": "barpolar"
           }
          ],
          "carpet": [
           {
            "aaxis": {
             "endlinecolor": "#2a3f5f",
             "gridcolor": "white",
             "linecolor": "white",
             "minorgridcolor": "white",
             "startlinecolor": "#2a3f5f"
            },
            "baxis": {
             "endlinecolor": "#2a3f5f",
             "gridcolor": "white",
             "linecolor": "white",
             "minorgridcolor": "white",
             "startlinecolor": "#2a3f5f"
            },
            "type": "carpet"
           }
          ],
          "choropleth": [
           {
            "colorbar": {
             "outlinewidth": 0,
             "ticks": ""
            },
            "type": "choropleth"
           }
          ],
          "contour": [
           {
            "colorbar": {
             "outlinewidth": 0,
             "ticks": ""
            },
            "colorscale": [
             [
              0,
              "#0d0887"
             ],
             [
              0.1111111111111111,
              "#46039f"
             ],
             [
              0.2222222222222222,
              "#7201a8"
             ],
             [
              0.3333333333333333,
              "#9c179e"
             ],
             [
              0.4444444444444444,
              "#bd3786"
             ],
             [
              0.5555555555555556,
              "#d8576b"
             ],
             [
              0.6666666666666666,
              "#ed7953"
             ],
             [
              0.7777777777777778,
              "#fb9f3a"
             ],
             [
              0.8888888888888888,
              "#fdca26"
             ],
             [
              1,
              "#f0f921"
             ]
            ],
            "type": "contour"
           }
          ],
          "contourcarpet": [
           {
            "colorbar": {
             "outlinewidth": 0,
             "ticks": ""
            },
            "type": "contourcarpet"
           }
          ],
          "heatmap": [
           {
            "colorbar": {
             "outlinewidth": 0,
             "ticks": ""
            },
            "colorscale": [
             [
              0,
              "#0d0887"
             ],
             [
              0.1111111111111111,
              "#46039f"
             ],
             [
              0.2222222222222222,
              "#7201a8"
             ],
             [
              0.3333333333333333,
              "#9c179e"
             ],
             [
              0.4444444444444444,
              "#bd3786"
             ],
             [
              0.5555555555555556,
              "#d8576b"
             ],
             [
              0.6666666666666666,
              "#ed7953"
             ],
             [
              0.7777777777777778,
              "#fb9f3a"
             ],
             [
              0.8888888888888888,
              "#fdca26"
             ],
             [
              1,
              "#f0f921"
             ]
            ],
            "type": "heatmap"
           }
          ],
          "heatmapgl": [
           {
            "colorbar": {
             "outlinewidth": 0,
             "ticks": ""
            },
            "colorscale": [
             [
              0,
              "#0d0887"
             ],
             [
              0.1111111111111111,
              "#46039f"
             ],
             [
              0.2222222222222222,
              "#7201a8"
             ],
             [
              0.3333333333333333,
              "#9c179e"
             ],
             [
              0.4444444444444444,
              "#bd3786"
             ],
             [
              0.5555555555555556,
              "#d8576b"
             ],
             [
              0.6666666666666666,
              "#ed7953"
             ],
             [
              0.7777777777777778,
              "#fb9f3a"
             ],
             [
              0.8888888888888888,
              "#fdca26"
             ],
             [
              1,
              "#f0f921"
             ]
            ],
            "type": "heatmapgl"
           }
          ],
          "histogram": [
           {
            "marker": {
             "colorbar": {
              "outlinewidth": 0,
              "ticks": ""
             }
            },
            "type": "histogram"
           }
          ],
          "histogram2d": [
           {
            "colorbar": {
             "outlinewidth": 0,
             "ticks": ""
            },
            "colorscale": [
             [
              0,
              "#0d0887"
             ],
             [
              0.1111111111111111,
              "#46039f"
             ],
             [
              0.2222222222222222,
              "#7201a8"
             ],
             [
              0.3333333333333333,
              "#9c179e"
             ],
             [
              0.4444444444444444,
              "#bd3786"
             ],
             [
              0.5555555555555556,
              "#d8576b"
             ],
             [
              0.6666666666666666,
              "#ed7953"
             ],
             [
              0.7777777777777778,
              "#fb9f3a"
             ],
             [
              0.8888888888888888,
              "#fdca26"
             ],
             [
              1,
              "#f0f921"
             ]
            ],
            "type": "histogram2d"
           }
          ],
          "histogram2dcontour": [
           {
            "colorbar": {
             "outlinewidth": 0,
             "ticks": ""
            },
            "colorscale": [
             [
              0,
              "#0d0887"
             ],
             [
              0.1111111111111111,
              "#46039f"
             ],
             [
              0.2222222222222222,
              "#7201a8"
             ],
             [
              0.3333333333333333,
              "#9c179e"
             ],
             [
              0.4444444444444444,
              "#bd3786"
             ],
             [
              0.5555555555555556,
              "#d8576b"
             ],
             [
              0.6666666666666666,
              "#ed7953"
             ],
             [
              0.7777777777777778,
              "#fb9f3a"
             ],
             [
              0.8888888888888888,
              "#fdca26"
             ],
             [
              1,
              "#f0f921"
             ]
            ],
            "type": "histogram2dcontour"
           }
          ],
          "mesh3d": [
           {
            "colorbar": {
             "outlinewidth": 0,
             "ticks": ""
            },
            "type": "mesh3d"
           }
          ],
          "parcoords": [
           {
            "line": {
             "colorbar": {
              "outlinewidth": 0,
              "ticks": ""
             }
            },
            "type": "parcoords"
           }
          ],
          "pie": [
           {
            "automargin": true,
            "type": "pie"
           }
          ],
          "scatter": [
           {
            "marker": {
             "colorbar": {
              "outlinewidth": 0,
              "ticks": ""
             }
            },
            "type": "scatter"
           }
          ],
          "scatter3d": [
           {
            "line": {
             "colorbar": {
              "outlinewidth": 0,
              "ticks": ""
             }
            },
            "marker": {
             "colorbar": {
              "outlinewidth": 0,
              "ticks": ""
             }
            },
            "type": "scatter3d"
           }
          ],
          "scattercarpet": [
           {
            "marker": {
             "colorbar": {
              "outlinewidth": 0,
              "ticks": ""
             }
            },
            "type": "scattercarpet"
           }
          ],
          "scattergeo": [
           {
            "marker": {
             "colorbar": {
              "outlinewidth": 0,
              "ticks": ""
             }
            },
            "type": "scattergeo"
           }
          ],
          "scattergl": [
           {
            "marker": {
             "colorbar": {
              "outlinewidth": 0,
              "ticks": ""
             }
            },
            "type": "scattergl"
           }
          ],
          "scattermapbox": [
           {
            "marker": {
             "colorbar": {
              "outlinewidth": 0,
              "ticks": ""
             }
            },
            "type": "scattermapbox"
           }
          ],
          "scatterpolar": [
           {
            "marker": {
             "colorbar": {
              "outlinewidth": 0,
              "ticks": ""
             }
            },
            "type": "scatterpolar"
           }
          ],
          "scatterpolargl": [
           {
            "marker": {
             "colorbar": {
              "outlinewidth": 0,
              "ticks": ""
             }
            },
            "type": "scatterpolargl"
           }
          ],
          "scatterternary": [
           {
            "marker": {
             "colorbar": {
              "outlinewidth": 0,
              "ticks": ""
             }
            },
            "type": "scatterternary"
           }
          ],
          "surface": [
           {
            "colorbar": {
             "outlinewidth": 0,
             "ticks": ""
            },
            "colorscale": [
             [
              0,
              "#0d0887"
             ],
             [
              0.1111111111111111,
              "#46039f"
             ],
             [
              0.2222222222222222,
              "#7201a8"
             ],
             [
              0.3333333333333333,
              "#9c179e"
             ],
             [
              0.4444444444444444,
              "#bd3786"
             ],
             [
              0.5555555555555556,
              "#d8576b"
             ],
             [
              0.6666666666666666,
              "#ed7953"
             ],
             [
              0.7777777777777778,
              "#fb9f3a"
             ],
             [
              0.8888888888888888,
              "#fdca26"
             ],
             [
              1,
              "#f0f921"
             ]
            ],
            "type": "surface"
           }
          ],
          "table": [
           {
            "cells": {
             "fill": {
              "color": "#EBF0F8"
             },
             "line": {
              "color": "white"
             }
            },
            "header": {
             "fill": {
              "color": "#C8D4E3"
             },
             "line": {
              "color": "white"
             }
            },
            "type": "table"
           }
          ]
         },
         "layout": {
          "annotationdefaults": {
           "arrowcolor": "#2a3f5f",
           "arrowhead": 0,
           "arrowwidth": 1
          },
          "autotypenumbers": "strict",
          "coloraxis": {
           "colorbar": {
            "outlinewidth": 0,
            "ticks": ""
           }
          },
          "colorscale": {
           "diverging": [
            [
             0,
             "#8e0152"
            ],
            [
             0.1,
             "#c51b7d"
            ],
            [
             0.2,
             "#de77ae"
            ],
            [
             0.3,
             "#f1b6da"
            ],
            [
             0.4,
             "#fde0ef"
            ],
            [
             0.5,
             "#f7f7f7"
            ],
            [
             0.6,
             "#e6f5d0"
            ],
            [
             0.7,
             "#b8e186"
            ],
            [
             0.8,
             "#7fbc41"
            ],
            [
             0.9,
             "#4d9221"
            ],
            [
             1,
             "#276419"
            ]
           ],
           "sequential": [
            [
             0,
             "#0d0887"
            ],
            [
             0.1111111111111111,
             "#46039f"
            ],
            [
             0.2222222222222222,
             "#7201a8"
            ],
            [
             0.3333333333333333,
             "#9c179e"
            ],
            [
             0.4444444444444444,
             "#bd3786"
            ],
            [
             0.5555555555555556,
             "#d8576b"
            ],
            [
             0.6666666666666666,
             "#ed7953"
            ],
            [
             0.7777777777777778,
             "#fb9f3a"
            ],
            [
             0.8888888888888888,
             "#fdca26"
            ],
            [
             1,
             "#f0f921"
            ]
           ],
           "sequentialminus": [
            [
             0,
             "#0d0887"
            ],
            [
             0.1111111111111111,
             "#46039f"
            ],
            [
             0.2222222222222222,
             "#7201a8"
            ],
            [
             0.3333333333333333,
             "#9c179e"
            ],
            [
             0.4444444444444444,
             "#bd3786"
            ],
            [
             0.5555555555555556,
             "#d8576b"
            ],
            [
             0.6666666666666666,
             "#ed7953"
            ],
            [
             0.7777777777777778,
             "#fb9f3a"
            ],
            [
             0.8888888888888888,
             "#fdca26"
            ],
            [
             1,
             "#f0f921"
            ]
           ]
          },
          "colorway": [
           "#636efa",
           "#EF553B",
           "#00cc96",
           "#ab63fa",
           "#FFA15A",
           "#19d3f3",
           "#FF6692",
           "#B6E880",
           "#FF97FF",
           "#FECB52"
          ],
          "font": {
           "color": "#2a3f5f"
          },
          "geo": {
           "bgcolor": "white",
           "lakecolor": "white",
           "landcolor": "#E5ECF6",
           "showlakes": true,
           "showland": true,
           "subunitcolor": "white"
          },
          "hoverlabel": {
           "align": "left"
          },
          "hovermode": "closest",
          "mapbox": {
           "style": "light"
          },
          "paper_bgcolor": "white",
          "plot_bgcolor": "#E5ECF6",
          "polar": {
           "angularaxis": {
            "gridcolor": "white",
            "linecolor": "white",
            "ticks": ""
           },
           "bgcolor": "#E5ECF6",
           "radialaxis": {
            "gridcolor": "white",
            "linecolor": "white",
            "ticks": ""
           }
          },
          "scene": {
           "xaxis": {
            "backgroundcolor": "#E5ECF6",
            "gridcolor": "white",
            "gridwidth": 2,
            "linecolor": "white",
            "showbackground": true,
            "ticks": "",
            "zerolinecolor": "white"
           },
           "yaxis": {
            "backgroundcolor": "#E5ECF6",
            "gridcolor": "white",
            "gridwidth": 2,
            "linecolor": "white",
            "showbackground": true,
            "ticks": "",
            "zerolinecolor": "white"
           },
           "zaxis": {
            "backgroundcolor": "#E5ECF6",
            "gridcolor": "white",
            "gridwidth": 2,
            "linecolor": "white",
            "showbackground": true,
            "ticks": "",
            "zerolinecolor": "white"
           }
          },
          "shapedefaults": {
           "line": {
            "color": "#2a3f5f"
           }
          },
          "ternary": {
           "aaxis": {
            "gridcolor": "white",
            "linecolor": "white",
            "ticks": ""
           },
           "baxis": {
            "gridcolor": "white",
            "linecolor": "white",
            "ticks": ""
           },
           "bgcolor": "#E5ECF6",
           "caxis": {
            "gridcolor": "white",
            "linecolor": "white",
            "ticks": ""
           }
          },
          "title": {
           "x": 0.05
          },
          "xaxis": {
           "automargin": true,
           "gridcolor": "white",
           "linecolor": "white",
           "ticks": "",
           "title": {
            "standoff": 15
           },
           "zerolinecolor": "white",
           "zerolinewidth": 2
          },
          "yaxis": {
           "automargin": true,
           "gridcolor": "white",
           "linecolor": "white",
           "ticks": "",
           "title": {
            "standoff": 15
           },
           "zerolinecolor": "white",
           "zerolinewidth": 2
          }
         }
        },
        "title": {
         "text": "Top 5 players"
        }
       }
      },
      "text/html": [
       "<div>                            <div id=\"81429d06-4d4a-4835-9764-d9e4a46411f0\" class=\"plotly-graph-div\" style=\"height:525px; width:100%;\"></div>            <script type=\"text/javascript\">                require([\"plotly\"], function(Plotly) {                    window.PLOTLYENV=window.PLOTLYENV || {};                                    if (document.getElementById(\"81429d06-4d4a-4835-9764-d9e4a46411f0\")) {                    Plotly.newPlot(                        \"81429d06-4d4a-4835-9764-d9e4a46411f0\",                        [{\"fill\": \"toself\", \"name\": \"Robert Lewandowski\", \"r\": [0.8787878787878788, 0.32989690721649484, 0.7580385852090032, 0.37080536912751677], \"theta\": [\"goals\", \"assists\", \"shots\", \"key_passes\"], \"type\": \"scatterpolar\"}, {\"fill\": \"toself\", \"name\": \"Lionel Messi\", \"r\": [1.0, 1.0, 1.0, 1.0], \"theta\": [\"goals\", \"assists\", \"shots\", \"key_passes\"], \"type\": \"scatterpolar\"}, {\"fill\": \"toself\", \"name\": \"Harry Kane\", \"r\": [0.7056277056277056, 0.35051546391752575, 0.7122186495176849, 0.4228187919463087], \"theta\": [\"goals\", \"assists\", \"shots\", \"key_passes\"], \"type\": \"scatterpolar\"}, {\"fill\": \"toself\", \"name\": \"Luis Su\\u00e1rez\", \"r\": [0.6363636363636364, 0.711340206185567, 0.5176848874598071, 0.5151006711409396], \"theta\": [\"goals\", \"assists\", \"shots\", \"key_passes\"], \"type\": \"scatterpolar\"}, {\"fill\": \"toself\", \"name\": \"Edinson Cavani\", \"r\": [0.5281385281385281, 0.2268041237113402, 0.4228295819935691, 0.2080536912751678], \"theta\": [\"goals\", \"assists\", \"shots\", \"key_passes\"], \"type\": \"scatterpolar\"}],                        {\"polar\": {\"radialaxis\": {\"range\": [0, 1], \"visible\": true}}, \"showlegend\": true, \"template\": {\"data\": {\"bar\": [{\"error_x\": {\"color\": \"#2a3f5f\"}, \"error_y\": {\"color\": \"#2a3f5f\"}, \"marker\": {\"line\": {\"color\": \"#E5ECF6\", \"width\": 0.5}}, \"type\": \"bar\"}], \"barpolar\": [{\"marker\": {\"line\": {\"color\": \"#E5ECF6\", \"width\": 0.5}}, \"type\": \"barpolar\"}], \"carpet\": [{\"aaxis\": {\"endlinecolor\": \"#2a3f5f\", \"gridcolor\": \"white\", \"linecolor\": \"white\", \"minorgridcolor\": \"white\", \"startlinecolor\": \"#2a3f5f\"}, \"baxis\": {\"endlinecolor\": \"#2a3f5f\", \"gridcolor\": \"white\", \"linecolor\": \"white\", \"minorgridcolor\": \"white\", \"startlinecolor\": \"#2a3f5f\"}, \"type\": \"carpet\"}], \"choropleth\": [{\"colorbar\": {\"outlinewidth\": 0, \"ticks\": \"\"}, \"type\": \"choropleth\"}], \"contour\": [{\"colorbar\": {\"outlinewidth\": 0, \"ticks\": \"\"}, \"colorscale\": [[0.0, \"#0d0887\"], [0.1111111111111111, \"#46039f\"], [0.2222222222222222, \"#7201a8\"], [0.3333333333333333, \"#9c179e\"], [0.4444444444444444, \"#bd3786\"], [0.5555555555555556, \"#d8576b\"], [0.6666666666666666, \"#ed7953\"], [0.7777777777777778, \"#fb9f3a\"], [0.8888888888888888, \"#fdca26\"], [1.0, \"#f0f921\"]], \"type\": \"contour\"}], \"contourcarpet\": [{\"colorbar\": {\"outlinewidth\": 0, \"ticks\": \"\"}, \"type\": \"contourcarpet\"}], \"heatmap\": [{\"colorbar\": {\"outlinewidth\": 0, \"ticks\": \"\"}, \"colorscale\": [[0.0, \"#0d0887\"], [0.1111111111111111, \"#46039f\"], [0.2222222222222222, \"#7201a8\"], [0.3333333333333333, \"#9c179e\"], [0.4444444444444444, \"#bd3786\"], [0.5555555555555556, \"#d8576b\"], [0.6666666666666666, \"#ed7953\"], [0.7777777777777778, \"#fb9f3a\"], [0.8888888888888888, \"#fdca26\"], [1.0, \"#f0f921\"]], \"type\": \"heatmap\"}], \"heatmapgl\": [{\"colorbar\": {\"outlinewidth\": 0, \"ticks\": \"\"}, \"colorscale\": [[0.0, \"#0d0887\"], [0.1111111111111111, \"#46039f\"], [0.2222222222222222, \"#7201a8\"], [0.3333333333333333, \"#9c179e\"], [0.4444444444444444, \"#bd3786\"], [0.5555555555555556, \"#d8576b\"], [0.6666666666666666, \"#ed7953\"], [0.7777777777777778, \"#fb9f3a\"], [0.8888888888888888, \"#fdca26\"], [1.0, \"#f0f921\"]], \"type\": \"heatmapgl\"}], \"histogram\": [{\"marker\": {\"colorbar\": {\"outlinewidth\": 0, \"ticks\": \"\"}}, \"type\": \"histogram\"}], \"histogram2d\": [{\"colorbar\": {\"outlinewidth\": 0, \"ticks\": \"\"}, \"colorscale\": [[0.0, \"#0d0887\"], [0.1111111111111111, \"#46039f\"], [0.2222222222222222, \"#7201a8\"], [0.3333333333333333, \"#9c179e\"], [0.4444444444444444, \"#bd3786\"], [0.5555555555555556, \"#d8576b\"], [0.6666666666666666, \"#ed7953\"], [0.7777777777777778, \"#fb9f3a\"], [0.8888888888888888, \"#fdca26\"], [1.0, \"#f0f921\"]], \"type\": \"histogram2d\"}], \"histogram2dcontour\": [{\"colorbar\": {\"outlinewidth\": 0, \"ticks\": \"\"}, \"colorscale\": [[0.0, \"#0d0887\"], [0.1111111111111111, \"#46039f\"], [0.2222222222222222, \"#7201a8\"], [0.3333333333333333, \"#9c179e\"], [0.4444444444444444, \"#bd3786\"], [0.5555555555555556, \"#d8576b\"], [0.6666666666666666, \"#ed7953\"], [0.7777777777777778, \"#fb9f3a\"], [0.8888888888888888, \"#fdca26\"], [1.0, \"#f0f921\"]], \"type\": \"histogram2dcontour\"}], \"mesh3d\": [{\"colorbar\": {\"outlinewidth\": 0, \"ticks\": \"\"}, \"type\": \"mesh3d\"}], \"parcoords\": [{\"line\": {\"colorbar\": {\"outlinewidth\": 0, \"ticks\": \"\"}}, \"type\": \"parcoords\"}], \"pie\": [{\"automargin\": true, \"type\": \"pie\"}], \"scatter\": [{\"marker\": {\"colorbar\": {\"outlinewidth\": 0, \"ticks\": \"\"}}, \"type\": \"scatter\"}], \"scatter3d\": [{\"line\": {\"colorbar\": {\"outlinewidth\": 0, \"ticks\": \"\"}}, \"marker\": {\"colorbar\": {\"outlinewidth\": 0, \"ticks\": \"\"}}, \"type\": \"scatter3d\"}], \"scattercarpet\": [{\"marker\": {\"colorbar\": {\"outlinewidth\": 0, \"ticks\": \"\"}}, \"type\": \"scattercarpet\"}], \"scattergeo\": [{\"marker\": {\"colorbar\": {\"outlinewidth\": 0, \"ticks\": \"\"}}, \"type\": \"scattergeo\"}], \"scattergl\": [{\"marker\": {\"colorbar\": {\"outlinewidth\": 0, \"ticks\": \"\"}}, \"type\": \"scattergl\"}], \"scattermapbox\": [{\"marker\": {\"colorbar\": {\"outlinewidth\": 0, \"ticks\": \"\"}}, \"type\": \"scattermapbox\"}], \"scatterpolar\": [{\"marker\": {\"colorbar\": {\"outlinewidth\": 0, \"ticks\": \"\"}}, \"type\": \"scatterpolar\"}], \"scatterpolargl\": [{\"marker\": {\"colorbar\": {\"outlinewidth\": 0, \"ticks\": \"\"}}, \"type\": \"scatterpolargl\"}], \"scatterternary\": [{\"marker\": {\"colorbar\": {\"outlinewidth\": 0, \"ticks\": \"\"}}, \"type\": \"scatterternary\"}], \"surface\": [{\"colorbar\": {\"outlinewidth\": 0, \"ticks\": \"\"}, \"colorscale\": [[0.0, \"#0d0887\"], [0.1111111111111111, \"#46039f\"], [0.2222222222222222, \"#7201a8\"], [0.3333333333333333, \"#9c179e\"], [0.4444444444444444, \"#bd3786\"], [0.5555555555555556, \"#d8576b\"], [0.6666666666666666, \"#ed7953\"], [0.7777777777777778, \"#fb9f3a\"], [0.8888888888888888, \"#fdca26\"], [1.0, \"#f0f921\"]], \"type\": \"surface\"}], \"table\": [{\"cells\": {\"fill\": {\"color\": \"#EBF0F8\"}, \"line\": {\"color\": \"white\"}}, \"header\": {\"fill\": {\"color\": \"#C8D4E3\"}, \"line\": {\"color\": \"white\"}}, \"type\": \"table\"}]}, \"layout\": {\"annotationdefaults\": {\"arrowcolor\": \"#2a3f5f\", \"arrowhead\": 0, \"arrowwidth\": 1}, \"autotypenumbers\": \"strict\", \"coloraxis\": {\"colorbar\": {\"outlinewidth\": 0, \"ticks\": \"\"}}, \"colorscale\": {\"diverging\": [[0, \"#8e0152\"], [0.1, \"#c51b7d\"], [0.2, \"#de77ae\"], [0.3, \"#f1b6da\"], [0.4, \"#fde0ef\"], [0.5, \"#f7f7f7\"], [0.6, \"#e6f5d0\"], [0.7, \"#b8e186\"], [0.8, \"#7fbc41\"], [0.9, \"#4d9221\"], [1, \"#276419\"]], \"sequential\": [[0.0, \"#0d0887\"], [0.1111111111111111, \"#46039f\"], [0.2222222222222222, \"#7201a8\"], [0.3333333333333333, \"#9c179e\"], [0.4444444444444444, \"#bd3786\"], [0.5555555555555556, \"#d8576b\"], [0.6666666666666666, \"#ed7953\"], [0.7777777777777778, \"#fb9f3a\"], [0.8888888888888888, \"#fdca26\"], [1.0, \"#f0f921\"]], \"sequentialminus\": [[0.0, \"#0d0887\"], [0.1111111111111111, \"#46039f\"], [0.2222222222222222, \"#7201a8\"], [0.3333333333333333, \"#9c179e\"], [0.4444444444444444, \"#bd3786\"], [0.5555555555555556, \"#d8576b\"], [0.6666666666666666, \"#ed7953\"], [0.7777777777777778, \"#fb9f3a\"], [0.8888888888888888, \"#fdca26\"], [1.0, \"#f0f921\"]]}, \"colorway\": [\"#636efa\", \"#EF553B\", \"#00cc96\", \"#ab63fa\", \"#FFA15A\", \"#19d3f3\", \"#FF6692\", \"#B6E880\", \"#FF97FF\", \"#FECB52\"], \"font\": {\"color\": \"#2a3f5f\"}, \"geo\": {\"bgcolor\": \"white\", \"lakecolor\": \"white\", \"landcolor\": \"#E5ECF6\", \"showlakes\": true, \"showland\": true, \"subunitcolor\": \"white\"}, \"hoverlabel\": {\"align\": \"left\"}, \"hovermode\": \"closest\", \"mapbox\": {\"style\": \"light\"}, \"paper_bgcolor\": \"white\", \"plot_bgcolor\": \"#E5ECF6\", \"polar\": {\"angularaxis\": {\"gridcolor\": \"white\", \"linecolor\": \"white\", \"ticks\": \"\"}, \"bgcolor\": \"#E5ECF6\", \"radialaxis\": {\"gridcolor\": \"white\", \"linecolor\": \"white\", \"ticks\": \"\"}}, \"scene\": {\"xaxis\": {\"backgroundcolor\": \"#E5ECF6\", \"gridcolor\": \"white\", \"gridwidth\": 2, \"linecolor\": \"white\", \"showbackground\": true, \"ticks\": \"\", \"zerolinecolor\": \"white\"}, \"yaxis\": {\"backgroundcolor\": \"#E5ECF6\", \"gridcolor\": \"white\", \"gridwidth\": 2, \"linecolor\": \"white\", \"showbackground\": true, \"ticks\": \"\", \"zerolinecolor\": \"white\"}, \"zaxis\": {\"backgroundcolor\": \"#E5ECF6\", \"gridcolor\": \"white\", \"gridwidth\": 2, \"linecolor\": \"white\", \"showbackground\": true, \"ticks\": \"\", \"zerolinecolor\": \"white\"}}, \"shapedefaults\": {\"line\": {\"color\": \"#2a3f5f\"}}, \"ternary\": {\"aaxis\": {\"gridcolor\": \"white\", \"linecolor\": \"white\", \"ticks\": \"\"}, \"baxis\": {\"gridcolor\": \"white\", \"linecolor\": \"white\", \"ticks\": \"\"}, \"bgcolor\": \"#E5ECF6\", \"caxis\": {\"gridcolor\": \"white\", \"linecolor\": \"white\", \"ticks\": \"\"}}, \"title\": {\"x\": 0.05}, \"xaxis\": {\"automargin\": true, \"gridcolor\": \"white\", \"linecolor\": \"white\", \"ticks\": \"\", \"title\": {\"standoff\": 15}, \"zerolinecolor\": \"white\", \"zerolinewidth\": 2}, \"yaxis\": {\"automargin\": true, \"gridcolor\": \"white\", \"linecolor\": \"white\", \"ticks\": \"\", \"title\": {\"standoff\": 15}, \"zerolinecolor\": \"white\", \"zerolinewidth\": 2}}}, \"title\": {\"text\": \"Top 5 players\"}},                        {\"responsive\": true}                    ).then(function(){\n",
       "                            \n",
       "var gd = document.getElementById('81429d06-4d4a-4835-9764-d9e4a46411f0');\n",
       "var x = new MutationObserver(function (mutations, observer) {{\n",
       "        var display = window.getComputedStyle(gd).display;\n",
       "        if (!display || display === 'none') {{\n",
       "            console.log([gd, 'removed!']);\n",
       "            Plotly.purge(gd);\n",
       "            observer.disconnect();\n",
       "        }}\n",
       "}});\n",
       "\n",
       "// Listen for the removal of the full notebook cells\n",
       "var notebookContainer = gd.closest('#notebook-container');\n",
       "if (notebookContainer) {{\n",
       "    x.observe(notebookContainer, {childList: true});\n",
       "}}\n",
       "\n",
       "// Listen for the clearing of the current output cell\n",
       "var outputEl = gd.closest('.output');\n",
       "if (outputEl) {{\n",
       "    x.observe(outputEl, {childList: true});\n",
       "}}\n",
       "\n",
       "                        })                };                });            </script>        </div>"
      ]
     },
     "metadata": {},
     "output_type": "display_data"
    }
   ],
   "source": [
    "fig = go.Figure()\n",
    "for i in range(5):\n",
    "    fig.add_trace(go.Scatterpolar(\n",
    "          r=p_s_s_top5_scaled[radar_cols].iloc[i],\n",
    "          theta=radar_cols,\n",
    "          fill='toself',\n",
    "          name=p_s_s_top5_scaled['player_name'].iloc[i]))\n",
    "\n",
    "\n",
    "fig.update_layout(polar=dict(radialaxis=dict(visible=True,range=[0, 1])),showlegend=True, title = \"Top 5 players\")\n",
    "\n",
    "fig.show()"
   ]
  },
  {
   "cell_type": "markdown",
   "metadata": {
    "id": "HB5Xx36e21t5"
   },
   "source": [
    "#*Players simalarity*"
   ]
  },
  {
   "cell_type": "code",
   "execution_count": 109,
   "metadata": {
    "colab": {
     "base_uri": "https://localhost:8080/",
     "height": 299
    },
    "id": "_YtedRP0OvSp",
    "outputId": "eb67d86e-5551-41da-bfd7-6ec1fed6ede2"
   },
   "outputs": [
    {
     "data": {
      "text/html": [
       "<div>\n",
       "<style scoped>\n",
       "    .dataframe tbody tr th:only-of-type {\n",
       "        vertical-align: middle;\n",
       "    }\n",
       "\n",
       "    .dataframe tbody tr th {\n",
       "        vertical-align: top;\n",
       "    }\n",
       "\n",
       "    .dataframe thead th {\n",
       "        text-align: right;\n",
       "    }\n",
       "</style>\n",
       "<table border=\"1\" class=\"dataframe\">\n",
       "  <thead>\n",
       "    <tr style=\"text-align: right;\">\n",
       "      <th></th>\n",
       "      <th>player_name</th>\n",
       "      <th>id</th>\n",
       "      <th>team_title</th>\n",
       "      <th>games</th>\n",
       "      <th>time</th>\n",
       "      <th>goals</th>\n",
       "      <th>position</th>\n",
       "      <th>xG</th>\n",
       "      <th>assists</th>\n",
       "      <th>xA</th>\n",
       "      <th>...</th>\n",
       "      <th>red_cards</th>\n",
       "      <th>npg</th>\n",
       "      <th>npxG</th>\n",
       "      <th>xGChain</th>\n",
       "      <th>xGBuildup</th>\n",
       "      <th>GK</th>\n",
       "      <th>S</th>\n",
       "      <th>M</th>\n",
       "      <th>D</th>\n",
       "      <th>F</th>\n",
       "    </tr>\n",
       "  </thead>\n",
       "  <tbody>\n",
       "    <tr>\n",
       "      <th>0</th>\n",
       "      <td>Alexander Meier</td>\n",
       "      <td>356_14-15_bundesliga</td>\n",
       "      <td>Eintracht Frankfurt</td>\n",
       "      <td>26</td>\n",
       "      <td>2209</td>\n",
       "      <td>19</td>\n",
       "      <td>F M S</td>\n",
       "      <td>15.395941</td>\n",
       "      <td>2</td>\n",
       "      <td>1.268694</td>\n",
       "      <td>...</td>\n",
       "      <td>0</td>\n",
       "      <td>16</td>\n",
       "      <td>12.364834</td>\n",
       "      <td>12.408789</td>\n",
       "      <td>1.915658</td>\n",
       "      <td>0</td>\n",
       "      <td>1</td>\n",
       "      <td>1</td>\n",
       "      <td>0</td>\n",
       "      <td>1</td>\n",
       "    </tr>\n",
       "    <tr>\n",
       "      <th>1</th>\n",
       "      <td>Robert Lewandowski</td>\n",
       "      <td>227_14-15_bundesliga</td>\n",
       "      <td>Bayern Munich</td>\n",
       "      <td>31</td>\n",
       "      <td>2493</td>\n",
       "      <td>17</td>\n",
       "      <td>F M S</td>\n",
       "      <td>17.722183</td>\n",
       "      <td>5</td>\n",
       "      <td>4.644013</td>\n",
       "      <td>...</td>\n",
       "      <td>0</td>\n",
       "      <td>16</td>\n",
       "      <td>16.964407</td>\n",
       "      <td>23.315430</td>\n",
       "      <td>4.924822</td>\n",
       "      <td>0</td>\n",
       "      <td>1</td>\n",
       "      <td>1</td>\n",
       "      <td>0</td>\n",
       "      <td>1</td>\n",
       "    </tr>\n",
       "    <tr>\n",
       "      <th>2</th>\n",
       "      <td>Arjen Robben</td>\n",
       "      <td>392_14-15_bundesliga</td>\n",
       "      <td>Bayern Munich</td>\n",
       "      <td>21</td>\n",
       "      <td>1681</td>\n",
       "      <td>17</td>\n",
       "      <td>D F M S</td>\n",
       "      <td>10.364112</td>\n",
       "      <td>7</td>\n",
       "      <td>7.505970</td>\n",
       "      <td>...</td>\n",
       "      <td>0</td>\n",
       "      <td>15</td>\n",
       "      <td>8.848720</td>\n",
       "      <td>20.820983</td>\n",
       "      <td>8.605793</td>\n",
       "      <td>0</td>\n",
       "      <td>1</td>\n",
       "      <td>1</td>\n",
       "      <td>1</td>\n",
       "      <td>1</td>\n",
       "    </tr>\n",
       "    <tr>\n",
       "      <th>3</th>\n",
       "      <td>Bas Dost</td>\n",
       "      <td>158_14-15_bundesliga</td>\n",
       "      <td>Wolfsburg</td>\n",
       "      <td>21</td>\n",
       "      <td>1532</td>\n",
       "      <td>16</td>\n",
       "      <td>F S</td>\n",
       "      <td>11.341977</td>\n",
       "      <td>4</td>\n",
       "      <td>2.659186</td>\n",
       "      <td>...</td>\n",
       "      <td>0</td>\n",
       "      <td>16</td>\n",
       "      <td>11.341977</td>\n",
       "      <td>15.911891</td>\n",
       "      <td>2.538306</td>\n",
       "      <td>0</td>\n",
       "      <td>1</td>\n",
       "      <td>0</td>\n",
       "      <td>0</td>\n",
       "      <td>1</td>\n",
       "    </tr>\n",
       "    <tr>\n",
       "      <th>4</th>\n",
       "      <td>Pierre-Emerick Aubameyang</td>\n",
       "      <td>318_14-15_bundesliga</td>\n",
       "      <td>Borussia Dortmund</td>\n",
       "      <td>33</td>\n",
       "      <td>2724</td>\n",
       "      <td>16</td>\n",
       "      <td>F M S</td>\n",
       "      <td>15.396760</td>\n",
       "      <td>6</td>\n",
       "      <td>6.378020</td>\n",
       "      <td>...</td>\n",
       "      <td>0</td>\n",
       "      <td>14</td>\n",
       "      <td>13.881207</td>\n",
       "      <td>20.852728</td>\n",
       "      <td>2.512650</td>\n",
       "      <td>0</td>\n",
       "      <td>1</td>\n",
       "      <td>1</td>\n",
       "      <td>0</td>\n",
       "      <td>1</td>\n",
       "    </tr>\n",
       "  </tbody>\n",
       "</table>\n",
       "<p>5 rows × 23 columns</p>\n",
       "</div>"
      ],
      "text/plain": [
       "                 player_name                    id           team_title  \\\n",
       "0            Alexander Meier  356_14-15_bundesliga  Eintracht Frankfurt   \n",
       "1         Robert Lewandowski  227_14-15_bundesliga        Bayern Munich   \n",
       "2               Arjen Robben  392_14-15_bundesliga        Bayern Munich   \n",
       "3                   Bas Dost  158_14-15_bundesliga            Wolfsburg   \n",
       "4  Pierre-Emerick Aubameyang  318_14-15_bundesliga    Borussia Dortmund   \n",
       "\n",
       "   games  time  goals position         xG  assists        xA  ...  red_cards  \\\n",
       "0     26  2209     19    F M S  15.395941        2  1.268694  ...          0   \n",
       "1     31  2493     17    F M S  17.722183        5  4.644013  ...          0   \n",
       "2     21  1681     17  D F M S  10.364112        7  7.505970  ...          0   \n",
       "3     21  1532     16      F S  11.341977        4  2.659186  ...          0   \n",
       "4     33  2724     16    F M S  15.396760        6  6.378020  ...          0   \n",
       "\n",
       "   npg       npxG    xGChain  xGBuildup  GK  S  M  D  F  \n",
       "0   16  12.364834  12.408789   1.915658   0  1  1  0  1  \n",
       "1   16  16.964407  23.315430   4.924822   0  1  1  0  1  \n",
       "2   15   8.848720  20.820983   8.605793   0  1  1  1  1  \n",
       "3   16  11.341977  15.911891   2.538306   0  1  0  0  1  \n",
       "4   14  13.881207  20.852728   2.512650   0  1  1  0  1  \n",
       "\n",
       "[5 rows x 23 columns]"
      ]
     },
     "execution_count": 109,
     "metadata": {},
     "output_type": "execute_result"
    }
   ],
   "source": [
    "field_cols =['player_name','id','team_title','games', 'time', 'goals','position', 'xG','assists', 'xA','shots', 'key_passes',\n",
    "                         'yellow_cards', 'red_cards','npg', 'npxG', 'xGChain', 'xGBuildup','GK','S','M','D','F']\n",
    "\n",
    "basic_info = df[field_cols]\n",
    "basic_info.head()"
   ]
  },
  {
   "cell_type": "code",
   "execution_count": 110,
   "metadata": {
    "colab": {
     "base_uri": "https://localhost:8080/"
    },
    "id": "zgGczxDOwOyU",
    "outputId": "0e20eccb-0448-4599-86b5-77224dce8de4"
   },
   "outputs": [
    {
     "data": {
      "text/plain": [
       "player_name      object\n",
       "id               object\n",
       "team_title       object\n",
       "games             int64\n",
       "time              int64\n",
       "goals             int64\n",
       "position         object\n",
       "xG              float64\n",
       "assists           int64\n",
       "xA              float64\n",
       "shots             int64\n",
       "key_passes        int64\n",
       "yellow_cards      int64\n",
       "red_cards         int64\n",
       "npg               int64\n",
       "npxG            float64\n",
       "xGChain         float64\n",
       "xGBuildup       float64\n",
       "GK                int64\n",
       "S                 int64\n",
       "M                 int64\n",
       "D                 int64\n",
       "F                 int64\n",
       "dtype: object"
      ]
     },
     "execution_count": 110,
     "metadata": {},
     "output_type": "execute_result"
    }
   ],
   "source": [
    "basic_info.dtypes"
   ]
  },
  {
   "cell_type": "code",
   "execution_count": 111,
   "metadata": {
    "colab": {
     "base_uri": "https://localhost:8080/"
    },
    "id": "cC8f7tZM2MEx",
    "outputId": "1ef49720-01c3-4486-e2cb-318166e80df1"
   },
   "outputs": [
    {
     "data": {
      "text/plain": [
       "player_name      object\n",
       "id               object\n",
       "team_title       object\n",
       "games             int64\n",
       "time              int64\n",
       "goals             int64\n",
       "position         object\n",
       "xG               object\n",
       "assists           int64\n",
       "xA              float64\n",
       "shots             int64\n",
       "key_passes        int64\n",
       "yellow_cards      int64\n",
       "red_cards         int64\n",
       "npg               int64\n",
       "npxG             object\n",
       "xGChain         float64\n",
       "xGBuildup       float64\n",
       "GK                int64\n",
       "S                 int64\n",
       "M                 int64\n",
       "D                 int64\n",
       "F                 int64\n",
       "dtype: object"
      ]
     },
     "execution_count": 111,
     "metadata": {},
     "output_type": "execute_result"
    }
   ],
   "source": [
    "basic_info1 = basic_info.copy()\n",
    "basic_info1['xG'] = basic_info1['xG'].apply(lambda x: str(x))\n",
    "\n",
    "basic_info2 = basic_info1.copy()\n",
    "basic_info2['npxG'] = basic_info2['npxG'].apply(lambda x: str(x))\n",
    "basic_info2.dtypes"
   ]
  },
  {
   "cell_type": "code",
   "execution_count": 112,
   "metadata": {
    "id": "R4guDXDB2MIT"
   },
   "outputs": [],
   "source": [
    "basic_info_dict = {}\n",
    "for i in basic_info.index:\n",
    "    basic_info_dict[i] = basic_info2.iloc[i,:].values.tolist()"
   ]
  },
  {
   "cell_type": "code",
   "execution_count": 113,
   "metadata": {
    "colab": {
     "base_uri": "https://localhost:8080/",
     "height": 266
    },
    "id": "Pfk-vk3mwO1D",
    "outputId": "5f7e153e-7334-4a8b-fb66-0b45eab7b2ca"
   },
   "outputs": [
    {
     "data": {
      "text/html": [
       "<div>\n",
       "<style scoped>\n",
       "    .dataframe tbody tr th:only-of-type {\n",
       "        vertical-align: middle;\n",
       "    }\n",
       "\n",
       "    .dataframe tbody tr th {\n",
       "        vertical-align: top;\n",
       "    }\n",
       "\n",
       "    .dataframe thead th {\n",
       "        text-align: right;\n",
       "    }\n",
       "</style>\n",
       "<table border=\"1\" class=\"dataframe\">\n",
       "  <thead>\n",
       "    <tr style=\"text-align: right;\">\n",
       "      <th></th>\n",
       "      <th>player_name</th>\n",
       "      <th>games</th>\n",
       "      <th>goals</th>\n",
       "      <th>xG</th>\n",
       "      <th>assists</th>\n",
       "      <th>xA</th>\n",
       "      <th>shots</th>\n",
       "      <th>key_passes</th>\n",
       "      <th>yellow_cards</th>\n",
       "      <th>red_cards</th>\n",
       "      <th>position</th>\n",
       "      <th>npg</th>\n",
       "      <th>npxG</th>\n",
       "      <th>xGChain</th>\n",
       "      <th>xGBuildup</th>\n",
       "      <th>id_player</th>\n",
       "      <th>S</th>\n",
       "      <th>M</th>\n",
       "      <th>D</th>\n",
       "      <th>F</th>\n",
       "    </tr>\n",
       "  </thead>\n",
       "  <tbody>\n",
       "    <tr>\n",
       "      <th>0</th>\n",
       "      <td>Alexander Meier</td>\n",
       "      <td>26</td>\n",
       "      <td>19</td>\n",
       "      <td>15.395941</td>\n",
       "      <td>2</td>\n",
       "      <td>1.268694</td>\n",
       "      <td>80</td>\n",
       "      <td>22</td>\n",
       "      <td>0</td>\n",
       "      <td>0</td>\n",
       "      <td>F M S</td>\n",
       "      <td>16</td>\n",
       "      <td>12.364834</td>\n",
       "      <td>12.408789</td>\n",
       "      <td>1.915658</td>\n",
       "      <td>356</td>\n",
       "      <td>1</td>\n",
       "      <td>1</td>\n",
       "      <td>0</td>\n",
       "      <td>1</td>\n",
       "    </tr>\n",
       "    <tr>\n",
       "      <th>1</th>\n",
       "      <td>Robert Lewandowski</td>\n",
       "      <td>31</td>\n",
       "      <td>17</td>\n",
       "      <td>17.722183</td>\n",
       "      <td>5</td>\n",
       "      <td>4.644013</td>\n",
       "      <td>104</td>\n",
       "      <td>32</td>\n",
       "      <td>0</td>\n",
       "      <td>0</td>\n",
       "      <td>F M S</td>\n",
       "      <td>16</td>\n",
       "      <td>16.964407</td>\n",
       "      <td>23.315430</td>\n",
       "      <td>4.924822</td>\n",
       "      <td>227</td>\n",
       "      <td>1</td>\n",
       "      <td>1</td>\n",
       "      <td>0</td>\n",
       "      <td>1</td>\n",
       "    </tr>\n",
       "    <tr>\n",
       "      <th>2</th>\n",
       "      <td>Arjen Robben</td>\n",
       "      <td>21</td>\n",
       "      <td>17</td>\n",
       "      <td>10.364112</td>\n",
       "      <td>7</td>\n",
       "      <td>7.505970</td>\n",
       "      <td>88</td>\n",
       "      <td>50</td>\n",
       "      <td>0</td>\n",
       "      <td>0</td>\n",
       "      <td>D F M S</td>\n",
       "      <td>15</td>\n",
       "      <td>8.848720</td>\n",
       "      <td>20.820983</td>\n",
       "      <td>8.605793</td>\n",
       "      <td>392</td>\n",
       "      <td>1</td>\n",
       "      <td>1</td>\n",
       "      <td>1</td>\n",
       "      <td>1</td>\n",
       "    </tr>\n",
       "    <tr>\n",
       "      <th>3</th>\n",
       "      <td>Bas Dost</td>\n",
       "      <td>21</td>\n",
       "      <td>16</td>\n",
       "      <td>11.341977</td>\n",
       "      <td>4</td>\n",
       "      <td>2.659186</td>\n",
       "      <td>43</td>\n",
       "      <td>15</td>\n",
       "      <td>1</td>\n",
       "      <td>0</td>\n",
       "      <td>F S</td>\n",
       "      <td>16</td>\n",
       "      <td>11.341977</td>\n",
       "      <td>15.911891</td>\n",
       "      <td>2.538306</td>\n",
       "      <td>158</td>\n",
       "      <td>1</td>\n",
       "      <td>0</td>\n",
       "      <td>0</td>\n",
       "      <td>1</td>\n",
       "    </tr>\n",
       "    <tr>\n",
       "      <th>4</th>\n",
       "      <td>Pierre-Emerick Aubameyang</td>\n",
       "      <td>33</td>\n",
       "      <td>16</td>\n",
       "      <td>15.396760</td>\n",
       "      <td>6</td>\n",
       "      <td>6.378020</td>\n",
       "      <td>102</td>\n",
       "      <td>46</td>\n",
       "      <td>4</td>\n",
       "      <td>0</td>\n",
       "      <td>F M S</td>\n",
       "      <td>14</td>\n",
       "      <td>13.881207</td>\n",
       "      <td>20.852728</td>\n",
       "      <td>2.512650</td>\n",
       "      <td>318</td>\n",
       "      <td>1</td>\n",
       "      <td>1</td>\n",
       "      <td>0</td>\n",
       "      <td>1</td>\n",
       "    </tr>\n",
       "  </tbody>\n",
       "</table>\n",
       "</div>"
      ],
      "text/plain": [
       "                 player_name  games  goals         xG  assists        xA  \\\n",
       "0            Alexander Meier     26     19  15.395941        2  1.268694   \n",
       "1         Robert Lewandowski     31     17  17.722183        5  4.644013   \n",
       "2               Arjen Robben     21     17  10.364112        7  7.505970   \n",
       "3                   Bas Dost     21     16  11.341977        4  2.659186   \n",
       "4  Pierre-Emerick Aubameyang     33     16  15.396760        6  6.378020   \n",
       "\n",
       "   shots  key_passes  yellow_cards  red_cards position  npg       npxG  \\\n",
       "0     80          22             0          0    F M S   16  12.364834   \n",
       "1    104          32             0          0    F M S   16  16.964407   \n",
       "2     88          50             0          0  D F M S   15   8.848720   \n",
       "3     43          15             1          0      F S   16  11.341977   \n",
       "4    102          46             4          0    F M S   14  13.881207   \n",
       "\n",
       "     xGChain  xGBuildup  id_player  S  M  D  F  \n",
       "0  12.408789   1.915658        356  1  1  0  1  \n",
       "1  23.315430   4.924822        227  1  1  0  1  \n",
       "2  20.820983   8.605793        392  1  1  1  1  \n",
       "3  15.911891   2.538306        158  1  0  0  1  \n",
       "4  20.852728   2.512650        318  1  1  0  1  "
      ]
     },
     "execution_count": 113,
     "metadata": {},
     "output_type": "execute_result"
    }
   ],
   "source": [
    "#Feature Selection for similarity\n",
    "df = df.copy()\n",
    "df2 = df.drop(columns=['id', 'time', 'team_title', 'GK'])\n",
    "df2.head()"
   ]
  },
  {
   "cell_type": "code",
   "execution_count": 114,
   "metadata": {
    "colab": {
     "base_uri": "https://localhost:8080/",
     "height": 212
    },
    "id": "w5LuMMB31haS",
    "outputId": "25762652-5d33-4701-fcc7-fd75cf0c23d0"
   },
   "outputs": [
    {
     "data": {
      "text/html": [
       "<div>\n",
       "<style scoped>\n",
       "    .dataframe tbody tr th:only-of-type {\n",
       "        vertical-align: middle;\n",
       "    }\n",
       "\n",
       "    .dataframe tbody tr th {\n",
       "        vertical-align: top;\n",
       "    }\n",
       "\n",
       "    .dataframe thead th {\n",
       "        text-align: right;\n",
       "    }\n",
       "</style>\n",
       "<table border=\"1\" class=\"dataframe\">\n",
       "  <thead>\n",
       "    <tr style=\"text-align: right;\">\n",
       "      <th></th>\n",
       "      <th>player_name</th>\n",
       "      <th>games</th>\n",
       "      <th>goals</th>\n",
       "      <th>xG</th>\n",
       "      <th>assists</th>\n",
       "      <th>xA</th>\n",
       "      <th>shots</th>\n",
       "      <th>key_passes</th>\n",
       "      <th>yellow_cards</th>\n",
       "      <th>red_cards</th>\n",
       "      <th>npg</th>\n",
       "      <th>npxG</th>\n",
       "      <th>xGChain</th>\n",
       "      <th>xGBuildup</th>\n",
       "      <th>id_player</th>\n",
       "      <th>S</th>\n",
       "      <th>M</th>\n",
       "      <th>D</th>\n",
       "      <th>F</th>\n",
       "    </tr>\n",
       "  </thead>\n",
       "  <tbody>\n",
       "    <tr>\n",
       "      <th>0</th>\n",
       "      <td>Alexander Meier</td>\n",
       "      <td>26</td>\n",
       "      <td>19</td>\n",
       "      <td>15.395941</td>\n",
       "      <td>2</td>\n",
       "      <td>1.268694</td>\n",
       "      <td>80</td>\n",
       "      <td>22</td>\n",
       "      <td>0</td>\n",
       "      <td>0</td>\n",
       "      <td>16</td>\n",
       "      <td>12.364834</td>\n",
       "      <td>12.408789</td>\n",
       "      <td>1.915658</td>\n",
       "      <td>356</td>\n",
       "      <td>1</td>\n",
       "      <td>1</td>\n",
       "      <td>0</td>\n",
       "      <td>1</td>\n",
       "    </tr>\n",
       "    <tr>\n",
       "      <th>1</th>\n",
       "      <td>Robert Lewandowski</td>\n",
       "      <td>31</td>\n",
       "      <td>17</td>\n",
       "      <td>17.722183</td>\n",
       "      <td>5</td>\n",
       "      <td>4.644013</td>\n",
       "      <td>104</td>\n",
       "      <td>32</td>\n",
       "      <td>0</td>\n",
       "      <td>0</td>\n",
       "      <td>16</td>\n",
       "      <td>16.964407</td>\n",
       "      <td>23.315430</td>\n",
       "      <td>4.924822</td>\n",
       "      <td>227</td>\n",
       "      <td>1</td>\n",
       "      <td>1</td>\n",
       "      <td>0</td>\n",
       "      <td>1</td>\n",
       "    </tr>\n",
       "    <tr>\n",
       "      <th>2</th>\n",
       "      <td>Arjen Robben</td>\n",
       "      <td>21</td>\n",
       "      <td>17</td>\n",
       "      <td>10.364112</td>\n",
       "      <td>7</td>\n",
       "      <td>7.505970</td>\n",
       "      <td>88</td>\n",
       "      <td>50</td>\n",
       "      <td>0</td>\n",
       "      <td>0</td>\n",
       "      <td>15</td>\n",
       "      <td>8.848720</td>\n",
       "      <td>20.820983</td>\n",
       "      <td>8.605793</td>\n",
       "      <td>392</td>\n",
       "      <td>1</td>\n",
       "      <td>1</td>\n",
       "      <td>1</td>\n",
       "      <td>1</td>\n",
       "    </tr>\n",
       "    <tr>\n",
       "      <th>3</th>\n",
       "      <td>Bas Dost</td>\n",
       "      <td>21</td>\n",
       "      <td>16</td>\n",
       "      <td>11.341977</td>\n",
       "      <td>4</td>\n",
       "      <td>2.659186</td>\n",
       "      <td>43</td>\n",
       "      <td>15</td>\n",
       "      <td>1</td>\n",
       "      <td>0</td>\n",
       "      <td>16</td>\n",
       "      <td>11.341977</td>\n",
       "      <td>15.911891</td>\n",
       "      <td>2.538306</td>\n",
       "      <td>158</td>\n",
       "      <td>1</td>\n",
       "      <td>0</td>\n",
       "      <td>0</td>\n",
       "      <td>1</td>\n",
       "    </tr>\n",
       "    <tr>\n",
       "      <th>4</th>\n",
       "      <td>Pierre-Emerick Aubameyang</td>\n",
       "      <td>33</td>\n",
       "      <td>16</td>\n",
       "      <td>15.396760</td>\n",
       "      <td>6</td>\n",
       "      <td>6.378020</td>\n",
       "      <td>102</td>\n",
       "      <td>46</td>\n",
       "      <td>4</td>\n",
       "      <td>0</td>\n",
       "      <td>14</td>\n",
       "      <td>13.881207</td>\n",
       "      <td>20.852728</td>\n",
       "      <td>2.512650</td>\n",
       "      <td>318</td>\n",
       "      <td>1</td>\n",
       "      <td>1</td>\n",
       "      <td>0</td>\n",
       "      <td>1</td>\n",
       "    </tr>\n",
       "  </tbody>\n",
       "</table>\n",
       "</div>"
      ],
      "text/plain": [
       "                 player_name  games  goals         xG  assists        xA  \\\n",
       "0            Alexander Meier     26     19  15.395941        2  1.268694   \n",
       "1         Robert Lewandowski     31     17  17.722183        5  4.644013   \n",
       "2               Arjen Robben     21     17  10.364112        7  7.505970   \n",
       "3                   Bas Dost     21     16  11.341977        4  2.659186   \n",
       "4  Pierre-Emerick Aubameyang     33     16  15.396760        6  6.378020   \n",
       "\n",
       "   shots  key_passes  yellow_cards  red_cards  npg       npxG    xGChain  \\\n",
       "0     80          22             0          0   16  12.364834  12.408789   \n",
       "1    104          32             0          0   16  16.964407  23.315430   \n",
       "2     88          50             0          0   15   8.848720  20.820983   \n",
       "3     43          15             1          0   16  11.341977  15.911891   \n",
       "4    102          46             4          0   14  13.881207  20.852728   \n",
       "\n",
       "   xGBuildup  id_player  S  M  D  F  \n",
       "0   1.915658        356  1  1  0  1  \n",
       "1   4.924822        227  1  1  0  1  \n",
       "2   8.605793        392  1  1  1  1  \n",
       "3   2.538306        158  1  0  0  1  \n",
       "4   2.512650        318  1  1  0  1  "
      ]
     },
     "execution_count": 114,
     "metadata": {},
     "output_type": "execute_result"
    }
   ],
   "source": [
    "df3 = df2.drop('position',axis=1)\n",
    "df3.head()"
   ]
  },
  {
   "cell_type": "code",
   "execution_count": 115,
   "metadata": {
    "colab": {
     "base_uri": "https://localhost:8080/"
    },
    "id": "agp7Fi2k3tdt",
    "outputId": "c566f589-ab3e-4cab-b6bc-cd92bbaacc88"
   },
   "outputs": [
    {
     "data": {
      "text/plain": [
       "Index(['player_name', 'games', 'goals', 'xG', 'assists', 'xA', 'shots',\n",
       "       'key_passes', 'yellow_cards', 'red_cards', 'npg', 'npxG', 'xGChain',\n",
       "       'xGBuildup', 'id_player', 'S', 'M', 'D', 'F'],\n",
       "      dtype='object')"
      ]
     },
     "execution_count": 115,
     "metadata": {},
     "output_type": "execute_result"
    }
   ],
   "source": [
    "df3.columns"
   ]
  },
  {
   "cell_type": "code",
   "execution_count": 116,
   "metadata": {
    "colab": {
     "base_uri": "https://localhost:8080/",
     "height": 195
    },
    "id": "woE6hsoO3thq",
    "outputId": "ddbec3ad-1cb1-4a44-d76a-1ddaf04178ea"
   },
   "outputs": [
    {
     "data": {
      "text/html": [
       "<div>\n",
       "<style scoped>\n",
       "    .dataframe tbody tr th:only-of-type {\n",
       "        vertical-align: middle;\n",
       "    }\n",
       "\n",
       "    .dataframe tbody tr th {\n",
       "        vertical-align: top;\n",
       "    }\n",
       "\n",
       "    .dataframe thead th {\n",
       "        text-align: right;\n",
       "    }\n",
       "</style>\n",
       "<table border=\"1\" class=\"dataframe\">\n",
       "  <thead>\n",
       "    <tr style=\"text-align: right;\">\n",
       "      <th></th>\n",
       "      <th>games</th>\n",
       "      <th>goals</th>\n",
       "      <th>xG</th>\n",
       "      <th>assists</th>\n",
       "      <th>xA</th>\n",
       "      <th>shots</th>\n",
       "      <th>key_passes</th>\n",
       "      <th>yellow_cards</th>\n",
       "      <th>red_cards</th>\n",
       "      <th>npg</th>\n",
       "      <th>npxG</th>\n",
       "      <th>xGChain</th>\n",
       "      <th>xGBuildup</th>\n",
       "    </tr>\n",
       "  </thead>\n",
       "  <tbody>\n",
       "    <tr>\n",
       "      <th>0</th>\n",
       "      <td>26</td>\n",
       "      <td>19</td>\n",
       "      <td>15.395941</td>\n",
       "      <td>2</td>\n",
       "      <td>1.268694</td>\n",
       "      <td>80</td>\n",
       "      <td>22</td>\n",
       "      <td>0</td>\n",
       "      <td>0</td>\n",
       "      <td>16</td>\n",
       "      <td>12.364834</td>\n",
       "      <td>12.408789</td>\n",
       "      <td>1.915658</td>\n",
       "    </tr>\n",
       "    <tr>\n",
       "      <th>1</th>\n",
       "      <td>31</td>\n",
       "      <td>17</td>\n",
       "      <td>17.722183</td>\n",
       "      <td>5</td>\n",
       "      <td>4.644013</td>\n",
       "      <td>104</td>\n",
       "      <td>32</td>\n",
       "      <td>0</td>\n",
       "      <td>0</td>\n",
       "      <td>16</td>\n",
       "      <td>16.964407</td>\n",
       "      <td>23.315430</td>\n",
       "      <td>4.924822</td>\n",
       "    </tr>\n",
       "    <tr>\n",
       "      <th>2</th>\n",
       "      <td>21</td>\n",
       "      <td>17</td>\n",
       "      <td>10.364112</td>\n",
       "      <td>7</td>\n",
       "      <td>7.505970</td>\n",
       "      <td>88</td>\n",
       "      <td>50</td>\n",
       "      <td>0</td>\n",
       "      <td>0</td>\n",
       "      <td>15</td>\n",
       "      <td>8.848720</td>\n",
       "      <td>20.820983</td>\n",
       "      <td>8.605793</td>\n",
       "    </tr>\n",
       "    <tr>\n",
       "      <th>3</th>\n",
       "      <td>21</td>\n",
       "      <td>16</td>\n",
       "      <td>11.341977</td>\n",
       "      <td>4</td>\n",
       "      <td>2.659186</td>\n",
       "      <td>43</td>\n",
       "      <td>15</td>\n",
       "      <td>1</td>\n",
       "      <td>0</td>\n",
       "      <td>16</td>\n",
       "      <td>11.341977</td>\n",
       "      <td>15.911891</td>\n",
       "      <td>2.538306</td>\n",
       "    </tr>\n",
       "    <tr>\n",
       "      <th>4</th>\n",
       "      <td>33</td>\n",
       "      <td>16</td>\n",
       "      <td>15.396760</td>\n",
       "      <td>6</td>\n",
       "      <td>6.378020</td>\n",
       "      <td>102</td>\n",
       "      <td>46</td>\n",
       "      <td>4</td>\n",
       "      <td>0</td>\n",
       "      <td>14</td>\n",
       "      <td>13.881207</td>\n",
       "      <td>20.852728</td>\n",
       "      <td>2.512650</td>\n",
       "    </tr>\n",
       "  </tbody>\n",
       "</table>\n",
       "</div>"
      ],
      "text/plain": [
       "   games  goals         xG  assists        xA  shots  key_passes  \\\n",
       "0     26     19  15.395941        2  1.268694     80          22   \n",
       "1     31     17  17.722183        5  4.644013    104          32   \n",
       "2     21     17  10.364112        7  7.505970     88          50   \n",
       "3     21     16  11.341977        4  2.659186     43          15   \n",
       "4     33     16  15.396760        6  6.378020    102          46   \n",
       "\n",
       "   yellow_cards  red_cards  npg       npxG    xGChain  xGBuildup  \n",
       "0             0          0   16  12.364834  12.408789   1.915658  \n",
       "1             0          0   16  16.964407  23.315430   4.924822  \n",
       "2             0          0   15   8.848720  20.820983   8.605793  \n",
       "3             1          0   16  11.341977  15.911891   2.538306  \n",
       "4             4          0   14  13.881207  20.852728   2.512650  "
      ]
     },
     "execution_count": 116,
     "metadata": {},
     "output_type": "execute_result"
    }
   ],
   "source": [
    "df3_num = df3[['games', 'goals', 'xG', 'assists', 'xA', 'shots',\n",
    "       'key_passes', 'yellow_cards', 'red_cards', 'npg', 'npxG', 'xGChain',\n",
    "       'xGBuildup']]\n",
    "\n",
    "df3_num.head()"
   ]
  },
  {
   "cell_type": "code",
   "execution_count": 117,
   "metadata": {
    "colab": {
     "base_uri": "https://localhost:8080/",
     "height": 195
    },
    "id": "fQu2HYjG3tk4",
    "outputId": "c8f2263b-6290-41f0-8731-c46387f4f53b"
   },
   "outputs": [
    {
     "data": {
      "text/html": [
       "<div>\n",
       "<style scoped>\n",
       "    .dataframe tbody tr th:only-of-type {\n",
       "        vertical-align: middle;\n",
       "    }\n",
       "\n",
       "    .dataframe tbody tr th {\n",
       "        vertical-align: top;\n",
       "    }\n",
       "\n",
       "    .dataframe thead th {\n",
       "        text-align: right;\n",
       "    }\n",
       "</style>\n",
       "<table border=\"1\" class=\"dataframe\">\n",
       "  <thead>\n",
       "    <tr style=\"text-align: right;\">\n",
       "      <th></th>\n",
       "      <th>S</th>\n",
       "      <th>M</th>\n",
       "      <th>D</th>\n",
       "      <th>F</th>\n",
       "    </tr>\n",
       "  </thead>\n",
       "  <tbody>\n",
       "    <tr>\n",
       "      <th>0</th>\n",
       "      <td>1</td>\n",
       "      <td>1</td>\n",
       "      <td>0</td>\n",
       "      <td>1</td>\n",
       "    </tr>\n",
       "    <tr>\n",
       "      <th>1</th>\n",
       "      <td>1</td>\n",
       "      <td>1</td>\n",
       "      <td>0</td>\n",
       "      <td>1</td>\n",
       "    </tr>\n",
       "    <tr>\n",
       "      <th>2</th>\n",
       "      <td>1</td>\n",
       "      <td>1</td>\n",
       "      <td>1</td>\n",
       "      <td>1</td>\n",
       "    </tr>\n",
       "    <tr>\n",
       "      <th>3</th>\n",
       "      <td>1</td>\n",
       "      <td>0</td>\n",
       "      <td>0</td>\n",
       "      <td>1</td>\n",
       "    </tr>\n",
       "    <tr>\n",
       "      <th>4</th>\n",
       "      <td>1</td>\n",
       "      <td>1</td>\n",
       "      <td>0</td>\n",
       "      <td>1</td>\n",
       "    </tr>\n",
       "  </tbody>\n",
       "</table>\n",
       "</div>"
      ],
      "text/plain": [
       "   S  M  D  F\n",
       "0  1  1  0  1\n",
       "1  1  1  0  1\n",
       "2  1  1  1  1\n",
       "3  1  0  0  1\n",
       "4  1  1  0  1"
      ]
     },
     "execution_count": 117,
     "metadata": {},
     "output_type": "execute_result"
    }
   ],
   "source": [
    "df3_cat = df3[['S', 'M', 'D', 'F']]\n",
    "\n",
    "df3_cat.head()"
   ]
  },
  {
   "cell_type": "code",
   "execution_count": 118,
   "metadata": {
    "colab": {
     "base_uri": "https://localhost:8080/",
     "height": 195
    },
    "id": "FjXzIlZH3toJ",
    "outputId": "fba9b52b-429b-414a-890e-1502cb468bf9"
   },
   "outputs": [
    {
     "data": {
      "text/html": [
       "<div>\n",
       "<style scoped>\n",
       "    .dataframe tbody tr th:only-of-type {\n",
       "        vertical-align: middle;\n",
       "    }\n",
       "\n",
       "    .dataframe tbody tr th {\n",
       "        vertical-align: top;\n",
       "    }\n",
       "\n",
       "    .dataframe thead th {\n",
       "        text-align: right;\n",
       "    }\n",
       "</style>\n",
       "<table border=\"1\" class=\"dataframe\">\n",
       "  <thead>\n",
       "    <tr style=\"text-align: right;\">\n",
       "      <th></th>\n",
       "      <th>games</th>\n",
       "      <th>goals</th>\n",
       "      <th>xG</th>\n",
       "      <th>assists</th>\n",
       "      <th>xA</th>\n",
       "      <th>shots</th>\n",
       "      <th>key_passes</th>\n",
       "      <th>yellow_cards</th>\n",
       "      <th>red_cards</th>\n",
       "      <th>npg</th>\n",
       "      <th>npxG</th>\n",
       "      <th>xGChain</th>\n",
       "      <th>xGBuildup</th>\n",
       "    </tr>\n",
       "  </thead>\n",
       "  <tbody>\n",
       "    <tr>\n",
       "      <th>0</th>\n",
       "      <td>0.669095</td>\n",
       "      <td>5.195603</td>\n",
       "      <td>4.489039</td>\n",
       "      <td>0.399712</td>\n",
       "      <td>0.020609</td>\n",
       "      <td>2.987988</td>\n",
       "      <td>0.641162</td>\n",
       "      <td>-0.981731</td>\n",
       "      <td>-0.357718</td>\n",
       "      <td>4.907448</td>\n",
       "      <td>4.042073</td>\n",
       "      <td>1.529015</td>\n",
       "      <td>-0.266346</td>\n",
       "    </tr>\n",
       "    <tr>\n",
       "      <th>1</th>\n",
       "      <td>1.118371</td>\n",
       "      <td>4.593940</td>\n",
       "      <td>5.255220</td>\n",
       "      <td>1.911420</td>\n",
       "      <td>1.933294</td>\n",
       "      <td>4.117015</td>\n",
       "      <td>1.294467</td>\n",
       "      <td>-0.981731</td>\n",
       "      <td>-0.357718</td>\n",
       "      <td>4.907448</td>\n",
       "      <td>5.770521</td>\n",
       "      <td>3.673472</td>\n",
       "      <td>0.736616</td>\n",
       "    </tr>\n",
       "    <tr>\n",
       "      <th>2</th>\n",
       "      <td>0.219818</td>\n",
       "      <td>4.593940</td>\n",
       "      <td>2.831733</td>\n",
       "      <td>2.919225</td>\n",
       "      <td>3.555073</td>\n",
       "      <td>3.364330</td>\n",
       "      <td>2.470417</td>\n",
       "      <td>-0.981731</td>\n",
       "      <td>-0.357718</td>\n",
       "      <td>4.567390</td>\n",
       "      <td>2.720772</td>\n",
       "      <td>3.183015</td>\n",
       "      <td>1.963494</td>\n",
       "    </tr>\n",
       "    <tr>\n",
       "      <th>3</th>\n",
       "      <td>0.219818</td>\n",
       "      <td>4.293108</td>\n",
       "      <td>3.153807</td>\n",
       "      <td>1.407517</td>\n",
       "      <td>0.808556</td>\n",
       "      <td>1.247404</td>\n",
       "      <td>0.183849</td>\n",
       "      <td>-0.611104</td>\n",
       "      <td>-0.357718</td>\n",
       "      <td>4.907448</td>\n",
       "      <td>3.657699</td>\n",
       "      <td>2.217793</td>\n",
       "      <td>-0.058816</td>\n",
       "    </tr>\n",
       "    <tr>\n",
       "      <th>4</th>\n",
       "      <td>1.298082</td>\n",
       "      <td>4.293108</td>\n",
       "      <td>4.489308</td>\n",
       "      <td>2.415322</td>\n",
       "      <td>2.915900</td>\n",
       "      <td>4.022929</td>\n",
       "      <td>2.209095</td>\n",
       "      <td>0.500777</td>\n",
       "      <td>-0.357718</td>\n",
       "      <td>4.227332</td>\n",
       "      <td>4.611902</td>\n",
       "      <td>3.189257</td>\n",
       "      <td>-0.067367</td>\n",
       "    </tr>\n",
       "  </tbody>\n",
       "</table>\n",
       "</div>"
      ],
      "text/plain": [
       "      games     goals        xG   assists        xA     shots  key_passes  \\\n",
       "0  0.669095  5.195603  4.489039  0.399712  0.020609  2.987988    0.641162   \n",
       "1  1.118371  4.593940  5.255220  1.911420  1.933294  4.117015    1.294467   \n",
       "2  0.219818  4.593940  2.831733  2.919225  3.555073  3.364330    2.470417   \n",
       "3  0.219818  4.293108  3.153807  1.407517  0.808556  1.247404    0.183849   \n",
       "4  1.298082  4.293108  4.489308  2.415322  2.915900  4.022929    2.209095   \n",
       "\n",
       "   yellow_cards  red_cards       npg      npxG   xGChain  xGBuildup  \n",
       "0     -0.981731  -0.357718  4.907448  4.042073  1.529015  -0.266346  \n",
       "1     -0.981731  -0.357718  4.907448  5.770521  3.673472   0.736616  \n",
       "2     -0.981731  -0.357718  4.567390  2.720772  3.183015   1.963494  \n",
       "3     -0.611104  -0.357718  4.907448  3.657699  2.217793  -0.058816  \n",
       "4      0.500777  -0.357718  4.227332  4.611902  3.189257  -0.067367  "
      ]
     },
     "execution_count": 118,
     "metadata": {},
     "output_type": "execute_result"
    }
   ],
   "source": [
    "from sklearn.preprocessing import StandardScaler\n",
    "scaler = StandardScaler()\n",
    "df3_num_scaled_arr = scaler.fit_transform(df3_num)\n",
    "df3_num_scaled = pd.DataFrame(df3_num_scaled_arr,columns=df3_num.columns)\n",
    "df3_num_scaled.head()"
   ]
  },
  {
   "cell_type": "code",
   "execution_count": 119,
   "metadata": {
    "colab": {
     "base_uri": "https://localhost:8080/",
     "height": 212
    },
    "id": "hmqLsgMQ3trb",
    "outputId": "60f72061-6e17-4a9f-e610-00f2cff92b7d"
   },
   "outputs": [
    {
     "data": {
      "text/html": [
       "<div>\n",
       "<style scoped>\n",
       "    .dataframe tbody tr th:only-of-type {\n",
       "        vertical-align: middle;\n",
       "    }\n",
       "\n",
       "    .dataframe tbody tr th {\n",
       "        vertical-align: top;\n",
       "    }\n",
       "\n",
       "    .dataframe thead th {\n",
       "        text-align: right;\n",
       "    }\n",
       "</style>\n",
       "<table border=\"1\" class=\"dataframe\">\n",
       "  <thead>\n",
       "    <tr style=\"text-align: right;\">\n",
       "      <th></th>\n",
       "      <th>player_name</th>\n",
       "      <th>games</th>\n",
       "      <th>goals</th>\n",
       "      <th>xG</th>\n",
       "      <th>assists</th>\n",
       "      <th>xA</th>\n",
       "      <th>shots</th>\n",
       "      <th>key_passes</th>\n",
       "      <th>yellow_cards</th>\n",
       "      <th>red_cards</th>\n",
       "      <th>npg</th>\n",
       "      <th>npxG</th>\n",
       "      <th>xGChain</th>\n",
       "      <th>xGBuildup</th>\n",
       "      <th>S</th>\n",
       "      <th>M</th>\n",
       "      <th>D</th>\n",
       "      <th>F</th>\n",
       "    </tr>\n",
       "  </thead>\n",
       "  <tbody>\n",
       "    <tr>\n",
       "      <th>0</th>\n",
       "      <td>Alexander Meier</td>\n",
       "      <td>0.669095</td>\n",
       "      <td>5.195603</td>\n",
       "      <td>4.489039</td>\n",
       "      <td>0.399712</td>\n",
       "      <td>0.020609</td>\n",
       "      <td>2.987988</td>\n",
       "      <td>0.641162</td>\n",
       "      <td>-0.981731</td>\n",
       "      <td>-0.357718</td>\n",
       "      <td>4.907448</td>\n",
       "      <td>4.042073</td>\n",
       "      <td>1.529015</td>\n",
       "      <td>-0.266346</td>\n",
       "      <td>1</td>\n",
       "      <td>1</td>\n",
       "      <td>0</td>\n",
       "      <td>1</td>\n",
       "    </tr>\n",
       "    <tr>\n",
       "      <th>1</th>\n",
       "      <td>Robert Lewandowski</td>\n",
       "      <td>1.118371</td>\n",
       "      <td>4.593940</td>\n",
       "      <td>5.255220</td>\n",
       "      <td>1.911420</td>\n",
       "      <td>1.933294</td>\n",
       "      <td>4.117015</td>\n",
       "      <td>1.294467</td>\n",
       "      <td>-0.981731</td>\n",
       "      <td>-0.357718</td>\n",
       "      <td>4.907448</td>\n",
       "      <td>5.770521</td>\n",
       "      <td>3.673472</td>\n",
       "      <td>0.736616</td>\n",
       "      <td>1</td>\n",
       "      <td>1</td>\n",
       "      <td>0</td>\n",
       "      <td>1</td>\n",
       "    </tr>\n",
       "    <tr>\n",
       "      <th>2</th>\n",
       "      <td>Arjen Robben</td>\n",
       "      <td>0.219818</td>\n",
       "      <td>4.593940</td>\n",
       "      <td>2.831733</td>\n",
       "      <td>2.919225</td>\n",
       "      <td>3.555073</td>\n",
       "      <td>3.364330</td>\n",
       "      <td>2.470417</td>\n",
       "      <td>-0.981731</td>\n",
       "      <td>-0.357718</td>\n",
       "      <td>4.567390</td>\n",
       "      <td>2.720772</td>\n",
       "      <td>3.183015</td>\n",
       "      <td>1.963494</td>\n",
       "      <td>1</td>\n",
       "      <td>1</td>\n",
       "      <td>1</td>\n",
       "      <td>1</td>\n",
       "    </tr>\n",
       "    <tr>\n",
       "      <th>3</th>\n",
       "      <td>Bas Dost</td>\n",
       "      <td>0.219818</td>\n",
       "      <td>4.293108</td>\n",
       "      <td>3.153807</td>\n",
       "      <td>1.407517</td>\n",
       "      <td>0.808556</td>\n",
       "      <td>1.247404</td>\n",
       "      <td>0.183849</td>\n",
       "      <td>-0.611104</td>\n",
       "      <td>-0.357718</td>\n",
       "      <td>4.907448</td>\n",
       "      <td>3.657699</td>\n",
       "      <td>2.217793</td>\n",
       "      <td>-0.058816</td>\n",
       "      <td>1</td>\n",
       "      <td>0</td>\n",
       "      <td>0</td>\n",
       "      <td>1</td>\n",
       "    </tr>\n",
       "    <tr>\n",
       "      <th>4</th>\n",
       "      <td>Pierre-Emerick Aubameyang</td>\n",
       "      <td>1.298082</td>\n",
       "      <td>4.293108</td>\n",
       "      <td>4.489308</td>\n",
       "      <td>2.415322</td>\n",
       "      <td>2.915900</td>\n",
       "      <td>4.022929</td>\n",
       "      <td>2.209095</td>\n",
       "      <td>0.500777</td>\n",
       "      <td>-0.357718</td>\n",
       "      <td>4.227332</td>\n",
       "      <td>4.611902</td>\n",
       "      <td>3.189257</td>\n",
       "      <td>-0.067367</td>\n",
       "      <td>1</td>\n",
       "      <td>1</td>\n",
       "      <td>0</td>\n",
       "      <td>1</td>\n",
       "    </tr>\n",
       "  </tbody>\n",
       "</table>\n",
       "</div>"
      ],
      "text/plain": [
       "                 player_name     games     goals        xG   assists  \\\n",
       "0            Alexander Meier  0.669095  5.195603  4.489039  0.399712   \n",
       "1         Robert Lewandowski  1.118371  4.593940  5.255220  1.911420   \n",
       "2               Arjen Robben  0.219818  4.593940  2.831733  2.919225   \n",
       "3                   Bas Dost  0.219818  4.293108  3.153807  1.407517   \n",
       "4  Pierre-Emerick Aubameyang  1.298082  4.293108  4.489308  2.415322   \n",
       "\n",
       "         xA     shots  key_passes  yellow_cards  red_cards       npg  \\\n",
       "0  0.020609  2.987988    0.641162     -0.981731  -0.357718  4.907448   \n",
       "1  1.933294  4.117015    1.294467     -0.981731  -0.357718  4.907448   \n",
       "2  3.555073  3.364330    2.470417     -0.981731  -0.357718  4.567390   \n",
       "3  0.808556  1.247404    0.183849     -0.611104  -0.357718  4.907448   \n",
       "4  2.915900  4.022929    2.209095      0.500777  -0.357718  4.227332   \n",
       "\n",
       "       npxG   xGChain  xGBuildup  S  M  D  F  \n",
       "0  4.042073  1.529015  -0.266346  1  1  0  1  \n",
       "1  5.770521  3.673472   0.736616  1  1  0  1  \n",
       "2  2.720772  3.183015   1.963494  1  1  1  1  \n",
       "3  3.657699  2.217793  -0.058816  1  0  0  1  \n",
       "4  4.611902  3.189257  -0.067367  1  1  0  1  "
      ]
     },
     "execution_count": 119,
     "metadata": {},
     "output_type": "execute_result"
    }
   ],
   "source": [
    "df4 = pd.concat([df3.player_name,df3_num_scaled,df3_cat],axis='columns')\n",
    "df4.head()"
   ]
  },
  {
   "cell_type": "code",
   "execution_count": 120,
   "metadata": {
    "colab": {
     "base_uri": "https://localhost:8080/"
    },
    "id": "Ko-YfRQY1hd7",
    "outputId": "f9f2ad24-57ef-46df-fdd0-9ec42323eebd"
   },
   "outputs": [
    {
     "name": "stdout",
     "output_type": "stream",
     "text": [
      "(21725, 17) (21725,)\n"
     ]
    }
   ],
   "source": [
    "## splitting the dataset into independent and dependent variables\n",
    "\n",
    "X = df4.iloc[:,1:].values\n",
    "Y = df4.iloc[:,0].values\n",
    "\n",
    "print(X.shape, Y.shape)"
   ]
  },
  {
   "cell_type": "code",
   "execution_count": 121,
   "metadata": {
    "colab": {
     "base_uri": "https://localhost:8080/"
    },
    "id": "cO-CgwxJ1hlc",
    "outputId": "0fd184fb-35d4-4581-df31-a0c2019cc96f"
   },
   "outputs": [
    {
     "data": {
      "text/plain": [
       "[0.669094617673295,\n",
       " 5.19560334665077,\n",
       " 4.489038592493757,\n",
       " 0.39971240279620085,\n",
       " 0.020608911414082155,\n",
       " 2.987987596830541,\n",
       " 0.6411622356485063,\n",
       " -0.981730843626851,\n",
       " -0.35771774285948343,\n",
       " 4.9074476105116975,\n",
       " 4.042073165733069,\n",
       " 1.5290147496805606,\n",
       " -0.2663458250845498,\n",
       " 1.0,\n",
       " 1.0,\n",
       " 0.0,\n",
       " 1.0]"
      ]
     },
     "execution_count": 121,
     "metadata": {},
     "output_type": "execute_result"
    }
   ],
   "source": [
    "vectors = {}\n",
    "for i,x in enumerate(X):\n",
    "    vectors[i] = x.tolist()\n",
    "\n",
    "## vector for Alexander Meier\n",
    "vectors[0]"
   ]
  },
  {
   "cell_type": "code",
   "execution_count": 122,
   "metadata": {
    "id": "xTYSAlNe6oO7"
   },
   "outputs": [],
   "source": [
    "def cosine_similarity(vec1,vec2):\n",
    "    a = np.array(vec1).ravel()\n",
    "    b = np.array(vec2).ravel()\n",
    "    denom = np.sqrt(np.sum(np.square(vec1))) * np.sqrt(np.sum(np.square(vec2)))\n",
    "    return np.dot(a,b) / denom"
   ]
  },
  {
   "cell_type": "code",
   "execution_count": 123,
   "metadata": {
    "colab": {
     "base_uri": "https://localhost:8080/"
    },
    "id": "C9va6xcD6oUY",
    "outputId": "9236dd93-eb58-46ae-c036-83f220d5adc0"
   },
   "outputs": [
    {
     "data": {
      "text/plain": [
       "0.9484707842738318"
      ]
     },
     "execution_count": 123,
     "metadata": {},
     "output_type": "execute_result"
    }
   ],
   "source": [
    "cosine_similarity(vectors[0],vectors[1])"
   ]
  },
  {
   "cell_type": "code",
   "execution_count": 124,
   "metadata": {
    "id": "Stv3qsfu6oY4"
   },
   "outputs": [],
   "source": [
    "from sklearn.metrics import pairwise as pw\n",
    "\n",
    "index = 0\n",
    "def similar_players(index=0,top=10):\n",
    "    similarity_scores = {}\n",
    "    for k,v in vectors.items(): \n",
    "        similarity_scores[k] = cosine_similarity(vectors[index],v)\n",
    "    similarity_scores = sorted(similarity_scores.items(), key = lambda item: item[1], reverse=True)\n",
    "    return similarity_scores[1:top+1]"
   ]
  },
  {
   "cell_type": "code",
   "execution_count": 125,
   "metadata": {
    "colab": {
     "base_uri": "https://localhost:8080/"
    },
    "id": "OEkfaQlU6oc5",
    "outputId": "1e7fe82e-8bb8-4920-c511-98f3d47eb3dc"
   },
   "outputs": [
    {
     "data": {
      "text/plain": [
       "1"
      ]
     },
     "execution_count": 125,
     "metadata": {},
     "output_type": "execute_result"
    }
   ],
   "source": [
    "basic_info2[basic_info2.iloc[:,0]=='Robert Lewandowski'].index.values[0]"
   ]
  },
  {
   "cell_type": "code",
   "execution_count": 126,
   "metadata": {
    "colab": {
     "base_uri": "https://localhost:8080/",
     "height": 1000
    },
    "id": "tvHrXFWt7vA_",
    "outputId": "779a6f0a-6fa1-4203-ee32-1d008c774c92"
   },
   "outputs": [
    {
     "name": "stdout",
     "output_type": "stream",
     "text": [
      "Players similar to: Stefan Aigner :\n",
      "\n"
     ]
    },
    {
     "data": {
      "text/html": [
       "<div>\n",
       "<style scoped>\n",
       "    .dataframe tbody tr th:only-of-type {\n",
       "        vertical-align: middle;\n",
       "    }\n",
       "\n",
       "    .dataframe tbody tr th {\n",
       "        vertical-align: top;\n",
       "    }\n",
       "\n",
       "    .dataframe thead th {\n",
       "        text-align: right;\n",
       "    }\n",
       "</style>\n",
       "<table border=\"1\" class=\"dataframe\">\n",
       "  <thead>\n",
       "    <tr style=\"text-align: right;\">\n",
       "      <th></th>\n",
       "      <th>player_name</th>\n",
       "      <th>assists</th>\n",
       "      <th>position</th>\n",
       "      <th>xG</th>\n",
       "      <th>Similarity</th>\n",
       "    </tr>\n",
       "  </thead>\n",
       "  <tbody>\n",
       "    <tr>\n",
       "      <th>7016</th>\n",
       "      <td>Vicente Iborra</td>\n",
       "      <td>1</td>\n",
       "      <td>M S</td>\n",
       "      <td>6.881369683891535</td>\n",
       "      <td>0.969091</td>\n",
       "    </tr>\n",
       "    <tr>\n",
       "      <th>12484</th>\n",
       "      <td>Nolan Roux</td>\n",
       "      <td>1</td>\n",
       "      <td>F M S</td>\n",
       "      <td>8.950709921307864</td>\n",
       "      <td>0.950989</td>\n",
       "    </tr>\n",
       "    <tr>\n",
       "      <th>4954</th>\n",
       "      <td>Ashley Barnes</td>\n",
       "      <td>0</td>\n",
       "      <td>F M S</td>\n",
       "      <td>6.560562789440155</td>\n",
       "      <td>0.945938</td>\n",
       "    </tr>\n",
       "    <tr>\n",
       "      <th>17819</th>\n",
       "      <td>Luca Rigoni</td>\n",
       "      <td>1</td>\n",
       "      <td>M</td>\n",
       "      <td>5.997137866914272</td>\n",
       "      <td>0.943965</td>\n",
       "    </tr>\n",
       "    <tr>\n",
       "      <th>12513</th>\n",
       "      <td>Younousse Sankhare</td>\n",
       "      <td>1</td>\n",
       "      <td>F M S</td>\n",
       "      <td>6.34279365092516</td>\n",
       "      <td>0.939909</td>\n",
       "    </tr>\n",
       "    <tr>\n",
       "      <th>15524</th>\n",
       "      <td>Sergei Kornilenko</td>\n",
       "      <td>1</td>\n",
       "      <td>F M S</td>\n",
       "      <td>6.559561563655733</td>\n",
       "      <td>0.939739</td>\n",
       "    </tr>\n",
       "    <tr>\n",
       "      <th>9689</th>\n",
       "      <td>Carlos Fernández</td>\n",
       "      <td>3</td>\n",
       "      <td>F M S</td>\n",
       "      <td>9.81347555015236</td>\n",
       "      <td>0.938762</td>\n",
       "    </tr>\n",
       "    <tr>\n",
       "      <th>7003</th>\n",
       "      <td>David Barral</td>\n",
       "      <td>0</td>\n",
       "      <td>F M S</td>\n",
       "      <td>10.158796131610867</td>\n",
       "      <td>0.937861</td>\n",
       "    </tr>\n",
       "    <tr>\n",
       "      <th>17824</th>\n",
       "      <td>Stefano Mauri</td>\n",
       "      <td>2</td>\n",
       "      <td>F M S</td>\n",
       "      <td>7.055956742726266</td>\n",
       "      <td>0.937631</td>\n",
       "    </tr>\n",
       "    <tr>\n",
       "      <th>7536</th>\n",
       "      <td>Willian José</td>\n",
       "      <td>1</td>\n",
       "      <td>F S</td>\n",
       "      <td>7.039444365538657</td>\n",
       "      <td>0.936683</td>\n",
       "    </tr>\n",
       "    <tr>\n",
       "      <th>7526</th>\n",
       "      <td>Javi Guerra</td>\n",
       "      <td>0</td>\n",
       "      <td>F S</td>\n",
       "      <td>11.420184656977654</td>\n",
       "      <td>0.935770</td>\n",
       "    </tr>\n",
       "    <tr>\n",
       "      <th>6476</th>\n",
       "      <td>Wilfried Zaha</td>\n",
       "      <td>2</td>\n",
       "      <td>F M S</td>\n",
       "      <td>8.804439894855024</td>\n",
       "      <td>0.934977</td>\n",
       "    </tr>\n",
       "    <tr>\n",
       "      <th>9165</th>\n",
       "      <td>Karl Toko Ekambi</td>\n",
       "      <td>1</td>\n",
       "      <td>F M S</td>\n",
       "      <td>10.614568071439864</td>\n",
       "      <td>0.934891</td>\n",
       "    </tr>\n",
       "    <tr>\n",
       "      <th>19496</th>\n",
       "      <td>Leonardo Pavoletti</td>\n",
       "      <td>0</td>\n",
       "      <td>F S</td>\n",
       "      <td>11.58760891109705</td>\n",
       "      <td>0.932747</td>\n",
       "    </tr>\n",
       "    <tr>\n",
       "      <th>5976</th>\n",
       "      <td>Callum Wilson</td>\n",
       "      <td>1</td>\n",
       "      <td>F S</td>\n",
       "      <td>9.842873975634577</td>\n",
       "      <td>0.932420</td>\n",
       "    </tr>\n",
       "    <tr>\n",
       "      <th>481</th>\n",
       "      <td>Ja-Cheol Koo</td>\n",
       "      <td>1</td>\n",
       "      <td>F M S</td>\n",
       "      <td>3.953707098960877</td>\n",
       "      <td>0.931544</td>\n",
       "    </tr>\n",
       "    <tr>\n",
       "      <th>9684</th>\n",
       "      <td>Ante Budimir</td>\n",
       "      <td>2</td>\n",
       "      <td>F S</td>\n",
       "      <td>10.8874979801476</td>\n",
       "      <td>0.931506</td>\n",
       "    </tr>\n",
       "    <tr>\n",
       "      <th>16855</th>\n",
       "      <td>Joel Fameyeh</td>\n",
       "      <td>0</td>\n",
       "      <td>F M S</td>\n",
       "      <td>4.7663022205233565</td>\n",
       "      <td>0.931442</td>\n",
       "    </tr>\n",
       "    <tr>\n",
       "      <th>12487</th>\n",
       "      <td>Moussa Konate</td>\n",
       "      <td>1</td>\n",
       "      <td>F S</td>\n",
       "      <td>10.215819337405263</td>\n",
       "      <td>0.928841</td>\n",
       "    </tr>\n",
       "    <tr>\n",
       "      <th>6502</th>\n",
       "      <td>David McGoldrick</td>\n",
       "      <td>1</td>\n",
       "      <td>F M S</td>\n",
       "      <td>7.6057522259652615</td>\n",
       "      <td>0.928243</td>\n",
       "    </tr>\n",
       "    <tr>\n",
       "      <th>8609</th>\n",
       "      <td>Raúl García</td>\n",
       "      <td>1</td>\n",
       "      <td>F M S</td>\n",
       "      <td>10.262933790683746</td>\n",
       "      <td>0.927322</td>\n",
       "    </tr>\n",
       "    <tr>\n",
       "      <th>7528</th>\n",
       "      <td>Charles</td>\n",
       "      <td>3</td>\n",
       "      <td>F S</td>\n",
       "      <td>11.038674703799188</td>\n",
       "      <td>0.926553</td>\n",
       "    </tr>\n",
       "    <tr>\n",
       "      <th>20597</th>\n",
       "      <td>Stefano Okaka</td>\n",
       "      <td>2</td>\n",
       "      <td>F S</td>\n",
       "      <td>8.239937165752053</td>\n",
       "      <td>0.926380</td>\n",
       "    </tr>\n",
       "    <tr>\n",
       "      <th>6989</th>\n",
       "      <td>Antoine Griezmann</td>\n",
       "      <td>1</td>\n",
       "      <td>F M S</td>\n",
       "      <td>14.709661848843098</td>\n",
       "      <td>0.926329</td>\n",
       "    </tr>\n",
       "    <tr>\n",
       "      <th>7537</th>\n",
       "      <td>Felipe Caicedo</td>\n",
       "      <td>0</td>\n",
       "      <td>F S</td>\n",
       "      <td>8.372554460540414</td>\n",
       "      <td>0.926318</td>\n",
       "    </tr>\n",
       "    <tr>\n",
       "      <th>9150</th>\n",
       "      <td>Cristhian Stuani</td>\n",
       "      <td>0</td>\n",
       "      <td>F S</td>\n",
       "      <td>14.402687706053257</td>\n",
       "      <td>0.924686</td>\n",
       "    </tr>\n",
       "    <tr>\n",
       "      <th>18983</th>\n",
       "      <td>Mario Pasalic</td>\n",
       "      <td>1</td>\n",
       "      <td>M S</td>\n",
       "      <td>6.714972791261972</td>\n",
       "      <td>0.924218</td>\n",
       "    </tr>\n",
       "    <tr>\n",
       "      <th>20592</th>\n",
       "      <td>Felipe Caicedo</td>\n",
       "      <td>2</td>\n",
       "      <td>F S</td>\n",
       "      <td>6.388953385874629</td>\n",
       "      <td>0.923019</td>\n",
       "    </tr>\n",
       "    <tr>\n",
       "      <th>8595</th>\n",
       "      <td>Maxi Gómez</td>\n",
       "      <td>4</td>\n",
       "      <td>F S</td>\n",
       "      <td>16.01419635489583</td>\n",
       "      <td>0.922577</td>\n",
       "    </tr>\n",
       "    <tr>\n",
       "      <th>3338</th>\n",
       "      <td>Mame Biram Diouf</td>\n",
       "      <td>3</td>\n",
       "      <td>F M S</td>\n",
       "      <td>11.64697848726064</td>\n",
       "      <td>0.922559</td>\n",
       "    </tr>\n",
       "    <tr>\n",
       "      <th>5973</th>\n",
       "      <td>Jordan Ayew</td>\n",
       "      <td>2</td>\n",
       "      <td>F M</td>\n",
       "      <td>7.676179042086005</td>\n",
       "      <td>0.922314</td>\n",
       "    </tr>\n",
       "    <tr>\n",
       "      <th>9716</th>\n",
       "      <td>Enis Bardhi</td>\n",
       "      <td>2</td>\n",
       "      <td>M S</td>\n",
       "      <td>5.245582517236472</td>\n",
       "      <td>0.922070</td>\n",
       "    </tr>\n",
       "    <tr>\n",
       "      <th>13017</th>\n",
       "      <td>Falcao</td>\n",
       "      <td>2</td>\n",
       "      <td>F S</td>\n",
       "      <td>15.046616622246802</td>\n",
       "      <td>0.921169</td>\n",
       "    </tr>\n",
       "    <tr>\n",
       "      <th>20611</th>\n",
       "      <td>Matteo Pessina</td>\n",
       "      <td>0</td>\n",
       "      <td>F M S</td>\n",
       "      <td>5.356207761913538</td>\n",
       "      <td>0.921013</td>\n",
       "    </tr>\n",
       "    <tr>\n",
       "      <th>940</th>\n",
       "      <td>Lars Stindl</td>\n",
       "      <td>3</td>\n",
       "      <td>F M S</td>\n",
       "      <td>9.092252019792797</td>\n",
       "      <td>0.920894</td>\n",
       "    </tr>\n",
       "    <tr>\n",
       "      <th>16419</th>\n",
       "      <td>Sly</td>\n",
       "      <td>2</td>\n",
       "      <td>D F M S</td>\n",
       "      <td>7.136179809924215</td>\n",
       "      <td>0.920785</td>\n",
       "    </tr>\n",
       "    <tr>\n",
       "      <th>3324</th>\n",
       "      <td>Diego Costa</td>\n",
       "      <td>3</td>\n",
       "      <td>F S</td>\n",
       "      <td>15.219103761017324</td>\n",
       "      <td>0.920601</td>\n",
       "    </tr>\n",
       "    <tr>\n",
       "      <th>8077</th>\n",
       "      <td>Nicola Sansone</td>\n",
       "      <td>3</td>\n",
       "      <td>F M S</td>\n",
       "      <td>7.412294736132027</td>\n",
       "      <td>0.919996</td>\n",
       "    </tr>\n",
       "    <tr>\n",
       "      <th>7010</th>\n",
       "      <td>Juanmi</td>\n",
       "      <td>0</td>\n",
       "      <td>F M S</td>\n",
       "      <td>7.488385772332549</td>\n",
       "      <td>0.919805</td>\n",
       "    </tr>\n",
       "    <tr>\n",
       "      <th>11949</th>\n",
       "      <td>Famara Diedhiou</td>\n",
       "      <td>1</td>\n",
       "      <td>F S</td>\n",
       "      <td>8.624582264572384</td>\n",
       "      <td>0.919145</td>\n",
       "    </tr>\n",
       "    <tr>\n",
       "      <th>2389</th>\n",
       "      <td>Ruben Vargas</td>\n",
       "      <td>1</td>\n",
       "      <td>M S</td>\n",
       "      <td>6.761658436618745</td>\n",
       "      <td>0.918900</td>\n",
       "    </tr>\n",
       "    <tr>\n",
       "      <th>17811</th>\n",
       "      <td>Simone Zaza</td>\n",
       "      <td>2</td>\n",
       "      <td>F S</td>\n",
       "      <td>10.17419253475964</td>\n",
       "      <td>0.918862</td>\n",
       "    </tr>\n",
       "    <tr>\n",
       "      <th>8602</th>\n",
       "      <td>Ángel</td>\n",
       "      <td>2</td>\n",
       "      <td>F S</td>\n",
       "      <td>10.469759402796628</td>\n",
       "      <td>0.918009</td>\n",
       "    </tr>\n",
       "    <tr>\n",
       "      <th>20021</th>\n",
       "      <td>Leonardo Pavoletti</td>\n",
       "      <td>1</td>\n",
       "      <td>F S</td>\n",
       "      <td>12.38432938978076</td>\n",
       "      <td>0.917884</td>\n",
       "    </tr>\n",
       "    <tr>\n",
       "      <th>456</th>\n",
       "      <td>Chicharito</td>\n",
       "      <td>2</td>\n",
       "      <td>F S</td>\n",
       "      <td>12.3923568893224</td>\n",
       "      <td>0.917807</td>\n",
       "    </tr>\n",
       "    <tr>\n",
       "      <th>5995</th>\n",
       "      <td>Todd Cantwell</td>\n",
       "      <td>2</td>\n",
       "      <td>M S</td>\n",
       "      <td>5.67504897993058</td>\n",
       "      <td>0.917574</td>\n",
       "    </tr>\n",
       "    <tr>\n",
       "      <th>1401</th>\n",
       "      <td>Kevin Volland</td>\n",
       "      <td>2</td>\n",
       "      <td>F M S</td>\n",
       "      <td>10.532188460230829</td>\n",
       "      <td>0.917522</td>\n",
       "    </tr>\n",
       "    <tr>\n",
       "      <th>12510</th>\n",
       "      <td>Isaac Mbenza</td>\n",
       "      <td>0</td>\n",
       "      <td>F M S</td>\n",
       "      <td>7.547267988324165</td>\n",
       "      <td>0.916513</td>\n",
       "    </tr>\n",
       "    <tr>\n",
       "      <th>1411</th>\n",
       "      <td>Guido Burgstaller</td>\n",
       "      <td>4</td>\n",
       "      <td>F M S</td>\n",
       "      <td>9.003491194918752</td>\n",
       "      <td>0.916347</td>\n",
       "    </tr>\n",
       "    <tr>\n",
       "      <th>2344</th>\n",
       "      <td>Jhon Córdoba</td>\n",
       "      <td>2</td>\n",
       "      <td>F S</td>\n",
       "      <td>8.334681287407875</td>\n",
       "      <td>0.916077</td>\n",
       "    </tr>\n",
       "  </tbody>\n",
       "</table>\n",
       "</div>"
      ],
      "text/plain": [
       "              player_name  assists position                  xG  Similarity\n",
       "7016       Vicente Iborra        1      M S   6.881369683891535    0.969091\n",
       "12484          Nolan Roux        1    F M S   8.950709921307864    0.950989\n",
       "4954        Ashley Barnes        0    F M S   6.560562789440155    0.945938\n",
       "17819         Luca Rigoni        1        M   5.997137866914272    0.943965\n",
       "12513  Younousse Sankhare        1    F M S    6.34279365092516    0.939909\n",
       "15524   Sergei Kornilenko        1    F M S   6.559561563655733    0.939739\n",
       "9689     Carlos Fernández        3    F M S    9.81347555015236    0.938762\n",
       "7003         David Barral        0    F M S  10.158796131610867    0.937861\n",
       "17824       Stefano Mauri        2    F M S   7.055956742726266    0.937631\n",
       "7536         Willian José        1      F S   7.039444365538657    0.936683\n",
       "7526          Javi Guerra        0      F S  11.420184656977654    0.935770\n",
       "6476        Wilfried Zaha        2    F M S   8.804439894855024    0.934977\n",
       "9165     Karl Toko Ekambi        1    F M S  10.614568071439864    0.934891\n",
       "19496  Leonardo Pavoletti        0      F S   11.58760891109705    0.932747\n",
       "5976        Callum Wilson        1      F S   9.842873975634577    0.932420\n",
       "481          Ja-Cheol Koo        1    F M S   3.953707098960877    0.931544\n",
       "9684         Ante Budimir        2      F S    10.8874979801476    0.931506\n",
       "16855        Joel Fameyeh        0    F M S  4.7663022205233565    0.931442\n",
       "12487       Moussa Konate        1      F S  10.215819337405263    0.928841\n",
       "6502     David McGoldrick        1    F M S  7.6057522259652615    0.928243\n",
       "8609          Raúl García        1    F M S  10.262933790683746    0.927322\n",
       "7528              Charles        3      F S  11.038674703799188    0.926553\n",
       "20597       Stefano Okaka        2      F S   8.239937165752053    0.926380\n",
       "6989    Antoine Griezmann        1    F M S  14.709661848843098    0.926329\n",
       "7537       Felipe Caicedo        0      F S   8.372554460540414    0.926318\n",
       "9150     Cristhian Stuani        0      F S  14.402687706053257    0.924686\n",
       "18983       Mario Pasalic        1      M S   6.714972791261972    0.924218\n",
       "20592      Felipe Caicedo        2      F S   6.388953385874629    0.923019\n",
       "8595           Maxi Gómez        4      F S   16.01419635489583    0.922577\n",
       "3338     Mame Biram Diouf        3    F M S   11.64697848726064    0.922559\n",
       "5973          Jordan Ayew        2      F M   7.676179042086005    0.922314\n",
       "9716          Enis Bardhi        2      M S   5.245582517236472    0.922070\n",
       "13017              Falcao        2      F S  15.046616622246802    0.921169\n",
       "20611      Matteo Pessina        0    F M S   5.356207761913538    0.921013\n",
       "940           Lars Stindl        3    F M S   9.092252019792797    0.920894\n",
       "16419                 Sly        2  D F M S   7.136179809924215    0.920785\n",
       "3324          Diego Costa        3      F S  15.219103761017324    0.920601\n",
       "8077       Nicola Sansone        3    F M S   7.412294736132027    0.919996\n",
       "7010               Juanmi        0    F M S   7.488385772332549    0.919805\n",
       "11949     Famara Diedhiou        1      F S   8.624582264572384    0.919145\n",
       "2389         Ruben Vargas        1      M S   6.761658436618745    0.918900\n",
       "17811         Simone Zaza        2      F S   10.17419253475964    0.918862\n",
       "8602                Ángel        2      F S  10.469759402796628    0.918009\n",
       "20021  Leonardo Pavoletti        1      F S   12.38432938978076    0.917884\n",
       "456            Chicharito        2      F S    12.3923568893224    0.917807\n",
       "5995        Todd Cantwell        2      M S    5.67504897993058    0.917574\n",
       "1401        Kevin Volland        2    F M S  10.532188460230829    0.917522\n",
       "12510        Isaac Mbenza        0    F M S   7.547267988324165    0.916513\n",
       "1411    Guido Burgstaller        4    F M S   9.003491194918752    0.916347\n",
       "2344         Jhon Córdoba        2      F S   8.334681287407875    0.916077"
      ]
     },
     "execution_count": 126,
     "metadata": {},
     "output_type": "execute_result"
    }
   ],
   "source": [
    "player = np.random.randint(0,20)\n",
    "top_sim_players = similar_players(index=player,top=50)\n",
    "print('Players similar to:',df4.loc[player,'player_name'],\":\\n\")\n",
    "\n",
    "\n",
    "top_players = {}\n",
    "for index,similarity in top_sim_players:\n",
    "    info = list(basic_info2.loc[index,['player_name','assists','position','xG']].values)\n",
    "    info.insert(len(info),similarity)\n",
    "    top_players[index] = info\n",
    "\n",
    "output = pd.DataFrame.from_dict(data=top_players, orient='index',columns=['player_name','assists','position','xG','Similarity'])\n",
    "output.sort_values(by=['Similarity'],ascending=False)"
   ]
  },
  {
   "cell_type": "code",
   "execution_count": 128,
   "metadata": {
    "colab": {
     "base_uri": "https://localhost:8080/",
     "height": 542
    },
    "id": "1QDu_msV87hm",
    "outputId": "bfe7753f-3f44-4a49-8890-b636bad43871"
   },
   "outputs": [
    {
     "ename": "NameError",
     "evalue": "name 'dff' is not defined",
     "output_type": "error",
     "traceback": [
      "\u001b[1;31m---------------------------------------------------------------------------\u001b[0m",
      "\u001b[1;31mNameError\u001b[0m                                 Traceback (most recent call last)",
      "\u001b[1;32m<ipython-input-128-02510ef2eb34>\u001b[0m in \u001b[0;36m<module>\u001b[1;34m\u001b[0m\n\u001b[1;32m----> 1\u001b[1;33m \u001b[0mfig\u001b[0m \u001b[1;33m=\u001b[0m \u001b[0mgo\u001b[0m\u001b[1;33m.\u001b[0m\u001b[0mFigure\u001b[0m\u001b[1;33m(\u001b[0m\u001b[0mgo\u001b[0m\u001b[1;33m.\u001b[0m\u001b[0mBar\u001b[0m\u001b[1;33m(\u001b[0m\u001b[0mx\u001b[0m\u001b[1;33m=\u001b[0m\u001b[0mdff\u001b[0m\u001b[1;33m[\u001b[0m\u001b[1;34m'Similarity'\u001b[0m\u001b[1;33m]\u001b[0m\u001b[1;33m.\u001b[0m\u001b[0mvalues\u001b[0m\u001b[1;33m,\u001b[0m\u001b[0my\u001b[0m\u001b[1;33m=\u001b[0m\u001b[0mdf\u001b[0m\u001b[1;33m[\u001b[0m\u001b[1;34m'player_name'\u001b[0m\u001b[1;33m]\u001b[0m\u001b[1;33m,\u001b[0m\u001b[0morientation\u001b[0m\u001b[1;33m=\u001b[0m\u001b[1;34m'h'\u001b[0m\u001b[1;33m)\u001b[0m\u001b[1;33m)\u001b[0m\u001b[1;33m\u001b[0m\u001b[1;33m\u001b[0m\u001b[0m\n\u001b[0m\u001b[0;32m      2\u001b[0m \u001b[0mfig\u001b[0m\u001b[1;33m.\u001b[0m\u001b[0mupdate_layout\u001b[0m\u001b[1;33m(\u001b[0m\u001b[0mtitle_text\u001b[0m\u001b[1;33m=\u001b[0m \u001b[1;34mf\"Players similar to {df4.loc[player,'player_name']}\"\u001b[0m\u001b[1;33m)\u001b[0m\u001b[1;33m\u001b[0m\u001b[1;33m\u001b[0m\u001b[0m\n\u001b[0;32m      3\u001b[0m \u001b[0mfig\u001b[0m\u001b[1;33m.\u001b[0m\u001b[0mshow\u001b[0m\u001b[1;33m(\u001b[0m\u001b[1;33m)\u001b[0m\u001b[1;33m\u001b[0m\u001b[1;33m\u001b[0m\u001b[0m\n",
      "\u001b[1;31mNameError\u001b[0m: name 'dff' is not defined"
     ]
    }
   ],
   "source": [
    "fig = go.Figure(go.Bar(x=dff['Similarity'].values,y=df['player_name'],orientation='h'))\n",
    "fig.update_layout(title_text= f\"Players similar to {df4.loc[player,'player_name']}\")\n",
    "fig.show()"
   ]
  },
  {
   "cell_type": "code",
   "execution_count": null,
   "metadata": {
    "id": "E7VuyMqd7FKB"
   },
   "outputs": [],
   "source": []
  }
 ],
 "metadata": {
  "accelerator": "GPU",
  "colab": {
   "collapsed_sections": [],
   "machine_shape": "hm",
   "name": "scouting project.ipynb",
   "provenance": []
  },
  "kernelspec": {
   "display_name": "Python 3",
   "language": "python",
   "name": "python3"
  },
  "language_info": {
   "codemirror_mode": {
    "name": "ipython",
    "version": 3
   },
   "file_extension": ".py",
   "mimetype": "text/x-python",
   "name": "python",
   "nbconvert_exporter": "python",
   "pygments_lexer": "ipython3",
   "version": "3.8.5"
  }
 },
 "nbformat": 4,
 "nbformat_minor": 1
}
